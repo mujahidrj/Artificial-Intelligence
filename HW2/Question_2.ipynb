{
  "nbformat": 4,
  "nbformat_minor": 0,
  "metadata": {
    "colab": {
      "name": "HW2 Question 2.ipynb",
      "provenance": [],
      "authorship_tag": "ABX9TyOjCoaRmvCChCvA6jkaxCGB",
      "include_colab_link": true
    },
    "kernelspec": {
      "name": "python3",
      "display_name": "Python 3"
    }
  },
  "cells": [
    {
      "cell_type": "markdown",
      "metadata": {
        "id": "view-in-github",
        "colab_type": "text"
      },
      "source": [
        "<a href=\"https://colab.research.google.com/github/mujahidrj/Artificial-Intelligence/blob/master/HW2/Question_2.ipynb\" target=\"_parent\"><img src=\"https://colab.research.google.com/assets/colab-badge.svg\" alt=\"Open In Colab\"/></a>"
      ]
    },
    {
      "cell_type": "markdown",
      "metadata": {
        "id": "MekV1hxKJq6Q",
        "colab_type": "text"
      },
      "source": [
        "Problem 2\n",
        "\n",
        "Extend the code for mini-batch gradient descent in the notebook linear_regression_simple_numpy_implementation.ipynb to the case n=2, that is, the model parameters are the two weights w1 and w2 and the bias term b. (You can remove the code for batch-gradient descent and stochastic gradient descent.) Make sure that your code is vectorized.\n",
        "\n",
        "To solve this problem, you have to create data points that approximately lie on a 2D plane, display these points, and display the predictions of your model after tuning the parameters with gradient descent."
      ]
    },
    {
      "cell_type": "code",
      "metadata": {
        "id": "csMYAkLRUjVu",
        "colab_type": "code",
        "colab": {}
      },
      "source": [
        "import numpy as np\n",
        "%matplotlib inline\n",
        "import matplotlib as mpl\n",
        "import matplotlib.pyplot as plt\n",
        "mpl.rc('axes', labelsize=14)\n",
        "mpl.rc('xtick', labelsize=12)\n",
        "mpl.rc('ytick', labelsize=12)\n",
        "np.random.seed(42)"
      ],
      "execution_count": 0,
      "outputs": []
    },
    {
      "cell_type": "code",
      "metadata": {
        "id": "_XpWaY7BUsxQ",
        "colab_type": "code",
        "colab": {}
      },
      "source": [
        "m = 75\n",
        "X = 2 * np.random.rand(m, 1)\n",
        "y = 4 + 3 * X + np.random.rand(m, 1)"
      ],
      "execution_count": 0,
      "outputs": []
    },
    {
      "cell_type": "code",
      "metadata": {
        "id": "kShlN6nuUwu1",
        "colab_type": "code",
        "outputId": "d86bbc9d-d9f7-41cb-9732-2da64e0d9acc",
        "colab": {
          "base_uri": "https://localhost:8080/",
          "height": 290
        }
      },
      "source": [
        "plt.plot(X, y, \"b.\")\n",
        "plt.xlabel(\"$x_1$\", fontsize=18)\n",
        "plt.ylabel(\"$y$\", rotation=0, fontsize=18)\n",
        "plt.axis([0, 2, 0, 15])\n",
        "plt.show()"
      ],
      "execution_count": 4,
      "outputs": [
        {
          "output_type": "display_data",
          "data": {
            "image/png": "[encoded data removed]",
            "text/plain": [
              "<Figure size 432x288 with 1 Axes>"
            ]
          },
          "metadata": {
            "tags": []
          }
        }
      ]
    },
    {
      "cell_type": "code",
      "metadata": {
        "id": "oq0tGAvmWFUB",
        "colab_type": "code",
        "colab": {}
      },
      "source": [
        "X_b = np.column_stack([np.ones((m, 1)), X])"
      ],
      "execution_count": 0,
      "outputs": []
    },
    {
      "cell_type": "code",
      "metadata": {
        "id": "x-idAhf5WLN0",
        "colab_type": "code",
        "colab": {}
      },
      "source": [
        "# create array with x1=0 and x1=2\n",
        "X_new = np.array([[0], [2]])\n",
        "# add x0 = 1 to each instance\n",
        "X_new_b = np.column_stack([np.ones((2, 1)), X_new])"
      ],
      "execution_count": 0,
      "outputs": []
    },
    {
      "cell_type": "code",
      "metadata": {
        "id": "TZDzBYeLVnUq",
        "colab_type": "code",
        "colab": {}
      },
      "source": [
        "#numEpochs\n",
        "epochs = 20\n",
        "# learning rate\n",
        "lr = 0.01\n",
        "# fix initial random weight for gradient descent (batch gradient descent)\n",
        "initial_weight = np.random.randn(2, 1) "
      ],
      "execution_count": 0,
      "outputs": []
    },
    {
      "cell_type": "code",
      "metadata": {
        "id": "qecHcyrhVbB-",
        "colab_type": "code",
        "colab": {}
      },
      "source": [
        "weight = initial_weight\n",
        "weight_path_mgd = []\n",
        "batch_size = 2\n",
        "\n",
        "weight_path_mgd.append(weight)\n",
        "for epoch in range(epochs):\n",
        "    shuffled_indices = np.random.permutation(m)\n",
        "    X_b_shuffled = X_b[shuffled_indices]\n",
        "    y_shuffled = y[shuffled_indices]\n",
        "    for i in range(0, m, batch_size):\n",
        "        xi = X_b_shuffled[i:i+batch_size]\n",
        "        yi = y_shuffled[i:i+batch_size]\n",
        "        gradient = 1 / batch_size * xi.T.dot(xi.dot(weight) - yi)\n",
        "        weight = weight - lr * gradient\n",
        "        weight_path_mgd.append(weight)"
      ],
      "execution_count": 0,
      "outputs": []
    },
    {
      "cell_type": "code",
      "metadata": {
        "id": "Bc7_MS29WfTb",
        "colab_type": "code",
        "outputId": "dba6cc9b-8b6e-4fdb-8ad8-5fce2ebaafd3",
        "colab": {
          "base_uri": "https://localhost:8080/",
          "height": 51
        }
      },
      "source": [
        "weight_path_mgd[-1]"
      ],
      "execution_count": 9,
      "outputs": [
        {
          "output_type": "execute_result",
          "data": {
            "text/plain": [
              "array([[3.97467832],\n",
              "       [3.38428541]])"
            ]
          },
          "metadata": {
            "tags": []
          },
          "execution_count": 9
        }
      ]
    },
    {
      "cell_type": "code",
      "metadata": {
        "id": "pNlHemrdaGqu",
        "colab_type": "code",
        "colab": {}
      },
      "source": [
        "weight_path_mgd = np.array(weight_path_mgd)"
      ],
      "execution_count": 0,
      "outputs": []
    },
    {
      "cell_type": "code",
      "metadata": {
        "id": "77vEKFY4aCmS",
        "colab_type": "code",
        "outputId": "0850a22c-da7b-4a06-a011-d4d2bd0f8298",
        "colab": {
          "base_uri": "https://localhost:8080/",
          "height": 731
        }
      },
      "source": [
        "plt.figure(figsize=(12,12))\n",
        "plt.plot(weight_path_mgd[:, 0], weight_path_mgd[:, 1], \"g-s\", linewidth=2, label=\"mini-batch\")\n",
        "plt.legend(loc=\"upper left\", fontsize=16)\n",
        "plt.xlabel(r\"$w_0$\", fontsize=20)\n",
        "plt.ylabel(r\"$w_1$   \", fontsize=20, rotation=0)\n",
        "plt.axis([-1, 5, -1, 4])\n",
        "plt.show()"
      ],
      "execution_count": 11,
      "outputs": [
        {
          "output_type": "display_data",
          "data": {
            "image/png": "[encoded data removed]",
            "text/plain": [
              "<Figure size 864x864 with 1 Axes>"
            ]
          },
          "metadata": {
            "tags": []
          }
        }
      ]
    },
    {
      "cell_type": "code",
      "metadata": {
        "id": "fWXEYXr0t4VR",
        "colab_type": "code",
        "outputId": "f21a8a04-2b5c-403b-bd74-570b05acd2c9",
        "colab": {
          "base_uri": "https://localhost:8080/",
          "height": 731
        }
      },
      "source": [
        "plt.figure(figsize=(12,12))\n",
        "plt.plot(weight_path_mgd[:, 0], weight_path_mgd[:, 1], \"g-s\", linewidth=2, label=\"mini-batch\")\n",
        "plt.legend(loc=\"upper left\", fontsize=16)\n",
        "plt.xlabel(r\"$w_0$\", fontsize=20)\n",
        "plt.ylabel(r\"$w_1$   \", fontsize=20, rotation=0)\n",
        "plt.axis([3, 4.5, 2.5, 4])\n",
        "plt.show()"
      ],
      "execution_count": 13,
      "outputs": [
        {
          "output_type": "display_data",
          "data": {
            "image/png": "[encoded data removed]",
            "text/plain": [
              "<Figure size 864x864 with 1 Axes>"
            ]
          },
          "metadata": {
            "tags": []
          }
        }
      ]
    }
  ]
}