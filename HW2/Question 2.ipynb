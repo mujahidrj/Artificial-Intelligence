{
  "nbformat": 4,
  "nbformat_minor": 0,
  "metadata": {
    "colab": {
      "name": "HW2 Question 2.ipynb",
      "provenance": [],
      "authorship_tag": "ABX9TyNryhKRZHAidxdBC60myZqQ",
      "include_colab_link": true
    },
    "kernelspec": {
      "name": "python3",
      "display_name": "Python 3"
    }
  },
  "cells": [
    {
      "cell_type": "markdown",
      "metadata": {
        "id": "view-in-github",
        "colab_type": "text"
      },
      "source": [
        "<a href=\"https://colab.research.google.com/github/mujahidrj/Artificial-Intelligence/blob/master/HW2/Question%202.ipynb\" target=\"_parent\"><img src=\"https://colab.research.google.com/assets/colab-badge.svg\" alt=\"Open In Colab\"/></a>"
      ]
    },
    {
      "cell_type": "markdown",
      "metadata": {
        "id": "MekV1hxKJq6Q",
        "colab_type": "text"
      },
      "source": [
        "Problem 2\n",
        "\n",
        "Extend the code for mini-batch gradient descent in the notebook linear_regression_simple_numpy_implementation.ipynb to the case n=2, that is, the model parameters are the two weights w1 and w2 and the bias term b. (You can remove the code for batch-gradient descent and stochastic gradient descent.) Make sure that your code is vectorized.\n",
        "\n",
        "To solve this problem, you have to create data points that approximately lie on a 2D plane, display these points, and display the predictions of your model after tuning the parameters with gradient descent."
      ]
    },
    {
      "cell_type": "code",
      "metadata": {
        "id": "csMYAkLRUjVu",
        "colab_type": "code",
        "colab": {}
      },
      "source": [
        "import numpy as np\n",
        "%matplotlib inline\n",
        "import matplotlib as mpl\n",
        "import matplotlib.pyplot as plt\n",
        "mpl.rc('axes', labelsize=14)\n",
        "mpl.rc('xtick', labelsize=12)\n",
        "mpl.rc('ytick', labelsize=12)\n",
        "np.random.seed(42)"
      ],
      "execution_count": 0,
      "outputs": []
    },
    {
      "cell_type": "code",
      "metadata": {
        "id": "_XpWaY7BUsxQ",
        "colab_type": "code",
        "colab": {}
      },
      "source": [
        "m = 100\n",
        "X = 2 * np.random.rand(m, 1)\n",
        "X2 = 2 * np.random.rand(m, 1)\n",
        "y = 4 + 3 * X + np.random.rand(m, 1)"
      ],
      "execution_count": 0,
      "outputs": []
    },
    {
      "cell_type": "code",
      "metadata": {
        "id": "kShlN6nuUwu1",
        "colab_type": "code",
        "outputId": "75a8324f-6075-451f-84e6-b0fe7dfb2615",
        "colab": {
          "base_uri": "https://localhost:8080/",
          "height": 290
        }
      },
      "source": [
        "plt.plot(X, y, \"b.\")\n",
        "plt.xlabel(\"$x_1$\", fontsize=18)\n",
        "plt.ylabel(\"$y$\", rotation=0, fontsize=18)\n",
        "plt.axis([0, 2, 0, 15])\n",
        "plt.show()"
      ],
      "execution_count": 21,
      "outputs": [
        {
          "output_type": "display_data",
          "data": {
            "image/png": "[encoded data removed]",
            "text/plain": [
              "<Figure size 432x288 with 1 Axes>"
            ]
          },
          "metadata": {
            "tags": []
          }
        }
      ]
    },
    {
      "cell_type": "code",
      "metadata": {
        "id": "oq0tGAvmWFUB",
        "colab_type": "code",
        "colab": {}
      },
      "source": [
        "X_b = np.column_stack([np.ones((m, 1)), X])"
      ],
      "execution_count": 0,
      "outputs": []
    },
    {
      "cell_type": "code",
      "metadata": {
        "id": "x-idAhf5WLN0",
        "colab_type": "code",
        "colab": {}
      },
      "source": [
        "X_new = np.array([[0], [2]])\n",
        "X_new_b = np.column_stack([np.ones((2, 1)), X_new])"
      ],
      "execution_count": 0,
      "outputs": []
    },
    {
      "cell_type": "code",
      "metadata": {
        "id": "TZDzBYeLVnUq",
        "colab_type": "code",
        "colab": {}
      },
      "source": [
        "#numEpochs\n",
        "epochs = 20\n",
        "# learning rate\n",
        "lr = 0.01\n",
        "# fix initial random weight for gradient descent (batch gradient descent)\n",
        "initial_weight = np.random.randn(2, 1) \n",
        "other_weight = np.random.randn(1)\n",
        "b = np.zeros(1)"
      ],
      "execution_count": 0,
      "outputs": []
    },
    {
      "cell_type": "code",
      "metadata": {
        "id": "qecHcyrhVbB-",
        "colab_type": "code",
        "colab": {}
      },
      "source": [
        "weight = initial_weight\n",
        "weight_path_mgd = []\n",
        "batch_size = 2\n",
        "\n",
        "weight_path_mgd.append(weight)\n",
        "for epoch in range(epochs):\n",
        "    shuffled_indices = np.random.permutation(m)\n",
        "    X_b_shuffled = X_b[shuffled_indices]\n",
        "    y_shuffled = y[shuffled_indices]\n",
        "    for i in range(0, m, batch_size):\n",
        "        xi = X_b_shuffled[i:i+batch_size]\n",
        "        yi = y_shuffled[i:i+batch_size]\n",
        "        gradient = 1 / batch_size * xi.T.dot(xi.dot(weight) - yi)\n",
        "        weight = weight - lr * gradient\n",
        "        weight_path_mgd.append(weight)"
      ],
      "execution_count": 0,
      "outputs": []
    },
    {
      "cell_type": "code",
      "metadata": {
        "id": "Bc7_MS29WfTb",
        "colab_type": "code",
        "outputId": "3148f51e-ae9a-44d7-cff5-c51f31d8aa89",
        "colab": {
          "base_uri": "https://localhost:8080/",
          "height": 51
        }
      },
      "source": [
        "weight_path_mgd[-1]"
      ],
      "execution_count": 37,
      "outputs": [
        {
          "output_type": "execute_result",
          "data": {
            "text/plain": [
              "array([[6.44677163],\n",
              "       [0.87020664]])"
            ]
          },
          "metadata": {
            "tags": []
          },
          "execution_count": 37
        }
      ]
    },
    {
      "cell_type": "code",
      "metadata": {
        "id": "pNlHemrdaGqu",
        "colab_type": "code",
        "colab": {}
      },
      "source": [
        "weight_path_mgd = np.array(weight_path_mgd)"
      ],
      "execution_count": 0,
      "outputs": []
    },
    {
      "cell_type": "code",
      "metadata": {
        "id": "ytIsLY2Aj-iX",
        "colab_type": "code",
        "colab": {
          "base_uri": "https://localhost:8080/",
          "height": 340
        },
        "outputId": "5c248b1a-e71c-4d7c-c5a9-66d45e907f19"
      },
      "source": [
        "print(weight_path_mgd)"
      ],
      "execution_count": 39,
      "outputs": [
        {
          "output_type": "stream",
          "text": [
            "[[[0.34172891]\n",
            "  [0.07834867]]\n",
            "\n",
            " [[0.4127567 ]\n",
            "  [0.19365929]]\n",
            "\n",
            " [[0.47800089]\n",
            "  [0.26936542]]\n",
            "\n",
            " ...\n",
            "\n",
            " [[6.43528637]\n",
            "  [0.86815606]]\n",
            "\n",
            " [[6.42696397]\n",
            "  [0.85049282]]\n",
            "\n",
            " [[6.44677163]\n",
            "  [0.87020664]]]\n"
          ],
          "name": "stdout"
        }
      ]
    },
    {
      "cell_type": "code",
      "metadata": {
        "id": "77vEKFY4aCmS",
        "colab_type": "code",
        "outputId": "93f746b6-2bba-4133-9b84-0717f7f610df",
        "colab": {
          "base_uri": "https://localhost:8080/",
          "height": 731
        }
      },
      "source": [
        "plt.figure(figsize=(12,12))\n",
        "plt.plot(weight_path_mgd[:, 0], weight_path_mgd[:, 1], \"g-s\", linewidth=2, label=\"mini-batch\")\n",
        "plt.legend(loc=\"upper left\", fontsize=16)\n",
        "plt.xlabel(r\"$w_0$\", fontsize=20)\n",
        "plt.ylabel(r\"$w_1$   \", fontsize=20, rotation=0)\n",
        "plt.axis([-1, 5, -1, 4])\n",
        "plt.show()"
      ],
      "execution_count": 40,
      "outputs": [
        {
          "output_type": "display_data",
          "data": {
            "image/png": "[encoded data removed]",
            "text/plain": [
              "<Figure size 864x864 with 1 Axes>"
            ]
          },
          "metadata": {
            "tags": []
          }
        }
      ]
    },
    {
      "cell_type": "code",
      "metadata": {
        "id": "fWXEYXr0t4VR",
        "colab_type": "code",
        "outputId": "f21a8a04-2b5c-403b-bd74-570b05acd2c9",
        "colab": {
          "base_uri": "https://localhost:8080/",
          "height": 731
        }
      },
      "source": [
        "plt.figure(figsize=(12,12))\n",
        "plt.plot(weight_path_mgd[:, 0], weight_path_mgd[:, 1], \"g-s\", linewidth=2, label=\"mini-batch\")\n",
        "plt.legend(loc=\"upper left\", fontsize=16)\n",
        "plt.xlabel(r\"$w_0$\", fontsize=20)\n",
        "plt.ylabel(r\"$w_1$   \", fontsize=20, rotation=0)\n",
        "plt.axis([3, 4.5, 2.5, 4])\n",
        "plt.show()"
      ],
      "execution_count": 13,
      "outputs": [
        {
          "output_type": "display_data",
          "data": {
            "image/png": "[encoded data removed]",
            "text/plain": [
              "<Figure size 864x864 with 1 Axes>"
            ]
          },
          "metadata": {
            "tags": []
          }
        }
      ]
    }
  ]
}