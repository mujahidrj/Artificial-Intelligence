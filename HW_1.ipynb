{
  "nbformat": 4,
  "nbformat_minor": 0,
  "metadata": {
    "colab": {
      "name": "HW1",
      "provenance": [],
      "collapsed_sections": [],
      "authorship_tag": "ABX9TyOkr37rEmoYy6+GxII1PKKK",
      "include_colab_link": true
    },
    "kernelspec": {
      "name": "python3",
      "display_name": "Python 3"
    }
  },
  "cells": [
    {
      "cell_type": "markdown",
      "metadata": {
        "id": "view-in-github",
        "colab_type": "text"
      },
      "source": [
        "<a href=\"https://colab.research.google.com/github/mujahidrj/Artificial-Intelligence/blob/master/HW1.ipynb\" target=\"_parent\"><img src=\"https://colab.research.google.com/assets/colab-badge.svg\" alt=\"Open In Colab\"/></a>"
      ]
    },
    {
      "cell_type": "markdown",
      "metadata": {
        "id": "1LnuqAoV4IjU",
        "colab_type": "text"
      },
      "source": [
        "HW 1 Details:\n",
        "\n",
        "Inside a colab notebook implement a Python function multiply_matrices that takes as input a list of numpy arrays and outputs their product. It should raise a custom exception if there is a pair of incompatible matrices. The exception message should provide information about which pair of matrices is bad. Make sure that you follow the style guide for Python. Also use simple markup for formatting your notebook and include a simple description of what your program does inside a text cell. You should also use some simple Latex commands, for instance, when explaining what it means for two matrices to be compatible."
      ]
    },
    {
      "cell_type": "markdown",
      "metadata": {
        "id": "TZEP3rXANliJ",
        "colab_type": "text"
      },
      "source": [
        "**Description**: \n",
        "\n",
        "The following program includes a function called multiply_matrices, which takes in a list of numpy arrays and then performs matrix multiplication on them if they are compatible. If they are incompatible, an exception will be thrown and will return the incompatible matrices. Test cases are below as well as a short description of how matrix multiplication works using Latex commands:"
      ]
    },
    {
      "cell_type": "code",
      "metadata": {
        "id": "rGCfy4pvb0Or",
        "colab_type": "code",
        "colab": {}
      },
      "source": [
        "\n",
        "\n",
        "import numpy as np\n",
        " \n",
        "# Takes in a list of numpy arrays\n",
        "def multiply_matrices(npArrays):\n",
        "\n",
        "  if len(npArrays) == 0:\n",
        "    print(\"Empty Array\")\n",
        "    return None\n",
        "  \n",
        "  if len(npArrays) == 1:\n",
        "    return array[0]\n",
        "\n",
        "  # Gets the identity matrix where all diagonals are 1 and everything else is 0\n",
        "  res = np.identity(npArrays[0].shape[0], int)\n",
        "  #print (res)\n",
        "  i = 0;\n",
        "\n",
        "  # Goes through all the indexes and multiplies the matrices\n",
        "  # If there are invalid dimensions, throw an exception\n",
        "  try:\n",
        "    while (i < len(npArrays)):\n",
        "\n",
        "      # Shape returns dimensions of matrix\n",
        "      if npArrays[i].shape[0] == npArrays[i].shape:\n",
        "        npArrays[i] = npArrays[i].reshape(npArrays[i].shape[0], 1)\n",
        "      \n",
        "      res = res@npArrays[i]\n",
        "      #res = res.dot((npArrays[i]))\n",
        "      i = i + 1\n",
        "\n",
        "  except:\n",
        "    print(\"the following arrays are not compatible:\", end=\"\\n\\n\")\n",
        "    print(npArrays[i], end=\"\\n\\n\")\n",
        "    print(npArrays[i], end=\"\\n\\n\")\n",
        "    return None\n",
        "\n",
        "  else: \n",
        "    return res"
      ],
      "execution_count": 0,
      "outputs": []
    },
    {
      "cell_type": "markdown",
      "metadata": {
        "id": "KtA6vP29q-fc",
        "colab_type": "text"
      },
      "source": [
        "$$The \\,following\\, is\\, an\\, example\\, of\\, how\\, matrix\\, multiplication\\, works: \\\\\n",
        "\\begin{bmatrix}\n",
        "    a  &  b      \\\\\n",
        "    c  &  d\n",
        "\\end{bmatrix}\n",
        "\\times\n",
        "\\begin{bmatrix}\n",
        "    e  &  f  &  g      \\\\\n",
        "    h  &  i  &  j \n",
        "\\end{bmatrix}\n",
        "=\n",
        "\\begin{bmatrix}\n",
        "    (a \\times e) + (b \\times h)  &  (a \\times f) + (b \\times i)  &  (a \\times g) + (b \\times j)      \\\\\n",
        "    (c \\times e) + (d \\times h)  &  (c \\times f) + (d \\times i)  &  (c \\times g) + (d \\times j)      \\\\\n",
        "\\end{bmatrix}$$"
      ]
    },
    {
      "cell_type": "code",
      "metadata": {
        "id": "Zbi2wOmab3Xm",
        "colab_type": "code",
        "colab": {
          "base_uri": "https://localhost:8080/",
          "height": 51
        },
        "outputId": "c9d87e4d-2ddc-48fc-e24a-eae56c37a45c"
      },
      "source": [
        "# Multiplying 2 identical matrices of 1's\n",
        "arr1 = np.ones((2,4), dtype=int)\n",
        "arr2 = np.ones((4,2), dtype=int)\n",
        "combinedArray = [arr1, arr2]\n",
        "print (multiply_matrices(combinedArray))"
      ],
      "execution_count": 33,
      "outputs": [
        {
          "output_type": "stream",
          "text": [
            "[[4 4]\n",
            " [4 4]]\n"
          ],
          "name": "stdout"
        }
      ]
    },
    {
      "cell_type": "code",
      "metadata": {
        "id": "vdMi0brlKS9d",
        "colab_type": "code",
        "colab": {
          "base_uri": "https://localhost:8080/",
          "height": 68
        },
        "outputId": "18129369-0af5-4c61-b7ec-a05d81d483ce"
      },
      "source": [
        "# Multiplying 3 3x3 matrices\n",
        "arr1 = np.array([(10,20,30), (40,50,60), (70,80,90)])\n",
        "arr2 = np.array([(10,20,30), (40,50,60), (70,80,90)])\n",
        "arr3 = np.array([(10,20,30), (40,50,60), (70,80,90)])\n",
        "combinedArray = [arr1,arr2,arr3]\n",
        "\n",
        "print(multiply_matrices(combinedArray))"
      ],
      "execution_count": 34,
      "outputs": [
        {
          "output_type": "stream",
          "text": [
            "[[ 468000  576000  684000]\n",
            " [1062000 1305000 1548000]\n",
            " [1656000 2034000 2412000]]\n"
          ],
          "name": "stdout"
        }
      ]
    },
    {
      "cell_type": "code",
      "metadata": {
        "id": "ALc_6oBFLOts",
        "colab_type": "code",
        "colab": {
          "base_uri": "https://localhost:8080/",
          "height": 34
        },
        "outputId": "6b7e99d5-cd25-400a-c511-0e095505ae8c"
      },
      "source": [
        "# Multiplying 1x2 and 2x1\n",
        "arr1 = np.array([5, 10])\n",
        "arr2 = np.array([(5), (10)])\n",
        "combinedArray = [arr1,arr2]\n",
        "\n",
        "print(multiply_matrices(combinedArray))"
      ],
      "execution_count": 39,
      "outputs": [
        {
          "output_type": "stream",
          "text": [
            "125\n"
          ],
          "name": "stdout"
        }
      ]
    },
    {
      "cell_type": "code",
      "metadata": {
        "id": "VQ4lUO6aMAUi",
        "colab_type": "code",
        "colab": {
          "base_uri": "https://localhost:8080/",
          "height": 34
        },
        "outputId": "d3cff427-d1f8-4bf3-efe7-be00683fb71a"
      },
      "source": [
        "# Multiplying 1x2 and 2x1\n",
        "arr1 = np.array([(5,10)])\n",
        "arr2 = np.array([(15), (20)])\n",
        "combinedArray = [arr1,arr2]\n",
        "\n",
        "print(multiply_matrices(combinedArray))"
      ],
      "execution_count": 49,
      "outputs": [
        {
          "output_type": "stream",
          "text": [
            "[275]\n"
          ],
          "name": "stdout"
        }
      ]
    },
    {
      "cell_type": "code",
      "metadata": {
        "id": "ZNA7Nv6bMrTS",
        "colab_type": "code",
        "colab": {
          "base_uri": "https://localhost:8080/",
          "height": 204
        },
        "outputId": "b983b802-016c-47f0-b76b-2a83eb124c49"
      },
      "source": [
        "# Invalid Multiplication of Matrices\n",
        "arr1 = np.array([(10,20,30, 40), (40,50,60, 70), (70,80,90, 100)])\n",
        "arr2 = np.array([(10,20,30), (40,50,60), (70,80,90)])\n",
        "arr3 = np.array([(10,20,30), (40,50,60), (70,80,90)])\n",
        "combinedArray = [arr1,arr2,arr3]\n",
        "\n",
        "print(multiply_matrices(combinedArray))"
      ],
      "execution_count": 46,
      "outputs": [
        {
          "output_type": "stream",
          "text": [
            "the following arrays are not compatible:\n",
            "\n",
            "[[10 20 30]\n",
            " [40 50 60]\n",
            " [70 80 90]]\n",
            "\n",
            "[[10 20 30]\n",
            " [40 50 60]\n",
            " [70 80 90]]\n",
            "\n",
            "None\n"
          ],
          "name": "stdout"
        }
      ]
    }
  ]
}
