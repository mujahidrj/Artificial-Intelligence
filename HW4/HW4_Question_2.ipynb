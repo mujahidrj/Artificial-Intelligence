{
  "nbformat": 4,
  "nbformat_minor": 0,
  "metadata": {
    "colab": {
      "name": "HW4 Question 2.ipynb",
      "provenance": [],
      "collapsed_sections": [],
      "authorship_tag": "ABX9TyN7Ic2Z6gYo/jHBZd4UNgnc",
      "include_colab_link": true
    },
    "kernelspec": {
      "name": "python3",
      "display_name": "Python 3"
    }
  },
  "cells": [
    {
      "cell_type": "markdown",
      "metadata": {
        "id": "view-in-github",
        "colab_type": "text"
      },
      "source": [
        "<a href=\"https://colab.research.google.com/github/mujahidrj/Artificial-Intelligence/blob/master/HW4/HW4_Question_2.ipynb\" target=\"_parent\"><img src=\"https://colab.research.google.com/assets/colab-badge.svg\" alt=\"Open In Colab\"/></a>"
      ]
    },
    {
      "cell_type": "markdown",
      "metadata": {
        "id": "OciZXtskaXpW",
        "colab_type": "text"
      },
      "source": [
        "# Problem 2\n",
        "\n",
        "Using only numpy, implement the function maxpooling2d. It takes as input input_mat and s and outputs output_mat. The variables input_mat and output_mat are square matrices and s is an integer. It should compute the maxpooling operation on input_mat using window of shape s times s."
      ]
    },
    {
      "cell_type": "code",
      "metadata": {
        "id": "AQc5p9_Baavw",
        "colab_type": "code",
        "colab": {}
      },
      "source": [
        "import numpy as np"
      ],
      "execution_count": 0,
      "outputs": []
    },
    {
      "cell_type": "code",
      "metadata": {
        "id": "vHIWpw0jajAy",
        "colab_type": "code",
        "colab": {}
      },
      "source": [
        "def maxpooling2d(input_mat, s):\n",
        "  \n",
        "  if input_mat.shape[0] != input_mat.shape[1]:\n",
        "    raise Exception(\"Please enter a square Input Matrix!\")\n",
        "\n",
        "  if s > input_mat.shape:\n",
        "    raise Exception(\"Stride bigger than matrix!\")\n",
        "  \n",
        "  # Uses integer division to get the size of the output matrix based on the width and length divided by the stride\n",
        "  output_mat = np.zeros((input_mat.shape[0]//s, input_mat.shape[1]//s))\n",
        "\n",
        "  # Increments by stride where i and j loop correspond to width and length \n",
        "  for i in range(0, output_mat.shape[0], s):\n",
        "    for j in range(0, output_mat.shape[1], s):\n",
        "      output_mat[i//s][j//s] = input_mat[i][j]\n",
        "      for k in range(0, s):\n",
        "        for l in range(0, s):\n",
        "          # Take the max of every region and put it in the output matrix \n",
        "          output_mat[i//s][j//s] = max(input_mat[i+k][j+l], output_mat[i//s][j//s])\n",
        "\n",
        "\n",
        "  return output_mat"
      ],
      "execution_count": 0,
      "outputs": []
    },
    {
      "cell_type": "markdown",
      "metadata": {
        "id": "K6nC1yeCa1it",
        "colab_type": "text"
      },
      "source": [
        "# Test Cases Provided by Dr. Wocjan"
      ]
    },
    {
      "cell_type": "code",
      "metadata": {
        "id": "wX9xgcMIazuj",
        "colab_type": "code",
        "outputId": "da54ea76-047d-4fb9-ad51-c54011072499",
        "colab": {
          "base_uri": "https://localhost:8080/",
          "height": 136
        }
      },
      "source": [
        "import skimage.measure\n",
        "\n",
        "input_mat = []\n",
        "expected_mat = []\n",
        "s = []\n",
        "input_mat.append(np.array([[1, 2, 1, 2],\n",
        "                      [2, 4, 2, 1],\n",
        "                      [1, 2, 4, 2],\n",
        "                      [2, 1, 2, 1]]))\n",
        "s.append(2)\n",
        "\n",
        "expected_mat.append(np.array([[4, 2],\n",
        "                                [2, 4]]))\n",
        "\n",
        "input_mat.append(np.array([[1, 2, 1, 2, 4, 5],\n",
        "                      [2, 4, 2, 1, 0, 3],\n",
        "                      [1, 2, 4, 2, 4, 5],\n",
        "                      [2, 1, 2, 1, 2, 1],\n",
        "                      [1, 1, 2, 3, 1, 2],\n",
        "                      [1, 1, 2, 3, 1, 2]]))\n",
        "s.append(2)\n",
        "\n",
        "expected_mat.append([[4, 2, 5],\n",
        " [2, 4, 5],\n",
        " [1, 3, 2]])\n",
        "\n",
        "\n",
        "for i in range(len(input_mat)):\n",
        "  # uncomment top line and comment second line to test code\n",
        "  #output_mat = maxpooling2d(input_mat[i], s[i])\n",
        "  output_mat = skimage.measure.block_reduce(input_mat[i], (s[i],s[i]), np.max)\n",
        "\n",
        "  print(output_mat)\n",
        "\n",
        "  if np.array_equal(output_mat, expected_mat[i]):\n",
        "    print(\"Correct output!\")\n",
        "  else:\n",
        "    print(\"Incorrect output!\")\n"
      ],
      "execution_count": 3,
      "outputs": [
        {
          "output_type": "stream",
          "text": [
            "[[4 2]\n",
            " [2 4]]\n",
            "Correct output!\n",
            "[[4 2 5]\n",
            " [2 4 5]\n",
            " [1 3 2]]\n",
            "Correct output!\n"
          ],
          "name": "stdout"
        }
      ]
    }
  ]
}