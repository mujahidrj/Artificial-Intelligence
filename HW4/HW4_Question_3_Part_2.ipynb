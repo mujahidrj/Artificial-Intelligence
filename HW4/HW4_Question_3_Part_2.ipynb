{
  "nbformat": 4,
  "nbformat_minor": 0,
  "metadata": {
    "colab": {
      "name": "HW4 Question 3 Part 2.ipynb",
      "provenance": [],
      "include_colab_link": true
    },
    "kernelspec": {
      "name": "python3",
      "display_name": "Python 3"
    },
    "accelerator": "GPU"
  },
  "cells": [
    {
      "cell_type": "markdown",
      "metadata": {
        "id": "view-in-github",
        "colab_type": "text"
      },
      "source": [
        "<a href=\"https://colab.research.google.com/github/mujahidrj/Artificial-Intelligence/blob/master/HW4/HW4_Question_3_Part_2.ipynb\" target=\"_parent\"><img src=\"https://colab.research.google.com/assets/colab-badge.svg\" alt=\"Open In Colab\"/></a>"
      ]
    },
    {
      "cell_type": "markdown",
      "metadata": {
        "id": "zGPyPFSaxbD8",
        "colab_type": "text"
      },
      "source": [
        "# Problem 3 Part 2\n",
        "\n",
        "You will adapt the notebook using VGG16 conv base for feature extraction, using data augmentation, not using dropout, fine-tuning. You will have to replace the VGG16 conv base by new conv bases. You should not use VGG19.\n",
        "\n",
        "You should create two notebooks. Both should use the same conv base, unfreeze the same number of layers of the conv_base, but use different classifiers."
      ]
    },
    {
      "cell_type": "markdown",
      "metadata": {
        "id": "KSrgMJ5vKFzQ",
        "colab_type": "text"
      },
      "source": [
        "# Fine-tuning Xception "
      ]
    },
    {
      "cell_type": "markdown",
      "metadata": {
        "id": "TIW7bZaAK-Hf",
        "colab_type": "text"
      },
      "source": [
        "This is based on section 5.3 *Using a pretrained convnet* of the book *Deep learning with Python* by Francois Chollet. I have made several changes to the code. I use the data that is already provided by Google. I don't download the data from Kaggle as in the deep learning book."
      ]
    },
    {
      "cell_type": "markdown",
      "metadata": {
        "id": "nsBq__dVo2pj",
        "colab_type": "text"
      },
      "source": [
        "## Feature extraction"
      ]
    },
    {
      "cell_type": "markdown",
      "metadata": {
        "id": "0g6ETAM9o54M",
        "colab_type": "text"
      },
      "source": [
        "Feature extraction consists of using the representations learned by a previous network to extract interesting features from new samples. These features are then run through a new classifier, which is trained from scratch.\n",
        "\n",
        "We will use here the convolutional base of the VGG16 model to extract the features. We will feed these features to a densely connected classifier with dropout. We will fine-tune some layers."
      ]
    },
    {
      "cell_type": "markdown",
      "metadata": {
        "id": "BqIG8QHMLNOn",
        "colab_type": "text"
      },
      "source": [
        "## Download the data"
      ]
    },
    {
      "cell_type": "markdown",
      "metadata": {
        "id": "t3I1jd7cKV6_",
        "colab_type": "text"
      },
      "source": [
        "Download the example data, a zip. of 2,000 JPG pictures of cats and dogs and extract it locally in ```/tmp```.\n",
        "\n"
      ]
    },
    {
      "cell_type": "code",
      "metadata": {
        "id": "JWjprHEXJ5Qi",
        "colab_type": "code",
        "outputId": "08ff4974-fb4d-4418-e04b-5fcd34ab9685",
        "colab": {
          "base_uri": "https://localhost:8080/",
          "height": 204
        }
      },
      "source": [
        "!wget --no-check-certificate \\\n",
        "    https://storage.googleapis.com/mledu-datasets/cats_and_dogs_filtered.zip \\\n",
        "    -O /tmp/cats_and_dogs_filtered.zip"
      ],
      "execution_count": 0,
      "outputs": [
        {
          "output_type": "stream",
          "text": [
            "--2020-04-22 02:34:45--  https://storage.googleapis.com/mledu-datasets/cats_and_dogs_filtered.zip\n",
            "Resolving storage.googleapis.com (storage.googleapis.com)... 173.194.69.128, 2a00:1450:4013:c00::80\n",
            "Connecting to storage.googleapis.com (storage.googleapis.com)|173.194.69.128|:443... connected.\n",
            "HTTP request sent, awaiting response... 200 OK\n",
            "Length: 68606236 (65M) [application/zip]\n",
            "Saving to: ‘/tmp/cats_and_dogs_filtered.zip’\n",
            "\n",
            "/tmp/cats_and_dogs_ 100%[===================>]  65.43M   170MB/s    in 0.4s    \n",
            "\n",
            "2020-04-22 02:34:45 (170 MB/s) - ‘/tmp/cats_and_dogs_filtered.zip’ saved [68606236/68606236]\n",
            "\n"
          ],
          "name": "stdout"
        }
      ]
    },
    {
      "cell_type": "code",
      "metadata": {
        "id": "WvoHtdA-K6Rw",
        "colab_type": "code",
        "colab": {}
      },
      "source": [
        "import os\n",
        "import zipfile\n",
        "\n",
        "local_zip = '/tmp/cats_and_dogs_filtered.zip'\n",
        "zip_ref = zipfile.ZipFile(local_zip, 'r')\n",
        "zip_ref.extractall('/tmp')\n",
        "zip_ref.close()"
      ],
      "execution_count": 0,
      "outputs": []
    },
    {
      "cell_type": "markdown",
      "metadata": {
        "id": "shZiOBnJMyy_",
        "colab_type": "text"
      },
      "source": [
        "Note that the data provided by Google does not have a test set."
      ]
    },
    {
      "cell_type": "code",
      "metadata": {
        "id": "dL8ikM89LlsH",
        "colab_type": "code",
        "colab": {}
      },
      "source": [
        "base_dir = '/tmp/cats_and_dogs_filtered'\n",
        "train_dir = os.path.join(base_dir, 'train')\n",
        "validation_dir = os.path.join(base_dir, 'validation')\n",
        "\n",
        "# Directory with our training cat pictures\n",
        "train_cats_dir = os.path.join(train_dir, 'cats')\n",
        "\n",
        "# Directory with our training dog pictures\n",
        "train_dogs_dir = os.path.join(train_dir, 'dogs')\n",
        "\n",
        "# Directory with our validation cat pictures\n",
        "validation_cats_dir = os.path.join(validation_dir, 'cats')\n",
        "\n",
        "# Directory with our validation dog pictures\n",
        "validation_dogs_dir = os.path.join(validation_dir, 'dogs')"
      ],
      "execution_count": 0,
      "outputs": []
    },
    {
      "cell_type": "markdown",
      "metadata": {
        "id": "inyP8bcdXnn-",
        "colab_type": "text"
      },
      "source": [
        "## Build network with Xception convolution base and custom densely connected layers"
      ]
    },
    {
      "cell_type": "markdown",
      "metadata": {
        "id": "kQ48W5T9rHWu",
        "colab_type": "text"
      },
      "source": [
        "### Load the convolutional base"
      ]
    },
    {
      "cell_type": "code",
      "metadata": {
        "id": "Y0FgtANCXm_H",
        "colab_type": "code",
        "outputId": "49a91f93-d8b1-4ee3-cf28-af2cc346d8ac",
        "colab": {
          "base_uri": "https://localhost:8080/",
          "height": 1000
        }
      },
      "source": [
        "from keras.applications import Xception\n",
        "\n",
        "conv_base = Xception(\n",
        "    weights='imagenet', \n",
        "    include_top=False, \n",
        "    input_shape=(150, 150, 3))\n",
        "\n",
        "# Shows all the available layers\n",
        "conv_base.summary()"
      ],
      "execution_count": 44,
      "outputs": [
        {
          "output_type": "stream",
          "text": [
            "Model: \"xception\"\n",
            "__________________________________________________________________________________________________\n",
            "Layer (type)                    Output Shape         Param #     Connected to                     \n",
            "==================================================================================================\n",
            "input_3 (InputLayer)            (None, 150, 150, 3)  0                                            \n",
            "__________________________________________________________________________________________________\n",
            "block1_conv1 (Conv2D)           (None, 74, 74, 32)   864         input_3[0][0]                    \n",
            "__________________________________________________________________________________________________\n",
            "block1_conv1_bn (BatchNormaliza (None, 74, 74, 32)   128         block1_conv1[0][0]               \n",
            "__________________________________________________________________________________________________\n",
            "block1_conv1_act (Activation)   (None, 74, 74, 32)   0           block1_conv1_bn[0][0]            \n",
            "__________________________________________________________________________________________________\n",
            "block1_conv2 (Conv2D)           (None, 72, 72, 64)   18432       block1_conv1_act[0][0]           \n",
            "__________________________________________________________________________________________________\n",
            "block1_conv2_bn (BatchNormaliza (None, 72, 72, 64)   256         block1_conv2[0][0]               \n",
            "__________________________________________________________________________________________________\n",
            "block1_conv2_act (Activation)   (None, 72, 72, 64)   0           block1_conv2_bn[0][0]            \n",
            "__________________________________________________________________________________________________\n",
            "block2_sepconv1 (SeparableConv2 (None, 72, 72, 128)  8768        block1_conv2_act[0][0]           \n",
            "__________________________________________________________________________________________________\n",
            "block2_sepconv1_bn (BatchNormal (None, 72, 72, 128)  512         block2_sepconv1[0][0]            \n",
            "__________________________________________________________________________________________________\n",
            "block2_sepconv2_act (Activation (None, 72, 72, 128)  0           block2_sepconv1_bn[0][0]         \n",
            "__________________________________________________________________________________________________\n",
            "block2_sepconv2 (SeparableConv2 (None, 72, 72, 128)  17536       block2_sepconv2_act[0][0]        \n",
            "__________________________________________________________________________________________________\n",
            "block2_sepconv2_bn (BatchNormal (None, 72, 72, 128)  512         block2_sepconv2[0][0]            \n",
            "__________________________________________________________________________________________________\n",
            "conv2d_9 (Conv2D)               (None, 36, 36, 128)  8192        block1_conv2_act[0][0]           \n",
            "__________________________________________________________________________________________________\n",
            "block2_pool (MaxPooling2D)      (None, 36, 36, 128)  0           block2_sepconv2_bn[0][0]         \n",
            "__________________________________________________________________________________________________\n",
            "batch_normalization_9 (BatchNor (None, 36, 36, 128)  512         conv2d_9[0][0]                   \n",
            "__________________________________________________________________________________________________\n",
            "add_25 (Add)                    (None, 36, 36, 128)  0           block2_pool[0][0]                \n",
            "                                                                 batch_normalization_9[0][0]      \n",
            "__________________________________________________________________________________________________\n",
            "block3_sepconv1_act (Activation (None, 36, 36, 128)  0           add_25[0][0]                     \n",
            "__________________________________________________________________________________________________\n",
            "block3_sepconv1 (SeparableConv2 (None, 36, 36, 256)  33920       block3_sepconv1_act[0][0]        \n",
            "__________________________________________________________________________________________________\n",
            "block3_sepconv1_bn (BatchNormal (None, 36, 36, 256)  1024        block3_sepconv1[0][0]            \n",
            "__________________________________________________________________________________________________\n",
            "block3_sepconv2_act (Activation (None, 36, 36, 256)  0           block3_sepconv1_bn[0][0]         \n",
            "__________________________________________________________________________________________________\n",
            "block3_sepconv2 (SeparableConv2 (None, 36, 36, 256)  67840       block3_sepconv2_act[0][0]        \n",
            "__________________________________________________________________________________________________\n",
            "block3_sepconv2_bn (BatchNormal (None, 36, 36, 256)  1024        block3_sepconv2[0][0]            \n",
            "__________________________________________________________________________________________________\n",
            "conv2d_10 (Conv2D)              (None, 18, 18, 256)  32768       add_25[0][0]                     \n",
            "__________________________________________________________________________________________________\n",
            "block3_pool (MaxPooling2D)      (None, 18, 18, 256)  0           block3_sepconv2_bn[0][0]         \n",
            "__________________________________________________________________________________________________\n",
            "batch_normalization_10 (BatchNo (None, 18, 18, 256)  1024        conv2d_10[0][0]                  \n",
            "__________________________________________________________________________________________________\n",
            "add_26 (Add)                    (None, 18, 18, 256)  0           block3_pool[0][0]                \n",
            "                                                                 batch_normalization_10[0][0]     \n",
            "__________________________________________________________________________________________________\n",
            "block4_sepconv1_act (Activation (None, 18, 18, 256)  0           add_26[0][0]                     \n",
            "__________________________________________________________________________________________________\n",
            "block4_sepconv1 (SeparableConv2 (None, 18, 18, 728)  188672      block4_sepconv1_act[0][0]        \n",
            "__________________________________________________________________________________________________\n",
            "block4_sepconv1_bn (BatchNormal (None, 18, 18, 728)  2912        block4_sepconv1[0][0]            \n",
            "__________________________________________________________________________________________________\n",
            "block4_sepconv2_act (Activation (None, 18, 18, 728)  0           block4_sepconv1_bn[0][0]         \n",
            "__________________________________________________________________________________________________\n",
            "block4_sepconv2 (SeparableConv2 (None, 18, 18, 728)  536536      block4_sepconv2_act[0][0]        \n",
            "__________________________________________________________________________________________________\n",
            "block4_sepconv2_bn (BatchNormal (None, 18, 18, 728)  2912        block4_sepconv2[0][0]            \n",
            "__________________________________________________________________________________________________\n",
            "conv2d_11 (Conv2D)              (None, 9, 9, 728)    186368      add_26[0][0]                     \n",
            "__________________________________________________________________________________________________\n",
            "block4_pool (MaxPooling2D)      (None, 9, 9, 728)    0           block4_sepconv2_bn[0][0]         \n",
            "__________________________________________________________________________________________________\n",
            "batch_normalization_11 (BatchNo (None, 9, 9, 728)    2912        conv2d_11[0][0]                  \n",
            "__________________________________________________________________________________________________\n",
            "add_27 (Add)                    (None, 9, 9, 728)    0           block4_pool[0][0]                \n",
            "                                                                 batch_normalization_11[0][0]     \n",
            "__________________________________________________________________________________________________\n",
            "block5_sepconv1_act (Activation (None, 9, 9, 728)    0           add_27[0][0]                     \n",
            "__________________________________________________________________________________________________\n",
            "block5_sepconv1 (SeparableConv2 (None, 9, 9, 728)    536536      block5_sepconv1_act[0][0]        \n",
            "__________________________________________________________________________________________________\n",
            "block5_sepconv1_bn (BatchNormal (None, 9, 9, 728)    2912        block5_sepconv1[0][0]            \n",
            "__________________________________________________________________________________________________\n",
            "block5_sepconv2_act (Activation (None, 9, 9, 728)    0           block5_sepconv1_bn[0][0]         \n",
            "__________________________________________________________________________________________________\n",
            "block5_sepconv2 (SeparableConv2 (None, 9, 9, 728)    536536      block5_sepconv2_act[0][0]        \n",
            "__________________________________________________________________________________________________\n",
            "block5_sepconv2_bn (BatchNormal (None, 9, 9, 728)    2912        block5_sepconv2[0][0]            \n",
            "__________________________________________________________________________________________________\n",
            "block5_sepconv3_act (Activation (None, 9, 9, 728)    0           block5_sepconv2_bn[0][0]         \n",
            "__________________________________________________________________________________________________\n",
            "block5_sepconv3 (SeparableConv2 (None, 9, 9, 728)    536536      block5_sepconv3_act[0][0]        \n",
            "__________________________________________________________________________________________________\n",
            "block5_sepconv3_bn (BatchNormal (None, 9, 9, 728)    2912        block5_sepconv3[0][0]            \n",
            "__________________________________________________________________________________________________\n",
            "add_28 (Add)                    (None, 9, 9, 728)    0           block5_sepconv3_bn[0][0]         \n",
            "                                                                 add_27[0][0]                     \n",
            "__________________________________________________________________________________________________\n",
            "block6_sepconv1_act (Activation (None, 9, 9, 728)    0           add_28[0][0]                     \n",
            "__________________________________________________________________________________________________\n",
            "block6_sepconv1 (SeparableConv2 (None, 9, 9, 728)    536536      block6_sepconv1_act[0][0]        \n",
            "__________________________________________________________________________________________________\n",
            "block6_sepconv1_bn (BatchNormal (None, 9, 9, 728)    2912        block6_sepconv1[0][0]            \n",
            "__________________________________________________________________________________________________\n",
            "block6_sepconv2_act (Activation (None, 9, 9, 728)    0           block6_sepconv1_bn[0][0]         \n",
            "__________________________________________________________________________________________________\n",
            "block6_sepconv2 (SeparableConv2 (None, 9, 9, 728)    536536      block6_sepconv2_act[0][0]        \n",
            "__________________________________________________________________________________________________\n",
            "block6_sepconv2_bn (BatchNormal (None, 9, 9, 728)    2912        block6_sepconv2[0][0]            \n",
            "__________________________________________________________________________________________________\n",
            "block6_sepconv3_act (Activation (None, 9, 9, 728)    0           block6_sepconv2_bn[0][0]         \n",
            "__________________________________________________________________________________________________\n",
            "block6_sepconv3 (SeparableConv2 (None, 9, 9, 728)    536536      block6_sepconv3_act[0][0]        \n",
            "__________________________________________________________________________________________________\n",
            "block6_sepconv3_bn (BatchNormal (None, 9, 9, 728)    2912        block6_sepconv3[0][0]            \n",
            "__________________________________________________________________________________________________\n",
            "add_29 (Add)                    (None, 9, 9, 728)    0           block6_sepconv3_bn[0][0]         \n",
            "                                                                 add_28[0][0]                     \n",
            "__________________________________________________________________________________________________\n",
            "block7_sepconv1_act (Activation (None, 9, 9, 728)    0           add_29[0][0]                     \n",
            "__________________________________________________________________________________________________\n",
            "block7_sepconv1 (SeparableConv2 (None, 9, 9, 728)    536536      block7_sepconv1_act[0][0]        \n",
            "__________________________________________________________________________________________________\n",
            "block7_sepconv1_bn (BatchNormal (None, 9, 9, 728)    2912        block7_sepconv1[0][0]            \n",
            "__________________________________________________________________________________________________\n",
            "block7_sepconv2_act (Activation (None, 9, 9, 728)    0           block7_sepconv1_bn[0][0]         \n",
            "__________________________________________________________________________________________________\n",
            "block7_sepconv2 (SeparableConv2 (None, 9, 9, 728)    536536      block7_sepconv2_act[0][0]        \n",
            "__________________________________________________________________________________________________\n",
            "block7_sepconv2_bn (BatchNormal (None, 9, 9, 728)    2912        block7_sepconv2[0][0]            \n",
            "__________________________________________________________________________________________________\n",
            "block7_sepconv3_act (Activation (None, 9, 9, 728)    0           block7_sepconv2_bn[0][0]         \n",
            "__________________________________________________________________________________________________\n",
            "block7_sepconv3 (SeparableConv2 (None, 9, 9, 728)    536536      block7_sepconv3_act[0][0]        \n",
            "__________________________________________________________________________________________________\n",
            "block7_sepconv3_bn (BatchNormal (None, 9, 9, 728)    2912        block7_sepconv3[0][0]            \n",
            "__________________________________________________________________________________________________\n",
            "add_30 (Add)                    (None, 9, 9, 728)    0           block7_sepconv3_bn[0][0]         \n",
            "                                                                 add_29[0][0]                     \n",
            "__________________________________________________________________________________________________\n",
            "block8_sepconv1_act (Activation (None, 9, 9, 728)    0           add_30[0][0]                     \n",
            "__________________________________________________________________________________________________\n",
            "block8_sepconv1 (SeparableConv2 (None, 9, 9, 728)    536536      block8_sepconv1_act[0][0]        \n",
            "__________________________________________________________________________________________________\n",
            "block8_sepconv1_bn (BatchNormal (None, 9, 9, 728)    2912        block8_sepconv1[0][0]            \n",
            "__________________________________________________________________________________________________\n",
            "block8_sepconv2_act (Activation (None, 9, 9, 728)    0           block8_sepconv1_bn[0][0]         \n",
            "__________________________________________________________________________________________________\n",
            "block8_sepconv2 (SeparableConv2 (None, 9, 9, 728)    536536      block8_sepconv2_act[0][0]        \n",
            "__________________________________________________________________________________________________\n",
            "block8_sepconv2_bn (BatchNormal (None, 9, 9, 728)    2912        block8_sepconv2[0][0]            \n",
            "__________________________________________________________________________________________________\n",
            "block8_sepconv3_act (Activation (None, 9, 9, 728)    0           block8_sepconv2_bn[0][0]         \n",
            "__________________________________________________________________________________________________\n",
            "block8_sepconv3 (SeparableConv2 (None, 9, 9, 728)    536536      block8_sepconv3_act[0][0]        \n",
            "__________________________________________________________________________________________________\n",
            "block8_sepconv3_bn (BatchNormal (None, 9, 9, 728)    2912        block8_sepconv3[0][0]            \n",
            "__________________________________________________________________________________________________\n",
            "add_31 (Add)                    (None, 9, 9, 728)    0           block8_sepconv3_bn[0][0]         \n",
            "                                                                 add_30[0][0]                     \n",
            "__________________________________________________________________________________________________\n",
            "block9_sepconv1_act (Activation (None, 9, 9, 728)    0           add_31[0][0]                     \n",
            "__________________________________________________________________________________________________\n",
            "block9_sepconv1 (SeparableConv2 (None, 9, 9, 728)    536536      block9_sepconv1_act[0][0]        \n",
            "__________________________________________________________________________________________________\n",
            "block9_sepconv1_bn (BatchNormal (None, 9, 9, 728)    2912        block9_sepconv1[0][0]            \n",
            "__________________________________________________________________________________________________\n",
            "block9_sepconv2_act (Activation (None, 9, 9, 728)    0           block9_sepconv1_bn[0][0]         \n",
            "__________________________________________________________________________________________________\n",
            "block9_sepconv2 (SeparableConv2 (None, 9, 9, 728)    536536      block9_sepconv2_act[0][0]        \n",
            "__________________________________________________________________________________________________\n",
            "block9_sepconv2_bn (BatchNormal (None, 9, 9, 728)    2912        block9_sepconv2[0][0]            \n",
            "__________________________________________________________________________________________________\n",
            "block9_sepconv3_act (Activation (None, 9, 9, 728)    0           block9_sepconv2_bn[0][0]         \n",
            "__________________________________________________________________________________________________\n",
            "block9_sepconv3 (SeparableConv2 (None, 9, 9, 728)    536536      block9_sepconv3_act[0][0]        \n",
            "__________________________________________________________________________________________________\n",
            "block9_sepconv3_bn (BatchNormal (None, 9, 9, 728)    2912        block9_sepconv3[0][0]            \n",
            "__________________________________________________________________________________________________\n",
            "add_32 (Add)                    (None, 9, 9, 728)    0           block9_sepconv3_bn[0][0]         \n",
            "                                                                 add_31[0][0]                     \n",
            "__________________________________________________________________________________________________\n",
            "block10_sepconv1_act (Activatio (None, 9, 9, 728)    0           add_32[0][0]                     \n",
            "__________________________________________________________________________________________________\n",
            "block10_sepconv1 (SeparableConv (None, 9, 9, 728)    536536      block10_sepconv1_act[0][0]       \n",
            "__________________________________________________________________________________________________\n",
            "block10_sepconv1_bn (BatchNorma (None, 9, 9, 728)    2912        block10_sepconv1[0][0]           \n",
            "__________________________________________________________________________________________________\n",
            "block10_sepconv2_act (Activatio (None, 9, 9, 728)    0           block10_sepconv1_bn[0][0]        \n",
            "__________________________________________________________________________________________________\n",
            "block10_sepconv2 (SeparableConv (None, 9, 9, 728)    536536      block10_sepconv2_act[0][0]       \n",
            "__________________________________________________________________________________________________\n",
            "block10_sepconv2_bn (BatchNorma (None, 9, 9, 728)    2912        block10_sepconv2[0][0]           \n",
            "__________________________________________________________________________________________________\n",
            "block10_sepconv3_act (Activatio (None, 9, 9, 728)    0           block10_sepconv2_bn[0][0]        \n",
            "__________________________________________________________________________________________________\n",
            "block10_sepconv3 (SeparableConv (None, 9, 9, 728)    536536      block10_sepconv3_act[0][0]       \n",
            "__________________________________________________________________________________________________\n",
            "block10_sepconv3_bn (BatchNorma (None, 9, 9, 728)    2912        block10_sepconv3[0][0]           \n",
            "__________________________________________________________________________________________________\n",
            "add_33 (Add)                    (None, 9, 9, 728)    0           block10_sepconv3_bn[0][0]        \n",
            "                                                                 add_32[0][0]                     \n",
            "__________________________________________________________________________________________________\n",
            "block11_sepconv1_act (Activatio (None, 9, 9, 728)    0           add_33[0][0]                     \n",
            "__________________________________________________________________________________________________\n",
            "block11_sepconv1 (SeparableConv (None, 9, 9, 728)    536536      block11_sepconv1_act[0][0]       \n",
            "__________________________________________________________________________________________________\n",
            "block11_sepconv1_bn (BatchNorma (None, 9, 9, 728)    2912        block11_sepconv1[0][0]           \n",
            "__________________________________________________________________________________________________\n",
            "block11_sepconv2_act (Activatio (None, 9, 9, 728)    0           block11_sepconv1_bn[0][0]        \n",
            "__________________________________________________________________________________________________\n",
            "block11_sepconv2 (SeparableConv (None, 9, 9, 728)    536536      block11_sepconv2_act[0][0]       \n",
            "__________________________________________________________________________________________________\n",
            "block11_sepconv2_bn (BatchNorma (None, 9, 9, 728)    2912        block11_sepconv2[0][0]           \n",
            "__________________________________________________________________________________________________\n",
            "block11_sepconv3_act (Activatio (None, 9, 9, 728)    0           block11_sepconv2_bn[0][0]        \n",
            "__________________________________________________________________________________________________\n",
            "block11_sepconv3 (SeparableConv (None, 9, 9, 728)    536536      block11_sepconv3_act[0][0]       \n",
            "__________________________________________________________________________________________________\n",
            "block11_sepconv3_bn (BatchNorma (None, 9, 9, 728)    2912        block11_sepconv3[0][0]           \n",
            "__________________________________________________________________________________________________\n",
            "add_34 (Add)                    (None, 9, 9, 728)    0           block11_sepconv3_bn[0][0]        \n",
            "                                                                 add_33[0][0]                     \n",
            "__________________________________________________________________________________________________\n",
            "block12_sepconv1_act (Activatio (None, 9, 9, 728)    0           add_34[0][0]                     \n",
            "__________________________________________________________________________________________________\n",
            "block12_sepconv1 (SeparableConv (None, 9, 9, 728)    536536      block12_sepconv1_act[0][0]       \n",
            "__________________________________________________________________________________________________\n",
            "block12_sepconv1_bn (BatchNorma (None, 9, 9, 728)    2912        block12_sepconv1[0][0]           \n",
            "__________________________________________________________________________________________________\n",
            "block12_sepconv2_act (Activatio (None, 9, 9, 728)    0           block12_sepconv1_bn[0][0]        \n",
            "__________________________________________________________________________________________________\n",
            "block12_sepconv2 (SeparableConv (None, 9, 9, 728)    536536      block12_sepconv2_act[0][0]       \n",
            "__________________________________________________________________________________________________\n",
            "block12_sepconv2_bn (BatchNorma (None, 9, 9, 728)    2912        block12_sepconv2[0][0]           \n",
            "__________________________________________________________________________________________________\n",
            "block12_sepconv3_act (Activatio (None, 9, 9, 728)    0           block12_sepconv2_bn[0][0]        \n",
            "__________________________________________________________________________________________________\n",
            "block12_sepconv3 (SeparableConv (None, 9, 9, 728)    536536      block12_sepconv3_act[0][0]       \n",
            "__________________________________________________________________________________________________\n",
            "block12_sepconv3_bn (BatchNorma (None, 9, 9, 728)    2912        block12_sepconv3[0][0]           \n",
            "__________________________________________________________________________________________________\n",
            "add_35 (Add)                    (None, 9, 9, 728)    0           block12_sepconv3_bn[0][0]        \n",
            "                                                                 add_34[0][0]                     \n",
            "__________________________________________________________________________________________________\n",
            "block13_sepconv1_act (Activatio (None, 9, 9, 728)    0           add_35[0][0]                     \n",
            "__________________________________________________________________________________________________\n",
            "block13_sepconv1 (SeparableConv (None, 9, 9, 728)    536536      block13_sepconv1_act[0][0]       \n",
            "__________________________________________________________________________________________________\n",
            "block13_sepconv1_bn (BatchNorma (None, 9, 9, 728)    2912        block13_sepconv1[0][0]           \n",
            "__________________________________________________________________________________________________\n",
            "block13_sepconv2_act (Activatio (None, 9, 9, 728)    0           block13_sepconv1_bn[0][0]        \n",
            "__________________________________________________________________________________________________\n",
            "block13_sepconv2 (SeparableConv (None, 9, 9, 1024)   752024      block13_sepconv2_act[0][0]       \n",
            "__________________________________________________________________________________________________\n",
            "block13_sepconv2_bn (BatchNorma (None, 9, 9, 1024)   4096        block13_sepconv2[0][0]           \n",
            "__________________________________________________________________________________________________\n",
            "conv2d_12 (Conv2D)              (None, 5, 5, 1024)   745472      add_35[0][0]                     \n",
            "__________________________________________________________________________________________________\n",
            "block13_pool (MaxPooling2D)     (None, 5, 5, 1024)   0           block13_sepconv2_bn[0][0]        \n",
            "__________________________________________________________________________________________________\n",
            "batch_normalization_12 (BatchNo (None, 5, 5, 1024)   4096        conv2d_12[0][0]                  \n",
            "__________________________________________________________________________________________________\n",
            "add_36 (Add)                    (None, 5, 5, 1024)   0           block13_pool[0][0]               \n",
            "                                                                 batch_normalization_12[0][0]     \n",
            "__________________________________________________________________________________________________\n",
            "block14_sepconv1 (SeparableConv (None, 5, 5, 1536)   1582080     add_36[0][0]                     \n",
            "__________________________________________________________________________________________________\n",
            "block14_sepconv1_bn (BatchNorma (None, 5, 5, 1536)   6144        block14_sepconv1[0][0]           \n",
            "__________________________________________________________________________________________________\n",
            "block14_sepconv1_act (Activatio (None, 5, 5, 1536)   0           block14_sepconv1_bn[0][0]        \n",
            "__________________________________________________________________________________________________\n",
            "block14_sepconv2 (SeparableConv (None, 5, 5, 2048)   3159552     block14_sepconv1_act[0][0]       \n",
            "__________________________________________________________________________________________________\n",
            "block14_sepconv2_bn (BatchNorma (None, 5, 5, 2048)   8192        block14_sepconv2[0][0]           \n",
            "__________________________________________________________________________________________________\n",
            "block14_sepconv2_act (Activatio (None, 5, 5, 2048)   0           block14_sepconv2_bn[0][0]        \n",
            "==================================================================================================\n",
            "Total params: 20,861,480\n",
            "Trainable params: 20,806,952\n",
            "Non-trainable params: 54,528\n",
            "__________________________________________________________________________________________________\n"
          ],
          "name": "stdout"
        }
      ]
    },
    {
      "cell_type": "markdown",
      "metadata": {
        "id": "D6OBHOO9q1ou",
        "colab_type": "text"
      },
      "source": [
        "### Freeze the convolutional base"
      ]
    },
    {
      "cell_type": "code",
      "metadata": {
        "id": "UleRo4Dpq6Ld",
        "colab_type": "code",
        "colab": {}
      },
      "source": [
        "conv_base.trainable = False"
      ],
      "execution_count": 0,
      "outputs": []
    },
    {
      "cell_type": "markdown",
      "metadata": {
        "id": "Qfx6PqhPrb7Q",
        "colab_type": "text"
      },
      "source": [
        "### Concatenate the convolutional base and densely connected layers"
      ]
    },
    {
      "cell_type": "code",
      "metadata": {
        "id": "qUpmocDAO3xm",
        "colab_type": "code",
        "colab": {}
      },
      "source": [
        "from keras import layers\n",
        "from keras import models\n",
        "from keras import optimizers\n",
        "\n",
        "model = models.Sequential()\n",
        "model.add(conv_base)\n",
        "model.add(layers.Flatten())\n",
        "# Changed the following layer\n",
        "model.add(layers.Dense(512, activation='relu'))\n",
        "# model.add(layers.Dropout(0.1))\n",
        "model.add(layers.Dense(1, activation='sigmoid'))"
      ],
      "execution_count": 0,
      "outputs": []
    },
    {
      "cell_type": "code",
      "metadata": {
        "id": "Fh6gZSeAjF7c",
        "colab_type": "code",
        "outputId": "a6eecddf-32a0-474a-f0bb-94e4530a75dc",
        "colab": {
          "base_uri": "https://localhost:8080/",
          "height": 289
        }
      },
      "source": [
        "model.summary()"
      ],
      "execution_count": 47,
      "outputs": [
        {
          "output_type": "stream",
          "text": [
            "Model: \"sequential_4\"\n",
            "_________________________________________________________________\n",
            "Layer (type)                 Output Shape              Param #   \n",
            "=================================================================\n",
            "xception (Model)             (None, 5, 5, 2048)        20861480  \n",
            "_________________________________________________________________\n",
            "flatten_4 (Flatten)          (None, 51200)             0         \n",
            "_________________________________________________________________\n",
            "dense_7 (Dense)              (None, 512)               26214912  \n",
            "_________________________________________________________________\n",
            "dense_8 (Dense)              (None, 1)                 513       \n",
            "=================================================================\n",
            "Total params: 47,076,905\n",
            "Trainable params: 26,215,425\n",
            "Non-trainable params: 20,861,480\n",
            "_________________________________________________________________\n"
          ],
          "name": "stdout"
        }
      ]
    },
    {
      "cell_type": "markdown",
      "metadata": {
        "id": "eZjBiddhi5Qj",
        "colab_type": "text"
      },
      "source": [
        "## Train the model end to end with frozen convolutional base"
      ]
    },
    {
      "cell_type": "code",
      "metadata": {
        "id": "tfAQlC2Oi41L",
        "colab_type": "code",
        "outputId": "8186edca-f272-44bb-e4db-29552ddef82b",
        "colab": {
          "base_uri": "https://localhost:8080/",
          "height": 1000
        }
      },
      "source": [
        "from keras.preprocessing.image import ImageDataGenerator\n",
        "from keras import optimizers\n",
        "\n",
        "# data augmentation\n",
        "\n",
        "train_datagen = ImageDataGenerator(\n",
        "    rescale=1./255, \n",
        "    rotation_range=40,\n",
        "    width_shift_range=0.2,\n",
        "    height_shift_range=0.2,\n",
        "    shear_range=0.2,\n",
        "    zoom_range=0.2,\n",
        "    horizontal_flip=True,\n",
        "    fill_mode='nearest'\n",
        ")\n",
        "\n",
        "train_generator = train_datagen.flow_from_directory(\n",
        "    train_dir,\n",
        "    target_size=(150, 150),\n",
        "    batch_size=20,\n",
        "    class_mode='binary')\n",
        "\n",
        "validation_datagen = ImageDataGenerator(rescale=1./255)\n",
        "\n",
        "validation_generator = validation_datagen.flow_from_directory(\n",
        "    validation_dir,\n",
        "    target_size=(150, 150),\n",
        "    batch_size=20,\n",
        "    class_mode='binary')\n",
        "\n",
        "# compile model\n",
        "\n",
        "# Higher learning rate than what is used later on\n",
        "model.compile(\n",
        "    loss='binary_crossentropy', \n",
        "    optimizer=optimizers.RMSprop(lr=2e-5), \n",
        "    metrics=['acc'])\n",
        "\n",
        "# train\n",
        "\n",
        "history = model.fit_generator(\n",
        "    train_generator,\n",
        "    steps_per_epoch=100,\n",
        "    epochs=100,\n",
        "    validation_data=validation_generator,\n",
        "    validation_steps=50\n",
        ")"
      ],
      "execution_count": 48,
      "outputs": [
        {
          "output_type": "stream",
          "text": [
            "Found 2000 images belonging to 2 classes.\n",
            "Found 1000 images belonging to 2 classes.\n",
            "Epoch 1/100\n",
            "100/100 [==============================] - 21s 212ms/step - loss: 0.4895 - acc: 0.7525 - val_loss: 0.4295 - val_acc: 0.9550\n",
            "Epoch 2/100\n",
            "100/100 [==============================] - 18s 181ms/step - loss: 0.3395 - acc: 0.8395 - val_loss: 0.0015 - val_acc: 0.9610\n",
            "Epoch 3/100\n",
            "100/100 [==============================] - 18s 181ms/step - loss: 0.3493 - acc: 0.8415 - val_loss: 0.0135 - val_acc: 0.9610\n",
            "Epoch 4/100\n",
            "100/100 [==============================] - 18s 183ms/step - loss: 0.3524 - acc: 0.8460 - val_loss: 0.1767 - val_acc: 0.9700\n",
            "Epoch 5/100\n",
            "100/100 [==============================] - 18s 182ms/step - loss: 0.3175 - acc: 0.8525 - val_loss: 1.0908e-04 - val_acc: 0.9610\n",
            "Epoch 6/100\n",
            "100/100 [==============================] - 18s 183ms/step - loss: 0.3184 - acc: 0.8625 - val_loss: 0.3943 - val_acc: 0.9570\n",
            "Epoch 7/100\n",
            "100/100 [==============================] - 18s 182ms/step - loss: 0.3038 - acc: 0.8675 - val_loss: 6.8622e-04 - val_acc: 0.9670\n",
            "Epoch 8/100\n",
            "100/100 [==============================] - 18s 182ms/step - loss: 0.3042 - acc: 0.8655 - val_loss: 0.0451 - val_acc: 0.9650\n",
            "Epoch 9/100\n",
            "100/100 [==============================] - 18s 182ms/step - loss: 0.3136 - acc: 0.8635 - val_loss: 0.8476 - val_acc: 0.9490\n",
            "Epoch 10/100\n",
            "100/100 [==============================] - 18s 183ms/step - loss: 0.3035 - acc: 0.8605 - val_loss: 2.1133e-05 - val_acc: 0.9610\n",
            "Epoch 11/100\n",
            "100/100 [==============================] - 18s 180ms/step - loss: 0.3131 - acc: 0.8615 - val_loss: 0.4219 - val_acc: 0.9650\n",
            "Epoch 12/100\n",
            "100/100 [==============================] - 18s 181ms/step - loss: 0.2802 - acc: 0.8755 - val_loss: 0.0485 - val_acc: 0.9580\n",
            "Epoch 13/100\n",
            "100/100 [==============================] - 18s 183ms/step - loss: 0.2803 - acc: 0.8790 - val_loss: 0.1012 - val_acc: 0.9650\n",
            "Epoch 14/100\n",
            "100/100 [==============================] - 18s 184ms/step - loss: 0.2943 - acc: 0.8820 - val_loss: 1.1120 - val_acc: 0.9610\n",
            "Epoch 15/100\n",
            "100/100 [==============================] - 18s 181ms/step - loss: 0.2841 - acc: 0.8825 - val_loss: 0.3556 - val_acc: 0.9670\n",
            "Epoch 16/100\n",
            "100/100 [==============================] - 18s 181ms/step - loss: 0.2848 - acc: 0.8790 - val_loss: 0.9029 - val_acc: 0.9670\n",
            "Epoch 17/100\n",
            "100/100 [==============================] - 18s 183ms/step - loss: 0.2943 - acc: 0.8750 - val_loss: 0.0018 - val_acc: 0.9470\n",
            "Epoch 18/100\n",
            "100/100 [==============================] - 18s 182ms/step - loss: 0.2616 - acc: 0.8885 - val_loss: 1.1405 - val_acc: 0.9680\n",
            "Epoch 19/100\n",
            "100/100 [==============================] - 18s 182ms/step - loss: 0.2704 - acc: 0.8835 - val_loss: 0.5345 - val_acc: 0.9700\n",
            "Epoch 20/100\n",
            "100/100 [==============================] - 18s 182ms/step - loss: 0.2730 - acc: 0.8795 - val_loss: 0.0389 - val_acc: 0.9620\n",
            "Epoch 21/100\n",
            "100/100 [==============================] - 18s 181ms/step - loss: 0.2482 - acc: 0.9005 - val_loss: 3.9302e-04 - val_acc: 0.9660\n",
            "Epoch 22/100\n",
            "100/100 [==============================] - 18s 184ms/step - loss: 0.2586 - acc: 0.8845 - val_loss: 1.2759 - val_acc: 0.9720\n",
            "Epoch 23/100\n",
            "100/100 [==============================] - 18s 180ms/step - loss: 0.2739 - acc: 0.8880 - val_loss: 0.0603 - val_acc: 0.9680\n",
            "Epoch 24/100\n",
            "100/100 [==============================] - 18s 181ms/step - loss: 0.2733 - acc: 0.8865 - val_loss: 0.3800 - val_acc: 0.9680\n",
            "Epoch 25/100\n",
            "100/100 [==============================] - 18s 180ms/step - loss: 0.2770 - acc: 0.8810 - val_loss: 2.8118e-04 - val_acc: 0.9720\n",
            "Epoch 26/100\n",
            "100/100 [==============================] - 18s 180ms/step - loss: 0.2439 - acc: 0.9050 - val_loss: 0.0012 - val_acc: 0.9640\n",
            "Epoch 27/100\n",
            "100/100 [==============================] - 18s 181ms/step - loss: 0.2730 - acc: 0.8885 - val_loss: 0.0288 - val_acc: 0.9680\n",
            "Epoch 28/100\n",
            "100/100 [==============================] - 18s 177ms/step - loss: 0.2690 - acc: 0.8785 - val_loss: 8.3781e-09 - val_acc: 0.9700\n",
            "Epoch 29/100\n",
            "100/100 [==============================] - 18s 180ms/step - loss: 0.2684 - acc: 0.8930 - val_loss: 6.5270e-04 - val_acc: 0.9700\n",
            "Epoch 30/100\n",
            "100/100 [==============================] - 18s 181ms/step - loss: 0.2437 - acc: 0.9000 - val_loss: 2.5101e-07 - val_acc: 0.9720\n",
            "Epoch 31/100\n",
            "100/100 [==============================] - 18s 179ms/step - loss: 0.2484 - acc: 0.8960 - val_loss: 1.1700 - val_acc: 0.9690\n",
            "Epoch 32/100\n",
            "100/100 [==============================] - 18s 179ms/step - loss: 0.2610 - acc: 0.8955 - val_loss: 4.1141e-09 - val_acc: 0.9750\n",
            "Epoch 33/100\n",
            "100/100 [==============================] - 18s 182ms/step - loss: 0.2572 - acc: 0.8960 - val_loss: 0.0540 - val_acc: 0.9650\n",
            "Epoch 34/100\n",
            "100/100 [==============================] - 18s 181ms/step - loss: 0.2418 - acc: 0.9015 - val_loss: 0.0491 - val_acc: 0.9740\n",
            "Epoch 35/100\n",
            "100/100 [==============================] - 18s 179ms/step - loss: 0.2555 - acc: 0.9005 - val_loss: 0.7692 - val_acc: 0.9730\n",
            "Epoch 36/100\n",
            "100/100 [==============================] - 18s 176ms/step - loss: 0.2451 - acc: 0.8975 - val_loss: 0.1190 - val_acc: 0.9730\n",
            "Epoch 37/100\n",
            "100/100 [==============================] - 18s 177ms/step - loss: 0.2458 - acc: 0.9010 - val_loss: 0.4375 - val_acc: 0.9620\n",
            "Epoch 38/100\n",
            "100/100 [==============================] - 18s 175ms/step - loss: 0.2394 - acc: 0.9020 - val_loss: 0.0247 - val_acc: 0.9660\n",
            "Epoch 39/100\n",
            "100/100 [==============================] - 18s 179ms/step - loss: 0.2504 - acc: 0.9030 - val_loss: 5.0360e-09 - val_acc: 0.9700\n",
            "Epoch 40/100\n",
            "100/100 [==============================] - 18s 177ms/step - loss: 0.2133 - acc: 0.9120 - val_loss: 0.2507 - val_acc: 0.9710\n",
            "Epoch 41/100\n",
            "100/100 [==============================] - 18s 176ms/step - loss: 0.2332 - acc: 0.9045 - val_loss: 4.2162e-06 - val_acc: 0.9760\n",
            "Epoch 42/100\n",
            "100/100 [==============================] - 17s 175ms/step - loss: 0.2530 - acc: 0.8980 - val_loss: 0.0723 - val_acc: 0.9760\n",
            "Epoch 43/100\n",
            "100/100 [==============================] - 18s 176ms/step - loss: 0.2409 - acc: 0.9135 - val_loss: 0.9916 - val_acc: 0.9690\n",
            "Epoch 44/100\n",
            "100/100 [==============================] - 18s 176ms/step - loss: 0.2399 - acc: 0.9040 - val_loss: 0.1041 - val_acc: 0.9570\n",
            "Epoch 45/100\n",
            "100/100 [==============================] - 17s 174ms/step - loss: 0.2236 - acc: 0.9115 - val_loss: 0.5865 - val_acc: 0.9620\n",
            "Epoch 46/100\n",
            "100/100 [==============================] - 18s 175ms/step - loss: 0.2586 - acc: 0.8995 - val_loss: 0.0196 - val_acc: 0.9730\n",
            "Epoch 47/100\n",
            "100/100 [==============================] - 17s 175ms/step - loss: 0.2480 - acc: 0.9010 - val_loss: 0.1964 - val_acc: 0.9710\n",
            "Epoch 48/100\n",
            "100/100 [==============================] - 18s 177ms/step - loss: 0.2197 - acc: 0.9115 - val_loss: 0.0813 - val_acc: 0.9700\n",
            "Epoch 49/100\n",
            "100/100 [==============================] - 18s 176ms/step - loss: 0.2302 - acc: 0.9020 - val_loss: 5.1555e-11 - val_acc: 0.9730\n",
            "Epoch 50/100\n",
            "100/100 [==============================] - 18s 176ms/step - loss: 0.2243 - acc: 0.9125 - val_loss: 0.0602 - val_acc: 0.9710\n",
            "Epoch 51/100\n",
            "100/100 [==============================] - 18s 175ms/step - loss: 0.2271 - acc: 0.9065 - val_loss: 0.9669 - val_acc: 0.9680\n",
            "Epoch 52/100\n",
            "100/100 [==============================] - 18s 177ms/step - loss: 0.2401 - acc: 0.9145 - val_loss: 1.2921 - val_acc: 0.9730\n",
            "Epoch 53/100\n",
            "100/100 [==============================] - 18s 178ms/step - loss: 0.2213 - acc: 0.9100 - val_loss: 0.3811 - val_acc: 0.9670\n",
            "Epoch 54/100\n",
            "100/100 [==============================] - 18s 176ms/step - loss: 0.2163 - acc: 0.9165 - val_loss: 0.9503 - val_acc: 0.9600\n",
            "Epoch 55/100\n",
            "100/100 [==============================] - 18s 175ms/step - loss: 0.2472 - acc: 0.9045 - val_loss: 1.8157 - val_acc: 0.9690\n",
            "Epoch 56/100\n",
            "100/100 [==============================] - 17s 174ms/step - loss: 0.2502 - acc: 0.9050 - val_loss: 0.0990 - val_acc: 0.9760\n",
            "Epoch 57/100\n",
            "100/100 [==============================] - 18s 177ms/step - loss: 0.2270 - acc: 0.9155 - val_loss: 6.7609e-07 - val_acc: 0.9730\n",
            "Epoch 58/100\n",
            "100/100 [==============================] - 18s 176ms/step - loss: 0.2150 - acc: 0.9105 - val_loss: 1.0150 - val_acc: 0.9580\n",
            "Epoch 59/100\n",
            "100/100 [==============================] - 17s 172ms/step - loss: 0.2299 - acc: 0.9040 - val_loss: 3.8215e-08 - val_acc: 0.9690\n",
            "Epoch 60/100\n",
            "100/100 [==============================] - 18s 175ms/step - loss: 0.2123 - acc: 0.9085 - val_loss: 0.1648 - val_acc: 0.9680\n",
            "Epoch 61/100\n",
            "100/100 [==============================] - 17s 174ms/step - loss: 0.2241 - acc: 0.9070 - val_loss: 0.0291 - val_acc: 0.9740\n",
            "Epoch 62/100\n",
            "100/100 [==============================] - 17s 174ms/step - loss: 0.2142 - acc: 0.9205 - val_loss: 0.2534 - val_acc: 0.9690\n",
            "Epoch 63/100\n",
            "100/100 [==============================] - 17s 172ms/step - loss: 0.2240 - acc: 0.9115 - val_loss: 5.5648e-10 - val_acc: 0.9680\n",
            "Epoch 64/100\n",
            "100/100 [==============================] - 17s 174ms/step - loss: 0.2004 - acc: 0.9155 - val_loss: 0.0017 - val_acc: 0.9650\n",
            "Epoch 65/100\n",
            "100/100 [==============================] - 18s 176ms/step - loss: 0.2285 - acc: 0.9110 - val_loss: 0.5067 - val_acc: 0.9730\n",
            "Epoch 66/100\n",
            "100/100 [==============================] - 17s 175ms/step - loss: 0.2244 - acc: 0.9260 - val_loss: 5.2822e-07 - val_acc: 0.9710\n",
            "Epoch 67/100\n",
            "100/100 [==============================] - 18s 177ms/step - loss: 0.2069 - acc: 0.9250 - val_loss: 0.4416 - val_acc: 0.9680\n",
            "Epoch 68/100\n",
            "100/100 [==============================] - 18s 177ms/step - loss: 0.1926 - acc: 0.9215 - val_loss: 0.0469 - val_acc: 0.9680\n",
            "Epoch 69/100\n",
            "100/100 [==============================] - 18s 177ms/step - loss: 0.2103 - acc: 0.9160 - val_loss: 0.2045 - val_acc: 0.9550\n",
            "Epoch 70/100\n",
            "100/100 [==============================] - 18s 176ms/step - loss: 0.2176 - acc: 0.9130 - val_loss: 0.1389 - val_acc: 0.9730\n",
            "Epoch 71/100\n",
            "100/100 [==============================] - 18s 180ms/step - loss: 0.2164 - acc: 0.9195 - val_loss: 0.2641 - val_acc: 0.9700\n",
            "Epoch 72/100\n",
            "100/100 [==============================] - 18s 176ms/step - loss: 0.1891 - acc: 0.9270 - val_loss: 6.6737e-04 - val_acc: 0.9630\n",
            "Epoch 73/100\n",
            "100/100 [==============================] - 18s 179ms/step - loss: 0.2200 - acc: 0.9130 - val_loss: 3.9585e-06 - val_acc: 0.9670\n",
            "Epoch 74/100\n",
            "100/100 [==============================] - 18s 179ms/step - loss: 0.2064 - acc: 0.9135 - val_loss: 0.2885 - val_acc: 0.9670\n",
            "Epoch 75/100\n",
            "100/100 [==============================] - 18s 182ms/step - loss: 0.2184 - acc: 0.9195 - val_loss: 2.0256e-04 - val_acc: 0.9670\n",
            "Epoch 76/100\n",
            "100/100 [==============================] - 18s 180ms/step - loss: 0.2108 - acc: 0.9150 - val_loss: 1.8529e-04 - val_acc: 0.9720\n",
            "Epoch 77/100\n",
            "100/100 [==============================] - 18s 179ms/step - loss: 0.1904 - acc: 0.9205 - val_loss: 2.4961e-11 - val_acc: 0.9670\n",
            "Epoch 78/100\n",
            "100/100 [==============================] - 18s 179ms/step - loss: 0.2125 - acc: 0.9205 - val_loss: 1.6494e-07 - val_acc: 0.9660\n",
            "Epoch 79/100\n",
            "100/100 [==============================] - 18s 178ms/step - loss: 0.2054 - acc: 0.9295 - val_loss: 7.9593e-05 - val_acc: 0.9560\n",
            "Epoch 80/100\n",
            "100/100 [==============================] - 18s 180ms/step - loss: 0.2167 - acc: 0.9175 - val_loss: 1.0086e-05 - val_acc: 0.9680\n",
            "Epoch 81/100\n",
            "100/100 [==============================] - 18s 180ms/step - loss: 0.1793 - acc: 0.9290 - val_loss: 0.8793 - val_acc: 0.9710\n",
            "Epoch 82/100\n",
            "100/100 [==============================] - 18s 180ms/step - loss: 0.2256 - acc: 0.9225 - val_loss: 0.4606 - val_acc: 0.9670\n",
            "Epoch 83/100\n",
            "100/100 [==============================] - 18s 180ms/step - loss: 0.2220 - acc: 0.9205 - val_loss: 0.2392 - val_acc: 0.9660\n",
            "Epoch 84/100\n",
            "100/100 [==============================] - 18s 181ms/step - loss: 0.2201 - acc: 0.9180 - val_loss: 0.0186 - val_acc: 0.9730\n",
            "Epoch 85/100\n",
            "100/100 [==============================] - 18s 182ms/step - loss: 0.1829 - acc: 0.9295 - val_loss: 4.9234e-05 - val_acc: 0.9670\n",
            "Epoch 86/100\n",
            "100/100 [==============================] - 18s 182ms/step - loss: 0.2037 - acc: 0.9195 - val_loss: 0.5212 - val_acc: 0.9580\n",
            "Epoch 87/100\n",
            "100/100 [==============================] - 18s 181ms/step - loss: 0.1831 - acc: 0.9280 - val_loss: 0.0729 - val_acc: 0.9590\n",
            "Epoch 88/100\n",
            "100/100 [==============================] - 18s 183ms/step - loss: 0.2395 - acc: 0.9155 - val_loss: 1.4591e-05 - val_acc: 0.9680\n",
            "Epoch 89/100\n",
            "100/100 [==============================] - 18s 181ms/step - loss: 0.1678 - acc: 0.9310 - val_loss: 0.0251 - val_acc: 0.9670\n",
            "Epoch 90/100\n",
            "100/100 [==============================] - 18s 182ms/step - loss: 0.2150 - acc: 0.9190 - val_loss: 1.4104 - val_acc: 0.9670\n",
            "Epoch 91/100\n",
            "100/100 [==============================] - 18s 181ms/step - loss: 0.2030 - acc: 0.9210 - val_loss: 1.9835e-13 - val_acc: 0.9700\n",
            "Epoch 92/100\n",
            "100/100 [==============================] - 18s 182ms/step - loss: 0.2043 - acc: 0.9255 - val_loss: 0.0278 - val_acc: 0.9670\n",
            "Epoch 93/100\n",
            "100/100 [==============================] - 18s 179ms/step - loss: 0.2006 - acc: 0.9305 - val_loss: 0.9266 - val_acc: 0.9670\n",
            "Epoch 94/100\n",
            "100/100 [==============================] - 18s 182ms/step - loss: 0.1775 - acc: 0.9315 - val_loss: 1.1255 - val_acc: 0.9670\n",
            "Epoch 95/100\n",
            "100/100 [==============================] - 18s 181ms/step - loss: 0.1912 - acc: 0.9275 - val_loss: 0.0023 - val_acc: 0.9640\n",
            "Epoch 96/100\n",
            "100/100 [==============================] - 18s 181ms/step - loss: 0.2058 - acc: 0.9300 - val_loss: 0.1326 - val_acc: 0.9660\n",
            "Epoch 97/100\n",
            "100/100 [==============================] - 18s 180ms/step - loss: 0.1751 - acc: 0.9325 - val_loss: 0.2892 - val_acc: 0.9550\n",
            "Epoch 98/100\n",
            "100/100 [==============================] - 18s 180ms/step - loss: 0.1944 - acc: 0.9295 - val_loss: 2.7656e-06 - val_acc: 0.9660\n",
            "Epoch 99/100\n",
            "100/100 [==============================] - 18s 179ms/step - loss: 0.1830 - acc: 0.9365 - val_loss: 0.4964 - val_acc: 0.9700\n",
            "Epoch 100/100\n",
            "100/100 [==============================] - 18s 179ms/step - loss: 0.2043 - acc: 0.9270 - val_loss: 1.6222e-06 - val_acc: 0.9670\n"
          ],
          "name": "stdout"
        }
      ]
    },
    {
      "cell_type": "markdown",
      "metadata": {
        "id": "xqRc_vHKc92U",
        "colab_type": "text"
      },
      "source": [
        "## Display curves of loss and accuracy during training"
      ]
    },
    {
      "cell_type": "code",
      "metadata": {
        "id": "ybWwdzz9bwuQ",
        "colab_type": "code",
        "outputId": "3d996212-8bf0-4e4f-9d7c-d9e3260e22f1",
        "colab": {
          "base_uri": "https://localhost:8080/",
          "height": 545
        }
      },
      "source": [
        "%matplotlib inline\n",
        "\n",
        "import matplotlib.pyplot as plt\n",
        "\n",
        "acc = history.history['acc']\n",
        "val_acc = history.history['val_acc']\n",
        "\n",
        "loss = history.history['loss']\n",
        "val_loss = history.history['val_loss']\n",
        "\n",
        "epochs = range(1, len(acc) + 1)\n",
        "\n",
        "# training and validation accuracy\n",
        "\n",
        "plt.plot(epochs, acc, 'bo', label='training acc')\n",
        "plt.plot(epochs, val_acc, 'b', label='validation acc')\n",
        "plt.title('training and validation accuracy')\n",
        "plt.legend()\n",
        "\n",
        "plt.figure()\n",
        "\n",
        "# training and validation loss\n",
        "\n",
        "plt.plot(epochs, loss, 'bo', label='training loss')\n",
        "plt.plot(epochs, val_loss, 'b', label='validation loss')\n",
        "plt.title('training and validation loss')\n",
        "plt.legend()\n",
        "\n",
        "plt.show()"
      ],
      "execution_count": 49,
      "outputs": [
        {
          "output_type": "display_data",
          "data": {
            "image/png": "[encoded data removed]",
            "text/plain": [
              "<Figure size 432x288 with 1 Axes>"
            ]
          },
          "metadata": {
            "tags": [],
            "needs_background": "light"
          }
        },
        {
          "output_type": "display_data",
          "data": {
            "image/png": "[encoded data removed]",
            "text/plain": [
              "<Figure size 432x288 with 1 Axes>"
            ]
          },
          "metadata": {
            "tags": [],
            "needs_background": "light"
          }
        }
      ]
    },
    {
      "cell_type": "markdown",
      "metadata": {
        "id": "lOWsxpey8lN0",
        "colab_type": "text"
      },
      "source": [
        "## Fine-tuning"
      ]
    },
    {
      "cell_type": "markdown",
      "metadata": {
        "id": "8SFUw6COkGz7",
        "colab_type": "text"
      },
      "source": [
        "Fine tuning results are usually done if the data set being used isn't very different than the data from the pre-trained model. One problem with fine tuning results for a small dataset can lead to overfitting."
      ]
    },
    {
      "cell_type": "code",
      "metadata": {
        "id": "PwkVMx8N8qMw",
        "colab_type": "code",
        "colab": {}
      },
      "source": [
        "conv_base.trainable = True\n",
        "\n",
        "set_trainable = False\n",
        "for layer in conv_base.layers:\n",
        "  if layer.name == 'block13_sepconv2':\n",
        "    set_trainable = True\n",
        "  if set_trainable:\n",
        "    layer.trainable = True\n",
        "  else:\n",
        "    layer.trainable = False"
      ],
      "execution_count": 0,
      "outputs": []
    },
    {
      "cell_type": "code",
      "metadata": {
        "id": "DyN-J7rs9cvo",
        "colab_type": "code",
        "outputId": "b5305226-5538-4e8c-ee73-ca70e307fd42",
        "colab": {
          "base_uri": "https://localhost:8080/",
          "height": 1000
        }
      },
      "source": [
        "# compile model\n",
        "\n",
        "model.compile(\n",
        "    loss='binary_crossentropy',\n",
        "    #\n",
        "    # choose a smaller learning rate\n",
        "    #\n",
        "    optimizer=optimizers.RMSprop(lr=1e-5), \n",
        "    metrics=['acc'])\n",
        "\n",
        "# train\n",
        "\n",
        "history = model.fit_generator(\n",
        "    train_generator,\n",
        "    steps_per_epoch=50,\n",
        "    epochs=100,\n",
        "    validation_data=validation_generator,\n",
        "    validation_steps=50)"
      ],
      "execution_count": 51,
      "outputs": [
        {
          "output_type": "stream",
          "text": [
            "50/50 [==============================] - 11s 218ms/step - loss: 0.1292 - acc: 0.9480 - val_loss: 0.1652 - val_acc: 0.9470\n",
            "Epoch 82/100\n",
            "50/50 [==============================] - 11s 217ms/step - loss: 0.1478 - acc: 0.9460 - val_loss: 0.0071 - val_acc: 0.9400\n",
            "Epoch 83/100\n",
            "50/50 [==============================] - 11s 217ms/step - loss: 0.1679 - acc: 0.9400 - val_loss: 0.8106 - val_acc: 0.9490\n",
            "Epoch 84/100\n",
            "50/50 [==============================] - 11s 218ms/step - loss: 0.1171 - acc: 0.9530 - val_loss: 0.6899 - val_acc: 0.9300\n",
            "Epoch 85/100\n",
            "50/50 [==============================] - 11s 219ms/step - loss: 0.1435 - acc: 0.9410 - val_loss: 0.3637 - val_acc: 0.9550\n",
            "Epoch 86/100\n",
            "50/50 [==============================] - 11s 218ms/step - loss: 0.1432 - acc: 0.9390 - val_loss: 0.2872 - val_acc: 0.9320\n",
            "Epoch 87/100\n",
            "50/50 [==============================] - 11s 216ms/step - loss: 0.1325 - acc: 0.9380 - val_loss: 0.8083 - val_acc: 0.9370\n",
            "Epoch 88/100\n",
            "50/50 [==============================] - 11s 217ms/step - loss: 0.1223 - acc: 0.9540 - val_loss: 0.0436 - val_acc: 0.9360\n",
            "Epoch 89/100\n",
            "50/50 [==============================] - 11s 218ms/step - loss: 0.1349 - acc: 0.9580 - val_loss: 1.3730 - val_acc: 0.9430\n",
            "Epoch 90/100\n",
            "50/50 [==============================] - 11s 216ms/step - loss: 0.1287 - acc: 0.9440 - val_loss: 0.1449 - val_acc: 0.9490\n",
            "Epoch 91/100\n",
            "50/50 [==============================] - 11s 217ms/step - loss: 0.1332 - acc: 0.9520 - val_loss: 0.1089 - val_acc: 0.9360\n",
            "Epoch 92/100\n",
            "50/50 [==============================] - 11s 218ms/step - loss: 0.1149 - acc: 0.9610 - val_loss: 0.2645 - val_acc: 0.9360\n",
            "Epoch 93/100\n",
            "50/50 [==============================] - 11s 217ms/step - loss: 0.1549 - acc: 0.9510 - val_loss: 0.1196 - val_acc: 0.9450\n",
            "Epoch 94/100\n",
            "50/50 [==============================] - 11s 217ms/step - loss: 0.1319 - acc: 0.9440 - val_loss: 0.0609 - val_acc: 0.9390\n",
            "Epoch 95/100\n",
            "50/50 [==============================] - 11s 216ms/step - loss: 0.1418 - acc: 0.9510 - val_loss: 0.0681 - val_acc: 0.9510\n",
            "Epoch 96/100\n",
            "50/50 [==============================] - 11s 218ms/step - loss: 0.1141 - acc: 0.9620 - val_loss: 0.2994 - val_acc: 0.9470\n",
            "Epoch 97/100\n",
            "50/50 [==============================] - 11s 216ms/step - loss: 0.1487 - acc: 0.9480 - val_loss: 0.0057 - val_acc: 0.9530\n",
            "Epoch 98/100\n",
            "50/50 [==============================] - 11s 218ms/step - loss: 0.1247 - acc: 0.9610 - val_loss: 0.0334 - val_acc: 0.9450\n",
            "Epoch 99/100\n",
            "50/50 [==============================] - 11s 218ms/step - loss: 0.1506 - acc: 0.9460 - val_loss: 0.0422 - val_acc: 0.9460\n",
            "Epoch 100/100\n",
            "50/50 [==============================] - 11s 219ms/step - loss: 0.1468 - acc: 0.9500 - val_loss: 0.0653 - val_acc: 0.9430\n",
            "Epoch 1/100\n",
            "50/50 [==============================] - 14s 284ms/step - loss: 0.1553 - acc: 0.9450 - val_loss: 0.0698 - val_acc: 0.9600\n",
            "Epoch 2/100\n",
            "50/50 [==============================] - 11s 210ms/step - loss: 0.2062 - acc: 0.9280 - val_loss: 0.1511 - val_acc: 0.9560\n",
            "Epoch 3/100\n",
            "50/50 [==============================] - 11s 211ms/step - loss: 0.1665 - acc: 0.9390 - val_loss: 1.3029 - val_acc: 0.9420\n",
            "Epoch 4/100\n",
            "50/50 [==============================] - 11s 211ms/step - loss: 0.1695 - acc: 0.9410 - val_loss: 0.4862 - val_acc: 0.9410\n",
            "Epoch 5/100\n",
            "50/50 [==============================] - 11s 211ms/step - loss: 0.1776 - acc: 0.9380 - val_loss: 0.1811 - val_acc: 0.9340\n",
            "Epoch 6/100\n",
            "50/50 [==============================] - 10s 208ms/step - loss: 0.1524 - acc: 0.9400 - val_loss: 0.1561 - val_acc: 0.9340\n",
            "Epoch 7/100\n",
            "50/50 [==============================] - 10s 209ms/step - loss: 0.1630 - acc: 0.9440 - val_loss: 0.0796 - val_acc: 0.9260\n",
            "Epoch 8/100\n",
            "50/50 [==============================] - 11s 210ms/step - loss: 0.1490 - acc: 0.9370 - val_loss: 0.3525 - val_acc: 0.9290\n",
            "Epoch 9/100\n",
            "50/50 [==============================] - 10s 208ms/step - loss: 0.1353 - acc: 0.9430 - val_loss: 0.1747 - val_acc: 0.9370\n",
            "Epoch 10/100\n",
            "50/50 [==============================] - 10s 209ms/step - loss: 0.1714 - acc: 0.9360 - val_loss: 0.0974 - val_acc: 0.9320\n",
            "Epoch 11/100\n",
            "50/50 [==============================] - 11s 211ms/step - loss: 0.1795 - acc: 0.9340 - val_loss: 0.1241 - val_acc: 0.9360\n",
            "Epoch 12/100\n",
            "50/50 [==============================] - 10s 209ms/step - loss: 0.1792 - acc: 0.9230 - val_loss: 0.1125 - val_acc: 0.9220\n",
            "Epoch 13/100\n",
            "50/50 [==============================] - 10s 209ms/step - loss: 0.1627 - acc: 0.9390 - val_loss: 0.1106 - val_acc: 0.9320\n",
            "Epoch 14/100\n",
            "50/50 [==============================] - 11s 213ms/step - loss: 0.1839 - acc: 0.9360 - val_loss: 0.2976 - val_acc: 0.9370\n",
            "Epoch 15/100\n",
            "50/50 [==============================] - 10s 207ms/step - loss: 0.1381 - acc: 0.9530 - val_loss: 0.2916 - val_acc: 0.9360\n",
            "Epoch 16/100\n",
            "50/50 [==============================] - 10s 206ms/step - loss: 0.1599 - acc: 0.9390 - val_loss: 0.1246 - val_acc: 0.9280\n",
            "Epoch 17/100\n",
            "50/50 [==============================] - 10s 207ms/step - loss: 0.1835 - acc: 0.9360 - val_loss: 0.5192 - val_acc: 0.9280\n",
            "Epoch 18/100\n",
            "50/50 [==============================] - 10s 205ms/step - loss: 0.1598 - acc: 0.9450 - val_loss: 0.1058 - val_acc: 0.9320\n",
            "Epoch 19/100\n",
            "50/50 [==============================] - 10s 208ms/step - loss: 0.1446 - acc: 0.9410 - val_loss: 0.5168 - val_acc: 0.9230\n",
            "Epoch 20/100\n",
            "50/50 [==============================] - 10s 206ms/step - loss: 0.1392 - acc: 0.9490 - val_loss: 0.0615 - val_acc: 0.9300\n",
            "Epoch 21/100\n",
            "50/50 [==============================] - 10s 206ms/step - loss: 0.1381 - acc: 0.9520 - val_loss: 0.3848 - val_acc: 0.9250\n",
            "Epoch 22/100\n",
            "50/50 [==============================] - 10s 208ms/step - loss: 0.1327 - acc: 0.9380 - val_loss: 0.0048 - val_acc: 0.9300\n",
            "Epoch 23/100\n",
            "50/50 [==============================] - 10s 206ms/step - loss: 0.1527 - acc: 0.9430 - val_loss: 0.0049 - val_acc: 0.9300\n",
            "Epoch 24/100\n",
            "50/50 [==============================] - 10s 208ms/step - loss: 0.1533 - acc: 0.9480 - val_loss: 0.2451 - val_acc: 0.9330\n",
            "Epoch 25/100\n",
            "50/50 [==============================] - 10s 207ms/step - loss: 0.1357 - acc: 0.9530 - val_loss: 0.3235 - val_acc: 0.9320\n",
            "Epoch 26/100\n",
            "50/50 [==============================] - 10s 208ms/step - loss: 0.1485 - acc: 0.9380 - val_loss: 0.0105 - val_acc: 0.9350\n",
            "Epoch 27/100\n",
            "50/50 [==============================] - 10s 207ms/step - loss: 0.1703 - acc: 0.9360 - val_loss: 0.4482 - val_acc: 0.9350\n",
            "Epoch 28/100\n",
            "50/50 [==============================] - 10s 206ms/step - loss: 0.1741 - acc: 0.9400 - val_loss: 0.1345 - val_acc: 0.9410\n",
            "Epoch 29/100\n",
            "50/50 [==============================] - 10s 207ms/step - loss: 0.1354 - acc: 0.9430 - val_loss: 0.2609 - val_acc: 0.9180\n",
            "Epoch 30/100\n",
            "50/50 [==============================] - 10s 205ms/step - loss: 0.1402 - acc: 0.9480 - val_loss: 0.1022 - val_acc: 0.9250\n",
            "Epoch 31/100\n",
            "50/50 [==============================] - 10s 207ms/step - loss: 0.1398 - acc: 0.9400 - val_loss: 0.0500 - val_acc: 0.9380\n",
            "Epoch 32/100\n",
            "50/50 [==============================] - 10s 208ms/step - loss: 0.0975 - acc: 0.9740 - val_loss: 0.2612 - val_acc: 0.9420\n",
            "Epoch 33/100\n",
            "50/50 [==============================] - 10s 208ms/step - loss: 0.1708 - acc: 0.9380 - val_loss: 0.1480 - val_acc: 0.9400\n",
            "Epoch 34/100\n",
            "50/50 [==============================] - 10s 209ms/step - loss: 0.1550 - acc: 0.9390 - val_loss: 0.0210 - val_acc: 0.9360\n",
            "Epoch 35/100\n",
            "50/50 [==============================] - 11s 211ms/step - loss: 0.1282 - acc: 0.9570 - val_loss: 0.1287 - val_acc: 0.9340\n",
            "Epoch 36/100\n",
            "50/50 [==============================] - 10s 208ms/step - loss: 0.1359 - acc: 0.9480 - val_loss: 0.0180 - val_acc: 0.9380\n",
            "Epoch 37/100\n",
            "50/50 [==============================] - 10s 209ms/step - loss: 0.1332 - acc: 0.9530 - val_loss: 0.3965 - val_acc: 0.9380\n",
            "Epoch 38/100\n",
            "50/50 [==============================] - 10s 207ms/step - loss: 0.1074 - acc: 0.9590 - val_loss: 0.2044 - val_acc: 0.9400\n",
            "Epoch 39/100\n",
            "50/50 [==============================] - 10s 206ms/step - loss: 0.1609 - acc: 0.9460 - val_loss: 0.1160 - val_acc: 0.9380\n",
            "Epoch 40/100\n",
            "50/50 [==============================] - 10s 208ms/step - loss: 0.1384 - acc: 0.9490 - val_loss: 0.1497 - val_acc: 0.9370\n",
            "Epoch 41/100\n",
            "50/50 [==============================] - 10s 208ms/step - loss: 0.1379 - acc: 0.9500 - val_loss: 0.1019 - val_acc: 0.9470\n",
            "Epoch 42/100\n",
            "50/50 [==============================] - 10s 208ms/step - loss: 0.1213 - acc: 0.9540 - val_loss: 0.1140 - val_acc: 0.9420\n",
            "Epoch 43/100\n",
            "50/50 [==============================] - 10s 207ms/step - loss: 0.1434 - acc: 0.9450 - val_loss: 0.0556 - val_acc: 0.9380\n",
            "Epoch 44/100\n",
            "50/50 [==============================] - 11s 211ms/step - loss: 0.1623 - acc: 0.9430 - val_loss: 0.0293 - val_acc: 0.9300\n",
            "Epoch 45/100\n",
            "50/50 [==============================] - 10s 208ms/step - loss: 0.1324 - acc: 0.9510 - val_loss: 0.1071 - val_acc: 0.9390\n",
            "Epoch 46/100\n",
            "50/50 [==============================] - 10s 207ms/step - loss: 0.1322 - acc: 0.9430 - val_loss: 0.1984 - val_acc: 0.9400\n",
            "Epoch 47/100\n",
            "50/50 [==============================] - 10s 207ms/step - loss: 0.0945 - acc: 0.9620 - val_loss: 0.0023 - val_acc: 0.9410\n",
            "Epoch 48/100\n",
            "50/50 [==============================] - 10s 207ms/step - loss: 0.1609 - acc: 0.9400 - val_loss: 0.0141 - val_acc: 0.9270\n",
            "Epoch 49/100\n",
            "50/50 [==============================] - 10s 209ms/step - loss: 0.1350 - acc: 0.9530 - val_loss: 0.2229 - val_acc: 0.9350\n",
            "Epoch 50/100\n",
            "50/50 [==============================] - 10s 208ms/step - loss: 0.1145 - acc: 0.9560 - val_loss: 0.0114 - val_acc: 0.9330\n",
            "Epoch 51/100\n",
            "50/50 [==============================] - 10s 207ms/step - loss: 0.1372 - acc: 0.9540 - val_loss: 0.1343 - val_acc: 0.9250\n",
            "Epoch 52/100\n",
            "50/50 [==============================] - 10s 206ms/step - loss: 0.1380 - acc: 0.9490 - val_loss: 0.0486 - val_acc: 0.9290\n",
            "Epoch 53/100\n",
            "50/50 [==============================] - 10s 206ms/step - loss: 0.1069 - acc: 0.9620 - val_loss: 0.2279 - val_acc: 0.9430\n",
            "Epoch 54/100\n",
            "50/50 [==============================] - 10s 207ms/step - loss: 0.1386 - acc: 0.9480 - val_loss: 0.3228 - val_acc: 0.9350\n",
            "Epoch 55/100\n",
            "50/50 [==============================] - 10s 207ms/step - loss: 0.1609 - acc: 0.9410 - val_loss: 0.0421 - val_acc: 0.9370\n",
            "Epoch 56/100\n",
            "50/50 [==============================] - 10s 206ms/step - loss: 0.1414 - acc: 0.9490 - val_loss: 0.0804 - val_acc: 0.9410\n",
            "Epoch 57/100\n",
            "50/50 [==============================] - 10s 210ms/step - loss: 0.1234 - acc: 0.9580 - val_loss: 0.5254 - val_acc: 0.9300\n",
            "Epoch 58/100\n",
            "50/50 [==============================] - 11s 212ms/step - loss: 0.1201 - acc: 0.9610 - val_loss: 0.1280 - val_acc: 0.9370\n",
            "Epoch 59/100\n",
            "50/50 [==============================] - 10s 206ms/step - loss: 0.1016 - acc: 0.9580 - val_loss: 0.1694 - val_acc: 0.9390\n",
            "Epoch 60/100\n",
            "50/50 [==============================] - 10s 209ms/step - loss: 0.1097 - acc: 0.9570 - val_loss: 0.3540 - val_acc: 0.9320\n",
            "Epoch 61/100\n",
            "50/50 [==============================] - 10s 206ms/step - loss: 0.1253 - acc: 0.9540 - val_loss: 0.0227 - val_acc: 0.9390\n",
            "Epoch 62/100\n",
            "50/50 [==============================] - 10s 205ms/step - loss: 0.1203 - acc: 0.9540 - val_loss: 0.8598 - val_acc: 0.9300\n",
            "Epoch 63/100\n",
            "50/50 [==============================] - 10s 204ms/step - loss: 0.1274 - acc: 0.9590 - val_loss: 0.2618 - val_acc: 0.9350\n",
            "Epoch 64/100\n",
            "50/50 [==============================] - 10s 209ms/step - loss: 0.1295 - acc: 0.9560 - val_loss: 0.0315 - val_acc: 0.9400\n",
            "Epoch 65/100\n",
            "50/50 [==============================] - 10s 208ms/step - loss: 0.1150 - acc: 0.9540 - val_loss: 0.9563 - val_acc: 0.9390\n",
            "Epoch 66/100\n",
            "50/50 [==============================] - 10s 209ms/step - loss: 0.1058 - acc: 0.9510 - val_loss: 0.0399 - val_acc: 0.9410\n",
            "Epoch 67/100\n",
            "50/50 [==============================] - 10s 207ms/step - loss: 0.1446 - acc: 0.9460 - val_loss: 0.0971 - val_acc: 0.9370\n",
            "Epoch 68/100\n",
            "50/50 [==============================] - 10s 207ms/step - loss: 0.1056 - acc: 0.9660 - val_loss: 0.0494 - val_acc: 0.9330\n",
            "Epoch 69/100\n",
            "50/50 [==============================] - 10s 206ms/step - loss: 0.1162 - acc: 0.9630 - val_loss: 0.2382 - val_acc: 0.9340\n",
            "Epoch 70/100\n",
            "50/50 [==============================] - 10s 207ms/step - loss: 0.1308 - acc: 0.9520 - val_loss: 0.2789 - val_acc: 0.9350\n",
            "Epoch 71/100\n",
            "50/50 [==============================] - 10s 206ms/step - loss: 0.1105 - acc: 0.9550 - val_loss: 2.1293e-04 - val_acc: 0.9200\n",
            "Epoch 72/100\n",
            "50/50 [==============================] - 10s 208ms/step - loss: 0.1227 - acc: 0.9500 - val_loss: 0.1745 - val_acc: 0.9380\n",
            "Epoch 73/100\n",
            "50/50 [==============================] - 10s 207ms/step - loss: 0.1170 - acc: 0.9570 - val_loss: 0.0797 - val_acc: 0.9360\n",
            "Epoch 74/100\n",
            "50/50 [==============================] - 11s 212ms/step - loss: 0.1072 - acc: 0.9610 - val_loss: 0.1629 - val_acc: 0.9370\n",
            "Epoch 75/100\n",
            "50/50 [==============================] - 10s 206ms/step - loss: 0.1011 - acc: 0.9600 - val_loss: 0.0755 - val_acc: 0.9370\n",
            "Epoch 76/100\n",
            "50/50 [==============================] - 10s 208ms/step - loss: 0.1053 - acc: 0.9560 - val_loss: 0.3919 - val_acc: 0.9400\n",
            "Epoch 77/100\n",
            "50/50 [==============================] - 10s 207ms/step - loss: 0.1030 - acc: 0.9560 - val_loss: 0.1483 - val_acc: 0.9400\n",
            "Epoch 78/100\n",
            "50/50 [==============================] - 10s 205ms/step - loss: 0.1180 - acc: 0.9570 - val_loss: 0.1354 - val_acc: 0.9380\n",
            "Epoch 79/100\n",
            "50/50 [==============================] - 10s 205ms/step - loss: 0.1175 - acc: 0.9500 - val_loss: 0.1946 - val_acc: 0.9320\n",
            "Epoch 80/100\n",
            "50/50 [==============================] - 10s 206ms/step - loss: 0.1359 - acc: 0.9500 - val_loss: 0.0639 - val_acc: 0.9380\n",
            "Epoch 81/100\n",
            "50/50 [==============================] - 10s 208ms/step - loss: 0.1060 - acc: 0.9600 - val_loss: 0.7152 - val_acc: 0.9260\n",
            "Epoch 82/100\n",
            "50/50 [==============================] - 10s 207ms/step - loss: 0.1027 - acc: 0.9560 - val_loss: 0.1969 - val_acc: 0.9290\n",
            "Epoch 83/100\n",
            "50/50 [==============================] - 10s 207ms/step - loss: 0.0977 - acc: 0.9620 - val_loss: 0.3349 - val_acc: 0.9410\n",
            "Epoch 84/100\n",
            "50/50 [==============================] - 10s 204ms/step - loss: 0.1151 - acc: 0.9560 - val_loss: 0.1293 - val_acc: 0.9400\n",
            "Epoch 85/100\n",
            "50/50 [==============================] - 10s 203ms/step - loss: 0.1098 - acc: 0.9600 - val_loss: 0.1455 - val_acc: 0.9450\n",
            "Epoch 86/100\n",
            "50/50 [==============================] - 10s 206ms/step - loss: 0.1382 - acc: 0.9480 - val_loss: 0.2050 - val_acc: 0.9350\n",
            "Epoch 87/100\n",
            "50/50 [==============================] - 10s 205ms/step - loss: 0.1288 - acc: 0.9570 - val_loss: 0.7110 - val_acc: 0.9360\n",
            "Epoch 88/100\n",
            "50/50 [==============================] - 10s 202ms/step - loss: 0.1027 - acc: 0.9630 - val_loss: 0.0522 - val_acc: 0.9400\n",
            "Epoch 89/100\n",
            "50/50 [==============================] - 10s 207ms/step - loss: 0.0921 - acc: 0.9580 - val_loss: 0.0987 - val_acc: 0.9310\n",
            "Epoch 90/100\n",
            "50/50 [==============================] - 10s 203ms/step - loss: 0.0880 - acc: 0.9710 - val_loss: 0.0192 - val_acc: 0.9390\n",
            "Epoch 91/100\n",
            "50/50 [==============================] - 10s 202ms/step - loss: 0.0773 - acc: 0.9710 - val_loss: 0.0187 - val_acc: 0.9430\n",
            "Epoch 92/100\n",
            "50/50 [==============================] - 10s 202ms/step - loss: 0.1158 - acc: 0.9540 - val_loss: 0.0291 - val_acc: 0.9370\n",
            "Epoch 93/100\n",
            "50/50 [==============================] - 10s 201ms/step - loss: 0.0996 - acc: 0.9650 - val_loss: 0.1125 - val_acc: 0.9370\n",
            "Epoch 94/100\n",
            "50/50 [==============================] - 10s 200ms/step - loss: 0.0918 - acc: 0.9630 - val_loss: 0.2289 - val_acc: 0.9440\n",
            "Epoch 95/100\n",
            "50/50 [==============================] - 10s 203ms/step - loss: 0.1229 - acc: 0.9600 - val_loss: 0.2252 - val_acc: 0.9440\n",
            "Epoch 96/100\n",
            "50/50 [==============================] - 10s 200ms/step - loss: 0.0994 - acc: 0.9570 - val_loss: 0.4689 - val_acc: 0.9190\n",
            "Epoch 97/100\n",
            "50/50 [==============================] - 10s 203ms/step - loss: 0.1023 - acc: 0.9630 - val_loss: 0.1025 - val_acc: 0.9430\n",
            "Epoch 98/100\n",
            "50/50 [==============================] - 10s 203ms/step - loss: 0.1143 - acc: 0.9600 - val_loss: 0.1735 - val_acc: 0.9450\n",
            "Epoch 99/100\n",
            "50/50 [==============================] - 10s 200ms/step - loss: 0.0882 - acc: 0.9700 - val_loss: 0.0788 - val_acc: 0.9380\n",
            "Epoch 100/100\n",
            "50/50 [==============================] - 10s 200ms/step - loss: 0.0719 - acc: 0.9730 - val_loss: 0.7837 - val_acc: 0.9350\n"
          ],
          "name": "stdout"
        }
      ]
    },
    {
      "cell_type": "markdown",
      "metadata": {
        "id": "eVBQgh5M-Rtz",
        "colab_type": "text"
      },
      "source": [
        "## Display learning curves during fine-tuning"
      ]
    },
    {
      "cell_type": "code",
      "metadata": {
        "id": "mbkIw7Ie-NP4",
        "colab_type": "code",
        "colab": {
          "base_uri": "https://localhost:8080/",
          "height": 1000
        },
        "outputId": "9ee3517c-31f8-4bb4-feff-a18316f931c9"
      },
      "source": [
        "%matplotlib inline\n",
        "\n",
        "import matplotlib.pyplot as plt\n",
        "\n",
        "acc = history.history['acc']\n",
        "val_acc = history.history['val_acc']\n",
        "\n",
        "loss = history.history['loss']\n",
        "val_loss = history.history['val_loss']\n",
        "\n",
        "epochs = range(1, len(acc) + 1)\n",
        "\n",
        "# training and validation accuracy\n",
        "\n",
        "plt.plot(epochs, acc, 'bo', label='training acc')\n",
        "plt.plot(epochs, val_acc, 'b', label='validation acc')\n",
        "plt.title('training and validation accuracy')\n",
        "plt.legend()\n",
        "\n",
        "plt.figure()\n",
        "\n",
        "# training and validation loss\n",
        "\n",
        "plt.plot(epochs, loss, 'bo', label='training loss')\n",
        "plt.plot(epochs, val_loss, 'b', label='validation loss')\n",
        "plt.title('training and validation loss')\n",
        "plt.legend()\n",
        "\n",
        "plt.show()"
      ],
      "execution_count": 52,
      "outputs": [
        {
          "output_type": "display_data",
          "data": {
            "image/png": "[encoded data removed]",
            "text/plain": [
              "<Figure size 432x288 with 1 Axes>"
            ]
          },
          "metadata": {
            "tags": [],
            "needs_background": "light"
          }
        },
        {
          "output_type": "display_data",
          "data": {
            "image/png": "[encoded data removed]",
            "text/plain": [
              "<Figure size 432x288 with 1 Axes>"
            ]
          },
          "metadata": {
            "tags": [],
            "needs_background": "light"
          }
        },
        {
          "output_type": "display_data",
          "data": {
            "image/png": "[encoded data removed]",
            "text/plain": [
              "<Figure size 432x288 with 1 Axes>"
            ]
          },
          "metadata": {
            "tags": [],
            "needs_background": "light"
          }
        },
        {
          "output_type": "display_data",
          "data": {
            "image/png": "[encoded data removed]",
            "text/plain": [
              "<Figure size 432x288 with 1 Axes>"
            ]
          },
          "metadata": {
            "tags": [],
            "needs_background": "light"
          }
        }
      ]
    },
    {
      "cell_type": "markdown",
      "metadata": {
        "id": "PL60g3RDrtzd",
        "colab_type": "text"
      },
      "source": [
        "#Print out validation loss and accuracy"
      ]
    },
    {
      "cell_type": "code",
      "metadata": {
        "id": "RG7byb3_roKc",
        "colab_type": "code",
        "colab": {
          "base_uri": "https://localhost:8080/",
          "height": 85
        },
        "outputId": "041cdf4f-3691-4a2c-f2ab-45bbc06c8410"
      },
      "source": [
        "val_loss, val_acc = model.evaluate_generator(validation_generator, steps=50)\n",
        "print(\"Validation loss:\", val_loss)\n",
        "print(\"Validation accuracy:\", val_acc)"
      ],
      "execution_count": 53,
      "outputs": [
        {
          "output_type": "stream",
          "text": [
            "Validation loss: 0.028924351558089256\n",
            "Validation accuracy: 0.9430000185966492\n",
            "Validation loss: 0.7836729288101196\n",
            "Validation accuracy: 0.9350000023841858\n"
          ],
          "name": "stdout"
        }
      ]
    },
    {
      "cell_type": "markdown",
      "metadata": {
        "id": "anlnG-12r-Qa",
        "colab_type": "text"
      },
      "source": [
        "# Save the model"
      ]
    },
    {
      "cell_type": "code",
      "metadata": {
        "id": "ZVI6GC_Rr9fv",
        "colab_type": "code",
        "colab": {}
      },
      "source": [
        "model_fname = 'cats_and_dogs_small_4.h5' \n",
        "model.save(model_fname)"
      ],
      "execution_count": 0,
      "outputs": []
    },
    {
      "cell_type": "markdown",
      "metadata": {
        "id": "VmeKtuNs9Qm1",
        "colab_type": "text"
      },
      "source": [
        "To download the model, uncomment the code below"
      ]
    },
    {
      "cell_type": "code",
      "metadata": {
        "id": "iKYzmt07xZZr",
        "colab_type": "code",
        "colab": {}
      },
      "source": [
        "# from google.colab import files\n",
        "\n",
        "# with open(model_fname, 'r') as f:\n",
        "#   files.download(model_fname)"
      ],
      "execution_count": 0,
      "outputs": []
    }
  ]
}