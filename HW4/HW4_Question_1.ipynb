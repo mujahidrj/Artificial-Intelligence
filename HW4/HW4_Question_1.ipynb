{
  "nbformat": 4,
  "nbformat_minor": 0,
  "metadata": {
    "colab": {
      "name": "HW4 Question 1.ipynb",
      "provenance": [],
      "collapsed_sections": [],
      "toc_visible": true,
      "include_colab_link": true
    },
    "kernelspec": {
      "name": "python3",
      "display_name": "Python 3"
    }
  },
  "cells": [
    {
      "cell_type": "markdown",
      "metadata": {
        "id": "view-in-github",
        "colab_type": "text"
      },
      "source": [
        "<a href=\"https://colab.research.google.com/github/mujahidrj/Artificial-Intelligence/blob/master/HW4/HW4_Question_1.ipynb\" target=\"_parent\"><img src=\"https://colab.research.google.com/assets/colab-badge.svg\" alt=\"Open In Colab\"/></a>"
      ]
    },
    {
      "cell_type": "markdown",
      "metadata": {
        "id": "u-0LqSC86Rot",
        "colab_type": "text"
      },
      "source": [
        "# Problem 1\n",
        "\n",
        "Using only numpy, implement the function conv2d. It takes as input input_mat and kernel_mat and outputs output_mat. All variables are square matrices. It should compute the convolution of input_mat with the kernel kernel_mat using valid padding."
      ]
    },
    {
      "cell_type": "markdown",
      "metadata": {
        "id": "5N6rwWrPaDN-",
        "colab_type": "text"
      },
      "source": [
        "# 2-D Convolution"
      ]
    },
    {
      "cell_type": "code",
      "metadata": {
        "id": "kvQPkvi16O84",
        "colab_type": "code",
        "colab": {}
      },
      "source": [
        "import numpy as np"
      ],
      "execution_count": 0,
      "outputs": []
    },
    {
      "cell_type": "code",
      "metadata": {
        "id": "nzd0kEVhSy_5",
        "colab_type": "code",
        "colab": {}
      },
      "source": [
        "def conv2d(input_mat: np.array, kernel_mat: np.array) -> np.array:\n",
        "\n",
        "  # Checks to see if the input matrix and kernel matrix are square\n",
        "  if input_mat.shape[0] != input_mat.shape[1]:\n",
        "    raise Exception(\"Please enter a square Input Matrix!\")\n",
        "  if kernel_mat.shape[0] != kernel_mat.shape[1]:\n",
        "    raise Exception(\"Please enter a square Kernel Matrix!\")\n",
        "\n",
        "  # Checks to see if the kernel matrix is bigger than the input matrix\n",
        "  if kernel_mat.shape[0] > input_mat.shape[0]:\n",
        "     raise Exception(\"Kernel shape is greater than input matrix shape.\")\n",
        "\n",
        "  # flip kernel\n",
        "  kernel_mat = np.flipud(np.fliplr(kernel_mat))\n",
        "\n",
        "  output_mat = np.zeros((input_mat.shape[0]-kernel_mat.shape[0]+1, input_mat.shape[1]-kernel_mat.shape[1]+1))\n",
        "  for i in range(0, output_mat.shape[0]):\n",
        "    for y in range(0, output_mat.shape[1]):\n",
        "      for k in range(0, kernel_mat.shape[0]):\n",
        "        for l in range(0, kernel_mat.shape[1]):\n",
        "          output_mat[i][y] += input_mat[i+k][y+l]*kernel_mat[k][l]\n",
        "  return output_mat\n"
      ],
      "execution_count": 0,
      "outputs": []
    },
    {
      "cell_type": "markdown",
      "metadata": {
        "id": "D7X6cU72aHY9",
        "colab_type": "text"
      },
      "source": [
        "# Test Cases Provided by Dr. Wocjan"
      ]
    },
    {
      "cell_type": "code",
      "metadata": {
        "id": "Zcwhq8W4WM1A",
        "colab_type": "code",
        "outputId": "68b3698b-0ceb-4a2a-e52c-925abb94ab36",
        "colab": {
          "base_uri": "https://localhost:8080/",
          "height": 374
        }
      },
      "source": [
        "input_mat = []\n",
        "kernel_mat = []\n",
        "expected_mat = []\n",
        "\n",
        "# test case 1\n",
        "input_mat.append(np.array([[1, 2, 1, 2],\n",
        "                      [2, 1, 2, 1],\n",
        "                      [1, 2, 1, 2],\n",
        "                      [2, 1, 2, 1]]))\n",
        "\n",
        "kernel_mat.append(np.array([[1, 0],\n",
        "                       [0, 1]]))\n",
        "\n",
        "expected_mat.append(np.array([[2, 4, 2],\n",
        "                                [4, 2, 4],\n",
        "                                [2, 4, 2]]))\n",
        "\n",
        "# test case 2\n",
        "input_mat.append(np.array([[1, 0, 0, 0],\n",
        "                      [0, 1, 0, 0],\n",
        "                      [0, 0, 1, 0],\n",
        "                      [0, 0, 0, 1]]))\n",
        "kernel_mat.append(np.array([[1, 0], [0, 1]]))\n",
        "expected_mat.append(np.array([[2, 0, 0], [0, 2, 0], [0, 0, 2]]))\n",
        "\n",
        "\n",
        "# test case 3\n",
        "input_mat.append(np.array([[1, 0, 0, 0],\n",
        "                      [0, 1, 0, 0],\n",
        "                      [0, 0, 1, 0],\n",
        "                      [0, 0, 0, 1]]))\n",
        "kernel_mat.append(np.array([[1, -1],\n",
        "                       [-1, 0]]))\n",
        "\n",
        "expected_mat.append(np.array([[ 1, -1,  0], [-1,  1, -1],[ 0, -1,  1]]))\n",
        "\n",
        "\n",
        "# test case 4\n",
        "input_mat.append(np.array([[1, 0, 0, 0],\n",
        "                      [0, 1, 0, 0],\n",
        "                      [0, 0, 1, 0],\n",
        "                      [0, 0, 0, 1]]))\n",
        "kernel_mat.append(np.array([[1, 0, 0, 0],\n",
        "                      [0, 1, 0, 0],\n",
        "                      [0, 0, 1, 0],\n",
        "                      [0, 0, 0, 1]]))\n",
        "\n",
        "expected_mat.append(np.array([[4]]))\n",
        "\n",
        "\n",
        "# test case 5 - should either throw an error, or return None\n",
        "input_mat.append(np.array([[1, -1],\n",
        "                       [-1, 0]]))\n",
        "kernel_mat.append(np.array([[1, 0, 0, 0],\n",
        "                      [0, 1, 0, 0],\n",
        "                      [0, 0, 1, 0],\n",
        "                      [0, 0, 0, 1]]))\n",
        "\n",
        "expected_mat.append(None)\n",
        "\n",
        "for i in range(len(input_mat)):\n",
        "  try:\n",
        "    # Modify code so conv2d will run the testcases.\n",
        "    output_mat = conv2d(input_mat[i], kernel_mat[i])\n",
        "    print(output_mat)\n",
        "  except Exception as e:\n",
        "    print(e)\n",
        "    output_mat = None\n",
        "  finally:\n",
        "    if np.array_equal(output_mat, expected_mat[i]):\n",
        "      print(\"Correct output!\\n\")\n",
        "    else:\n",
        "      print(\"Incorrect output!\\n\")"
      ],
      "execution_count": 42,
      "outputs": [
        {
          "output_type": "stream",
          "text": [
            "[[2. 4. 2.]\n",
            " [4. 2. 4.]\n",
            " [2. 4. 2.]]\n",
            "Correct output!\n",
            "\n",
            "[[2. 0. 0.]\n",
            " [0. 2. 0.]\n",
            " [0. 0. 2.]]\n",
            "Correct output!\n",
            "\n",
            "[[ 1. -1.  0.]\n",
            " [-1.  1. -1.]\n",
            " [ 0. -1.  1.]]\n",
            "Correct output!\n",
            "\n",
            "[[4.]]\n",
            "Correct output!\n",
            "\n",
            "Kernel shape is greater than input matrix shape.\n",
            "Correct output!\n",
            "\n"
          ],
          "name": "stdout"
        }
      ]
    },
    {
      "cell_type": "markdown",
      "metadata": {
        "id": "S9l6NYM82iur",
        "colab_type": "text"
      },
      "source": [
        "# Extra Cases"
      ]
    },
    {
      "cell_type": "code",
      "metadata": {
        "id": "rVzIbMRh2lil",
        "colab_type": "code",
        "colab": {
          "base_uri": "https://localhost:8080/",
          "height": 221
        },
        "outputId": "7ba1073c-88a6-4ae1-92c2-656a6c14ca6d"
      },
      "source": [
        "input_mat = []\n",
        "kernel_mat = []\n",
        "expected_mat = []\n",
        "\n",
        "# test case 6\n",
        "input_mat = np.ones(shape=(11,11))\n",
        "\n",
        "kernel_mat = np.identity(5)\n",
        "\n",
        "# returns matrix of all 5's\n",
        "print(conv2d(input_mat, kernel_mat))\n",
        "print()\n",
        "\n",
        "# test case 7 - non-square matrix for one of the parameters should fail.\n",
        "input_mat = np.array([[1, 2, 1],\n",
        "                           [1, 1, 3]])\n",
        "\n",
        "kernel_mat = np.array([[1, 0],\n",
        "                            [0, 1]])\n",
        "\n",
        "try:\n",
        "  output_mat = conv2d(input_mat, kernel_mat)\n",
        "  print(output_mat)\n",
        "except Exception as e:\n",
        "  print(e)\n",
        "print()\n",
        "\n",
        "# test case 8\n",
        "input_mat = np.array([[1,2,3],\n",
        "                      [4,5,6],\n",
        "                      [7,8,9]])\n",
        "kernel_mat = np.array([[1,0],\n",
        "              [0,2]])\n",
        "\n",
        "print(conv2d(input_mat, kernel_mat))"
      ],
      "execution_count": 43,
      "outputs": [
        {
          "output_type": "stream",
          "text": [
            "[[5. 5. 5. 5. 5. 5. 5.]\n",
            " [5. 5. 5. 5. 5. 5. 5.]\n",
            " [5. 5. 5. 5. 5. 5. 5.]\n",
            " [5. 5. 5. 5. 5. 5. 5.]\n",
            " [5. 5. 5. 5. 5. 5. 5.]\n",
            " [5. 5. 5. 5. 5. 5. 5.]\n",
            " [5. 5. 5. 5. 5. 5. 5.]]\n",
            "\n",
            "Please enter a square Input Matrix!\n",
            "\n",
            "[[ 7. 10.]\n",
            " [16. 19.]]\n"
          ],
          "name": "stdout"
        }
      ]
    }
  ]
}