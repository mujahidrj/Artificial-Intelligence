{
  "nbformat": 4,
  "nbformat_minor": 0,
  "metadata": {
    "colab": {
      "name": "HW4 Question 3 Part 1.ipynb",
      "provenance": [],
      "collapsed_sections": [],
      "include_colab_link": true
    },
    "kernelspec": {
      "name": "python3",
      "display_name": "Python 3"
    },
    "accelerator": "GPU"
  },
  "cells": [
    {
      "cell_type": "markdown",
      "metadata": {
        "id": "view-in-github",
        "colab_type": "text"
      },
      "source": [
        "<a href=\"https://colab.research.google.com/github/mujahidrj/Artificial-Intelligence/blob/master/HW4_Question_3_Part_1.ipynb\" target=\"_parent\"><img src=\"https://colab.research.google.com/assets/colab-badge.svg\" alt=\"Open In Colab\"/></a>"
      ]
    },
    {
      "cell_type": "markdown",
      "metadata": {
        "id": "zGPyPFSaxbD8",
        "colab_type": "text"
      },
      "source": [
        "# Problem 3 Part 1\n",
        "\n",
        "You will adapt the notebook using VGG16 conv base for feature extraction, using data augmentation, not using dropout, fine-tuning. You will have to replace the VGG16 conv base by new conv bases. You should not use VGG19.\n",
        "\n",
        "You should create two notebooks. Both should use the same conv base, unfreeze the same number of layers of the conv_base, but use different classifiers."
      ]
    },
    {
      "cell_type": "markdown",
      "metadata": {
        "id": "KSrgMJ5vKFzQ",
        "colab_type": "text"
      },
      "source": [
        "# Fine-tuning Xception \n",
        "\n",
        "\n",
        "\n"
      ]
    },
    {
      "cell_type": "markdown",
      "metadata": {
        "id": "TIW7bZaAK-Hf",
        "colab_type": "text"
      },
      "source": [
        "This is based on section 5.3 *Using a pretrained convnet* of the book *Deep learning with Python* by Francois Chollet. I have made several changes to the code. I use the data that is already provided by Google. I don't download the data from Kaggle as in the deep learning book."
      ]
    },
    {
      "cell_type": "markdown",
      "metadata": {
        "id": "nsBq__dVo2pj",
        "colab_type": "text"
      },
      "source": [
        "## Feature extraction"
      ]
    },
    {
      "cell_type": "markdown",
      "metadata": {
        "id": "0g6ETAM9o54M",
        "colab_type": "text"
      },
      "source": [
        "Feature extraction consists of using the representations learned by a previous network to extract interesting features from new samples. These features are then run through a new classifier, which is trained from scratch.\n",
        "\n",
        "We will use here the convolutional base of the Xception model to extract the features. We will feed these features to a densely connected classifier with dropout. We will fine-tune some layers."
      ]
    },
    {
      "cell_type": "markdown",
      "metadata": {
        "id": "BqIG8QHMLNOn",
        "colab_type": "text"
      },
      "source": [
        "## Download the data"
      ]
    },
    {
      "cell_type": "markdown",
      "metadata": {
        "id": "t3I1jd7cKV6_",
        "colab_type": "text"
      },
      "source": [
        "Download the example data, a zip. of 2,000 JPG pictures of cats and dogs and extract it locally in ```/tmp```.\n",
        "\n"
      ]
    },
    {
      "cell_type": "code",
      "metadata": {
        "id": "JWjprHEXJ5Qi",
        "colab_type": "code",
        "colab": {
          "base_uri": "https://localhost:8080/",
          "height": 204
        },
        "outputId": "f7d832dc-b3c5-4def-b0ec-daff8bed0949"
      },
      "source": [
        "!wget --no-check-certificate \\\n",
        "    https://storage.googleapis.com/mledu-datasets/cats_and_dogs_filtered.zip \\\n",
        "    -O /tmp/cats_and_dogs_filtered.zip"
      ],
      "execution_count": 1,
      "outputs": [
        {
          "output_type": "stream",
          "text": [
            "--2020-04-22 03:21:56--  https://storage.googleapis.com/mledu-datasets/cats_and_dogs_filtered.zip\n",
            "Resolving storage.googleapis.com (storage.googleapis.com)... 173.194.69.128, 2a00:1450:4013:c01::80\n",
            "Connecting to storage.googleapis.com (storage.googleapis.com)|173.194.69.128|:443... connected.\n",
            "HTTP request sent, awaiting response... 200 OK\n",
            "Length: 68606236 (65M) [application/zip]\n",
            "Saving to: ‘/tmp/cats_and_dogs_filtered.zip’\n",
            "\n",
            "\r          /tmp/cats   0%[                    ]       0  --.-KB/s               \r         /tmp/cats_  90%[=================>  ]  59.45M   297MB/s               \r/tmp/cats_and_dogs_ 100%[===================>]  65.43M   306MB/s    in 0.2s    \n",
            "\n",
            "2020-04-22 03:21:56 (306 MB/s) - ‘/tmp/cats_and_dogs_filtered.zip’ saved [68606236/68606236]\n",
            "\n"
          ],
          "name": "stdout"
        }
      ]
    },
    {
      "cell_type": "code",
      "metadata": {
        "id": "WvoHtdA-K6Rw",
        "colab_type": "code",
        "colab": {}
      },
      "source": [
        "import os\n",
        "import zipfile\n",
        "\n",
        "local_zip = '/tmp/cats_and_dogs_filtered.zip'\n",
        "zip_ref = zipfile.ZipFile(local_zip, 'r')\n",
        "zip_ref.extractall('/tmp')\n",
        "zip_ref.close()"
      ],
      "execution_count": 0,
      "outputs": []
    },
    {
      "cell_type": "markdown",
      "metadata": {
        "id": "shZiOBnJMyy_",
        "colab_type": "text"
      },
      "source": [
        "Note that the data provided by Google does not have a test set."
      ]
    },
    {
      "cell_type": "code",
      "metadata": {
        "id": "dL8ikM89LlsH",
        "colab_type": "code",
        "colab": {}
      },
      "source": [
        "base_dir = '/tmp/cats_and_dogs_filtered'\n",
        "train_dir = os.path.join(base_dir, 'train')\n",
        "validation_dir = os.path.join(base_dir, 'validation')\n",
        "\n",
        "# Directory with our training cat pictures\n",
        "train_cats_dir = os.path.join(train_dir, 'cats')\n",
        "\n",
        "# Directory with our training dog pictures\n",
        "train_dogs_dir = os.path.join(train_dir, 'dogs')\n",
        "\n",
        "# Directory with our validation cat pictures\n",
        "validation_cats_dir = os.path.join(validation_dir, 'cats')\n",
        "\n",
        "# Directory with our validation dog pictures\n",
        "validation_dogs_dir = os.path.join(validation_dir, 'dogs')"
      ],
      "execution_count": 0,
      "outputs": []
    },
    {
      "cell_type": "markdown",
      "metadata": {
        "id": "inyP8bcdXnn-",
        "colab_type": "text"
      },
      "source": [
        "## Build network with Xception convolution base and custom densely connected layers"
      ]
    },
    {
      "cell_type": "markdown",
      "metadata": {
        "id": "kQ48W5T9rHWu",
        "colab_type": "text"
      },
      "source": [
        "### Load the convolutional base"
      ]
    },
    {
      "cell_type": "code",
      "metadata": {
        "id": "Y0FgtANCXm_H",
        "colab_type": "code",
        "colab": {
          "base_uri": "https://localhost:8080/",
          "height": 1000
        },
        "outputId": "53a4953a-cde7-4d45-b06b-cb55d309bd06"
      },
      "source": [
        "from keras.applications import Xception\n",
        "\n",
        "conv_base = Xception(\n",
        "    weights='imagenet', \n",
        "    include_top=False, \n",
        "    input_shape=(150, 150, 3))\n",
        "\n",
        "conv_base.summary()"
      ],
      "execution_count": 4,
      "outputs": [
        {
          "output_type": "stream",
          "text": [
            "Using TensorFlow backend.\n"
          ],
          "name": "stderr"
        },
        {
          "output_type": "stream",
          "text": [
            "Model: \"xception\"\n",
            "__________________________________________________________________________________________________\n",
            "Layer (type)                    Output Shape         Param #     Connected to                     \n",
            "==================================================================================================\n",
            "input_1 (InputLayer)            (None, 150, 150, 3)  0                                            \n",
            "__________________________________________________________________________________________________\n",
            "block1_conv1 (Conv2D)           (None, 74, 74, 32)   864         input_1[0][0]                    \n",
            "__________________________________________________________________________________________________\n",
            "block1_conv1_bn (BatchNormaliza (None, 74, 74, 32)   128         block1_conv1[0][0]               \n",
            "__________________________________________________________________________________________________\n",
            "block1_conv1_act (Activation)   (None, 74, 74, 32)   0           block1_conv1_bn[0][0]            \n",
            "__________________________________________________________________________________________________\n",
            "block1_conv2 (Conv2D)           (None, 72, 72, 64)   18432       block1_conv1_act[0][0]           \n",
            "__________________________________________________________________________________________________\n",
            "block1_conv2_bn (BatchNormaliza (None, 72, 72, 64)   256         block1_conv2[0][0]               \n",
            "__________________________________________________________________________________________________\n",
            "block1_conv2_act (Activation)   (None, 72, 72, 64)   0           block1_conv2_bn[0][0]            \n",
            "__________________________________________________________________________________________________\n",
            "block2_sepconv1 (SeparableConv2 (None, 72, 72, 128)  8768        block1_conv2_act[0][0]           \n",
            "__________________________________________________________________________________________________\n",
            "block2_sepconv1_bn (BatchNormal (None, 72, 72, 128)  512         block2_sepconv1[0][0]            \n",
            "__________________________________________________________________________________________________\n",
            "block2_sepconv2_act (Activation (None, 72, 72, 128)  0           block2_sepconv1_bn[0][0]         \n",
            "__________________________________________________________________________________________________\n",
            "block2_sepconv2 (SeparableConv2 (None, 72, 72, 128)  17536       block2_sepconv2_act[0][0]        \n",
            "__________________________________________________________________________________________________\n",
            "block2_sepconv2_bn (BatchNormal (None, 72, 72, 128)  512         block2_sepconv2[0][0]            \n",
            "__________________________________________________________________________________________________\n",
            "conv2d_1 (Conv2D)               (None, 36, 36, 128)  8192        block1_conv2_act[0][0]           \n",
            "__________________________________________________________________________________________________\n",
            "block2_pool (MaxPooling2D)      (None, 36, 36, 128)  0           block2_sepconv2_bn[0][0]         \n",
            "__________________________________________________________________________________________________\n",
            "batch_normalization_1 (BatchNor (None, 36, 36, 128)  512         conv2d_1[0][0]                   \n",
            "__________________________________________________________________________________________________\n",
            "add_1 (Add)                     (None, 36, 36, 128)  0           block2_pool[0][0]                \n",
            "                                                                 batch_normalization_1[0][0]      \n",
            "__________________________________________________________________________________________________\n",
            "block3_sepconv1_act (Activation (None, 36, 36, 128)  0           add_1[0][0]                      \n",
            "__________________________________________________________________________________________________\n",
            "block3_sepconv1 (SeparableConv2 (None, 36, 36, 256)  33920       block3_sepconv1_act[0][0]        \n",
            "__________________________________________________________________________________________________\n",
            "block3_sepconv1_bn (BatchNormal (None, 36, 36, 256)  1024        block3_sepconv1[0][0]            \n",
            "__________________________________________________________________________________________________\n",
            "block3_sepconv2_act (Activation (None, 36, 36, 256)  0           block3_sepconv1_bn[0][0]         \n",
            "__________________________________________________________________________________________________\n",
            "block3_sepconv2 (SeparableConv2 (None, 36, 36, 256)  67840       block3_sepconv2_act[0][0]        \n",
            "__________________________________________________________________________________________________\n",
            "block3_sepconv2_bn (BatchNormal (None, 36, 36, 256)  1024        block3_sepconv2[0][0]            \n",
            "__________________________________________________________________________________________________\n",
            "conv2d_2 (Conv2D)               (None, 18, 18, 256)  32768       add_1[0][0]                      \n",
            "__________________________________________________________________________________________________\n",
            "block3_pool (MaxPooling2D)      (None, 18, 18, 256)  0           block3_sepconv2_bn[0][0]         \n",
            "__________________________________________________________________________________________________\n",
            "batch_normalization_2 (BatchNor (None, 18, 18, 256)  1024        conv2d_2[0][0]                   \n",
            "__________________________________________________________________________________________________\n",
            "add_2 (Add)                     (None, 18, 18, 256)  0           block3_pool[0][0]                \n",
            "                                                                 batch_normalization_2[0][0]      \n",
            "__________________________________________________________________________________________________\n",
            "block4_sepconv1_act (Activation (None, 18, 18, 256)  0           add_2[0][0]                      \n",
            "__________________________________________________________________________________________________\n",
            "block4_sepconv1 (SeparableConv2 (None, 18, 18, 728)  188672      block4_sepconv1_act[0][0]        \n",
            "__________________________________________________________________________________________________\n",
            "block4_sepconv1_bn (BatchNormal (None, 18, 18, 728)  2912        block4_sepconv1[0][0]            \n",
            "__________________________________________________________________________________________________\n",
            "block4_sepconv2_act (Activation (None, 18, 18, 728)  0           block4_sepconv1_bn[0][0]         \n",
            "__________________________________________________________________________________________________\n",
            "block4_sepconv2 (SeparableConv2 (None, 18, 18, 728)  536536      block4_sepconv2_act[0][0]        \n",
            "__________________________________________________________________________________________________\n",
            "block4_sepconv2_bn (BatchNormal (None, 18, 18, 728)  2912        block4_sepconv2[0][0]            \n",
            "__________________________________________________________________________________________________\n",
            "conv2d_3 (Conv2D)               (None, 9, 9, 728)    186368      add_2[0][0]                      \n",
            "__________________________________________________________________________________________________\n",
            "block4_pool (MaxPooling2D)      (None, 9, 9, 728)    0           block4_sepconv2_bn[0][0]         \n",
            "__________________________________________________________________________________________________\n",
            "batch_normalization_3 (BatchNor (None, 9, 9, 728)    2912        conv2d_3[0][0]                   \n",
            "__________________________________________________________________________________________________\n",
            "add_3 (Add)                     (None, 9, 9, 728)    0           block4_pool[0][0]                \n",
            "                                                                 batch_normalization_3[0][0]      \n",
            "__________________________________________________________________________________________________\n",
            "block5_sepconv1_act (Activation (None, 9, 9, 728)    0           add_3[0][0]                      \n",
            "__________________________________________________________________________________________________\n",
            "block5_sepconv1 (SeparableConv2 (None, 9, 9, 728)    536536      block5_sepconv1_act[0][0]        \n",
            "__________________________________________________________________________________________________\n",
            "block5_sepconv1_bn (BatchNormal (None, 9, 9, 728)    2912        block5_sepconv1[0][0]            \n",
            "__________________________________________________________________________________________________\n",
            "block5_sepconv2_act (Activation (None, 9, 9, 728)    0           block5_sepconv1_bn[0][0]         \n",
            "__________________________________________________________________________________________________\n",
            "block5_sepconv2 (SeparableConv2 (None, 9, 9, 728)    536536      block5_sepconv2_act[0][0]        \n",
            "__________________________________________________________________________________________________\n",
            "block5_sepconv2_bn (BatchNormal (None, 9, 9, 728)    2912        block5_sepconv2[0][0]            \n",
            "__________________________________________________________________________________________________\n",
            "block5_sepconv3_act (Activation (None, 9, 9, 728)    0           block5_sepconv2_bn[0][0]         \n",
            "__________________________________________________________________________________________________\n",
            "block5_sepconv3 (SeparableConv2 (None, 9, 9, 728)    536536      block5_sepconv3_act[0][0]        \n",
            "__________________________________________________________________________________________________\n",
            "block5_sepconv3_bn (BatchNormal (None, 9, 9, 728)    2912        block5_sepconv3[0][0]            \n",
            "__________________________________________________________________________________________________\n",
            "add_4 (Add)                     (None, 9, 9, 728)    0           block5_sepconv3_bn[0][0]         \n",
            "                                                                 add_3[0][0]                      \n",
            "__________________________________________________________________________________________________\n",
            "block6_sepconv1_act (Activation (None, 9, 9, 728)    0           add_4[0][0]                      \n",
            "__________________________________________________________________________________________________\n",
            "block6_sepconv1 (SeparableConv2 (None, 9, 9, 728)    536536      block6_sepconv1_act[0][0]        \n",
            "__________________________________________________________________________________________________\n",
            "block6_sepconv1_bn (BatchNormal (None, 9, 9, 728)    2912        block6_sepconv1[0][0]            \n",
            "__________________________________________________________________________________________________\n",
            "block6_sepconv2_act (Activation (None, 9, 9, 728)    0           block6_sepconv1_bn[0][0]         \n",
            "__________________________________________________________________________________________________\n",
            "block6_sepconv2 (SeparableConv2 (None, 9, 9, 728)    536536      block6_sepconv2_act[0][0]        \n",
            "__________________________________________________________________________________________________\n",
            "block6_sepconv2_bn (BatchNormal (None, 9, 9, 728)    2912        block6_sepconv2[0][0]            \n",
            "__________________________________________________________________________________________________\n",
            "block6_sepconv3_act (Activation (None, 9, 9, 728)    0           block6_sepconv2_bn[0][0]         \n",
            "__________________________________________________________________________________________________\n",
            "block6_sepconv3 (SeparableConv2 (None, 9, 9, 728)    536536      block6_sepconv3_act[0][0]        \n",
            "__________________________________________________________________________________________________\n",
            "block6_sepconv3_bn (BatchNormal (None, 9, 9, 728)    2912        block6_sepconv3[0][0]            \n",
            "__________________________________________________________________________________________________\n",
            "add_5 (Add)                     (None, 9, 9, 728)    0           block6_sepconv3_bn[0][0]         \n",
            "                                                                 add_4[0][0]                      \n",
            "__________________________________________________________________________________________________\n",
            "block7_sepconv1_act (Activation (None, 9, 9, 728)    0           add_5[0][0]                      \n",
            "__________________________________________________________________________________________________\n",
            "block7_sepconv1 (SeparableConv2 (None, 9, 9, 728)    536536      block7_sepconv1_act[0][0]        \n",
            "__________________________________________________________________________________________________\n",
            "block7_sepconv1_bn (BatchNormal (None, 9, 9, 728)    2912        block7_sepconv1[0][0]            \n",
            "__________________________________________________________________________________________________\n",
            "block7_sepconv2_act (Activation (None, 9, 9, 728)    0           block7_sepconv1_bn[0][0]         \n",
            "__________________________________________________________________________________________________\n",
            "block7_sepconv2 (SeparableConv2 (None, 9, 9, 728)    536536      block7_sepconv2_act[0][0]        \n",
            "__________________________________________________________________________________________________\n",
            "block7_sepconv2_bn (BatchNormal (None, 9, 9, 728)    2912        block7_sepconv2[0][0]            \n",
            "__________________________________________________________________________________________________\n",
            "block7_sepconv3_act (Activation (None, 9, 9, 728)    0           block7_sepconv2_bn[0][0]         \n",
            "__________________________________________________________________________________________________\n",
            "block7_sepconv3 (SeparableConv2 (None, 9, 9, 728)    536536      block7_sepconv3_act[0][0]        \n",
            "__________________________________________________________________________________________________\n",
            "block7_sepconv3_bn (BatchNormal (None, 9, 9, 728)    2912        block7_sepconv3[0][0]            \n",
            "__________________________________________________________________________________________________\n",
            "add_6 (Add)                     (None, 9, 9, 728)    0           block7_sepconv3_bn[0][0]         \n",
            "                                                                 add_5[0][0]                      \n",
            "__________________________________________________________________________________________________\n",
            "block8_sepconv1_act (Activation (None, 9, 9, 728)    0           add_6[0][0]                      \n",
            "__________________________________________________________________________________________________\n",
            "block8_sepconv1 (SeparableConv2 (None, 9, 9, 728)    536536      block8_sepconv1_act[0][0]        \n",
            "__________________________________________________________________________________________________\n",
            "block8_sepconv1_bn (BatchNormal (None, 9, 9, 728)    2912        block8_sepconv1[0][0]            \n",
            "__________________________________________________________________________________________________\n",
            "block8_sepconv2_act (Activation (None, 9, 9, 728)    0           block8_sepconv1_bn[0][0]         \n",
            "__________________________________________________________________________________________________\n",
            "block8_sepconv2 (SeparableConv2 (None, 9, 9, 728)    536536      block8_sepconv2_act[0][0]        \n",
            "__________________________________________________________________________________________________\n",
            "block8_sepconv2_bn (BatchNormal (None, 9, 9, 728)    2912        block8_sepconv2[0][0]            \n",
            "__________________________________________________________________________________________________\n",
            "block8_sepconv3_act (Activation (None, 9, 9, 728)    0           block8_sepconv2_bn[0][0]         \n",
            "__________________________________________________________________________________________________\n",
            "block8_sepconv3 (SeparableConv2 (None, 9, 9, 728)    536536      block8_sepconv3_act[0][0]        \n",
            "__________________________________________________________________________________________________\n",
            "block8_sepconv3_bn (BatchNormal (None, 9, 9, 728)    2912        block8_sepconv3[0][0]            \n",
            "__________________________________________________________________________________________________\n",
            "add_7 (Add)                     (None, 9, 9, 728)    0           block8_sepconv3_bn[0][0]         \n",
            "                                                                 add_6[0][0]                      \n",
            "__________________________________________________________________________________________________\n",
            "block9_sepconv1_act (Activation (None, 9, 9, 728)    0           add_7[0][0]                      \n",
            "__________________________________________________________________________________________________\n",
            "block9_sepconv1 (SeparableConv2 (None, 9, 9, 728)    536536      block9_sepconv1_act[0][0]        \n",
            "__________________________________________________________________________________________________\n",
            "block9_sepconv1_bn (BatchNormal (None, 9, 9, 728)    2912        block9_sepconv1[0][0]            \n",
            "__________________________________________________________________________________________________\n",
            "block9_sepconv2_act (Activation (None, 9, 9, 728)    0           block9_sepconv1_bn[0][0]         \n",
            "__________________________________________________________________________________________________\n",
            "block9_sepconv2 (SeparableConv2 (None, 9, 9, 728)    536536      block9_sepconv2_act[0][0]        \n",
            "__________________________________________________________________________________________________\n",
            "block9_sepconv2_bn (BatchNormal (None, 9, 9, 728)    2912        block9_sepconv2[0][0]            \n",
            "__________________________________________________________________________________________________\n",
            "block9_sepconv3_act (Activation (None, 9, 9, 728)    0           block9_sepconv2_bn[0][0]         \n",
            "__________________________________________________________________________________________________\n",
            "block9_sepconv3 (SeparableConv2 (None, 9, 9, 728)    536536      block9_sepconv3_act[0][0]        \n",
            "__________________________________________________________________________________________________\n",
            "block9_sepconv3_bn (BatchNormal (None, 9, 9, 728)    2912        block9_sepconv3[0][0]            \n",
            "__________________________________________________________________________________________________\n",
            "add_8 (Add)                     (None, 9, 9, 728)    0           block9_sepconv3_bn[0][0]         \n",
            "                                                                 add_7[0][0]                      \n",
            "__________________________________________________________________________________________________\n",
            "block10_sepconv1_act (Activatio (None, 9, 9, 728)    0           add_8[0][0]                      \n",
            "__________________________________________________________________________________________________\n",
            "block10_sepconv1 (SeparableConv (None, 9, 9, 728)    536536      block10_sepconv1_act[0][0]       \n",
            "__________________________________________________________________________________________________\n",
            "block10_sepconv1_bn (BatchNorma (None, 9, 9, 728)    2912        block10_sepconv1[0][0]           \n",
            "__________________________________________________________________________________________________\n",
            "block10_sepconv2_act (Activatio (None, 9, 9, 728)    0           block10_sepconv1_bn[0][0]        \n",
            "__________________________________________________________________________________________________\n",
            "block10_sepconv2 (SeparableConv (None, 9, 9, 728)    536536      block10_sepconv2_act[0][0]       \n",
            "__________________________________________________________________________________________________\n",
            "block10_sepconv2_bn (BatchNorma (None, 9, 9, 728)    2912        block10_sepconv2[0][0]           \n",
            "__________________________________________________________________________________________________\n",
            "block10_sepconv3_act (Activatio (None, 9, 9, 728)    0           block10_sepconv2_bn[0][0]        \n",
            "__________________________________________________________________________________________________\n",
            "block10_sepconv3 (SeparableConv (None, 9, 9, 728)    536536      block10_sepconv3_act[0][0]       \n",
            "__________________________________________________________________________________________________\n",
            "block10_sepconv3_bn (BatchNorma (None, 9, 9, 728)    2912        block10_sepconv3[0][0]           \n",
            "__________________________________________________________________________________________________\n",
            "add_9 (Add)                     (None, 9, 9, 728)    0           block10_sepconv3_bn[0][0]        \n",
            "                                                                 add_8[0][0]                      \n",
            "__________________________________________________________________________________________________\n",
            "block11_sepconv1_act (Activatio (None, 9, 9, 728)    0           add_9[0][0]                      \n",
            "__________________________________________________________________________________________________\n",
            "block11_sepconv1 (SeparableConv (None, 9, 9, 728)    536536      block11_sepconv1_act[0][0]       \n",
            "__________________________________________________________________________________________________\n",
            "block11_sepconv1_bn (BatchNorma (None, 9, 9, 728)    2912        block11_sepconv1[0][0]           \n",
            "__________________________________________________________________________________________________\n",
            "block11_sepconv2_act (Activatio (None, 9, 9, 728)    0           block11_sepconv1_bn[0][0]        \n",
            "__________________________________________________________________________________________________\n",
            "block11_sepconv2 (SeparableConv (None, 9, 9, 728)    536536      block11_sepconv2_act[0][0]       \n",
            "__________________________________________________________________________________________________\n",
            "block11_sepconv2_bn (BatchNorma (None, 9, 9, 728)    2912        block11_sepconv2[0][0]           \n",
            "__________________________________________________________________________________________________\n",
            "block11_sepconv3_act (Activatio (None, 9, 9, 728)    0           block11_sepconv2_bn[0][0]        \n",
            "__________________________________________________________________________________________________\n",
            "block11_sepconv3 (SeparableConv (None, 9, 9, 728)    536536      block11_sepconv3_act[0][0]       \n",
            "__________________________________________________________________________________________________\n",
            "block11_sepconv3_bn (BatchNorma (None, 9, 9, 728)    2912        block11_sepconv3[0][0]           \n",
            "__________________________________________________________________________________________________\n",
            "add_10 (Add)                    (None, 9, 9, 728)    0           block11_sepconv3_bn[0][0]        \n",
            "                                                                 add_9[0][0]                      \n",
            "__________________________________________________________________________________________________\n",
            "block12_sepconv1_act (Activatio (None, 9, 9, 728)    0           add_10[0][0]                     \n",
            "__________________________________________________________________________________________________\n",
            "block12_sepconv1 (SeparableConv (None, 9, 9, 728)    536536      block12_sepconv1_act[0][0]       \n",
            "__________________________________________________________________________________________________\n",
            "block12_sepconv1_bn (BatchNorma (None, 9, 9, 728)    2912        block12_sepconv1[0][0]           \n",
            "__________________________________________________________________________________________________\n",
            "block12_sepconv2_act (Activatio (None, 9, 9, 728)    0           block12_sepconv1_bn[0][0]        \n",
            "__________________________________________________________________________________________________\n",
            "block12_sepconv2 (SeparableConv (None, 9, 9, 728)    536536      block12_sepconv2_act[0][0]       \n",
            "__________________________________________________________________________________________________\n",
            "block12_sepconv2_bn (BatchNorma (None, 9, 9, 728)    2912        block12_sepconv2[0][0]           \n",
            "__________________________________________________________________________________________________\n",
            "block12_sepconv3_act (Activatio (None, 9, 9, 728)    0           block12_sepconv2_bn[0][0]        \n",
            "__________________________________________________________________________________________________\n",
            "block12_sepconv3 (SeparableConv (None, 9, 9, 728)    536536      block12_sepconv3_act[0][0]       \n",
            "__________________________________________________________________________________________________\n",
            "block12_sepconv3_bn (BatchNorma (None, 9, 9, 728)    2912        block12_sepconv3[0][0]           \n",
            "__________________________________________________________________________________________________\n",
            "add_11 (Add)                    (None, 9, 9, 728)    0           block12_sepconv3_bn[0][0]        \n",
            "                                                                 add_10[0][0]                     \n",
            "__________________________________________________________________________________________________\n",
            "block13_sepconv1_act (Activatio (None, 9, 9, 728)    0           add_11[0][0]                     \n",
            "__________________________________________________________________________________________________\n",
            "block13_sepconv1 (SeparableConv (None, 9, 9, 728)    536536      block13_sepconv1_act[0][0]       \n",
            "__________________________________________________________________________________________________\n",
            "block13_sepconv1_bn (BatchNorma (None, 9, 9, 728)    2912        block13_sepconv1[0][0]           \n",
            "__________________________________________________________________________________________________\n",
            "block13_sepconv2_act (Activatio (None, 9, 9, 728)    0           block13_sepconv1_bn[0][0]        \n",
            "__________________________________________________________________________________________________\n",
            "block13_sepconv2 (SeparableConv (None, 9, 9, 1024)   752024      block13_sepconv2_act[0][0]       \n",
            "__________________________________________________________________________________________________\n",
            "block13_sepconv2_bn (BatchNorma (None, 9, 9, 1024)   4096        block13_sepconv2[0][0]           \n",
            "__________________________________________________________________________________________________\n",
            "conv2d_4 (Conv2D)               (None, 5, 5, 1024)   745472      add_11[0][0]                     \n",
            "__________________________________________________________________________________________________\n",
            "block13_pool (MaxPooling2D)     (None, 5, 5, 1024)   0           block13_sepconv2_bn[0][0]        \n",
            "__________________________________________________________________________________________________\n",
            "batch_normalization_4 (BatchNor (None, 5, 5, 1024)   4096        conv2d_4[0][0]                   \n",
            "__________________________________________________________________________________________________\n",
            "add_12 (Add)                    (None, 5, 5, 1024)   0           block13_pool[0][0]               \n",
            "                                                                 batch_normalization_4[0][0]      \n",
            "__________________________________________________________________________________________________\n",
            "block14_sepconv1 (SeparableConv (None, 5, 5, 1536)   1582080     add_12[0][0]                     \n",
            "__________________________________________________________________________________________________\n",
            "block14_sepconv1_bn (BatchNorma (None, 5, 5, 1536)   6144        block14_sepconv1[0][0]           \n",
            "__________________________________________________________________________________________________\n",
            "block14_sepconv1_act (Activatio (None, 5, 5, 1536)   0           block14_sepconv1_bn[0][0]        \n",
            "__________________________________________________________________________________________________\n",
            "block14_sepconv2 (SeparableConv (None, 5, 5, 2048)   3159552     block14_sepconv1_act[0][0]       \n",
            "__________________________________________________________________________________________________\n",
            "block14_sepconv2_bn (BatchNorma (None, 5, 5, 2048)   8192        block14_sepconv2[0][0]           \n",
            "__________________________________________________________________________________________________\n",
            "block14_sepconv2_act (Activatio (None, 5, 5, 2048)   0           block14_sepconv2_bn[0][0]        \n",
            "==================================================================================================\n",
            "Total params: 20,861,480\n",
            "Trainable params: 20,806,952\n",
            "Non-trainable params: 54,528\n",
            "__________________________________________________________________________________________________\n"
          ],
          "name": "stdout"
        }
      ]
    },
    {
      "cell_type": "markdown",
      "metadata": {
        "id": "D6OBHOO9q1ou",
        "colab_type": "text"
      },
      "source": [
        "### Freeze the convolutional base"
      ]
    },
    {
      "cell_type": "code",
      "metadata": {
        "id": "UleRo4Dpq6Ld",
        "colab_type": "code",
        "colab": {}
      },
      "source": [
        "conv_base.trainable = False"
      ],
      "execution_count": 0,
      "outputs": []
    },
    {
      "cell_type": "markdown",
      "metadata": {
        "id": "Qfx6PqhPrb7Q",
        "colab_type": "text"
      },
      "source": [
        "### Concatenate the convolutional base and densely connected layers"
      ]
    },
    {
      "cell_type": "code",
      "metadata": {
        "id": "qUpmocDAO3xm",
        "colab_type": "code",
        "colab": {}
      },
      "source": [
        "from keras import layers\n",
        "from keras import models\n",
        "from keras import optimizers\n",
        "\n",
        "model = models.Sequential()\n",
        "model.add(conv_base)\n",
        "model.add(layers.Flatten())\n",
        "# Changed the following layer\n",
        "model.add(layers.Dense(1024, activation='relu'))\n",
        "#model.add(layers.Dropout(0.1))\n",
        "model.add(layers.Dense(1, activation='sigmoid'))"
      ],
      "execution_count": 0,
      "outputs": []
    },
    {
      "cell_type": "code",
      "metadata": {
        "id": "Fh6gZSeAjF7c",
        "colab_type": "code",
        "colab": {
          "base_uri": "https://localhost:8080/",
          "height": 289
        },
        "outputId": "6ac65098-7ce6-43dc-f6df-d576b3bc642f"
      },
      "source": [
        "model.summary()"
      ],
      "execution_count": 7,
      "outputs": [
        {
          "output_type": "stream",
          "text": [
            "Model: \"sequential_1\"\n",
            "_________________________________________________________________\n",
            "Layer (type)                 Output Shape              Param #   \n",
            "=================================================================\n",
            "xception (Model)             (None, 5, 5, 2048)        20861480  \n",
            "_________________________________________________________________\n",
            "flatten_1 (Flatten)          (None, 51200)             0         \n",
            "_________________________________________________________________\n",
            "dense_1 (Dense)              (None, 1024)              52429824  \n",
            "_________________________________________________________________\n",
            "dense_2 (Dense)              (None, 1)                 1025      \n",
            "=================================================================\n",
            "Total params: 73,292,329\n",
            "Trainable params: 52,430,849\n",
            "Non-trainable params: 20,861,480\n",
            "_________________________________________________________________\n"
          ],
          "name": "stdout"
        }
      ]
    },
    {
      "cell_type": "markdown",
      "metadata": {
        "id": "eZjBiddhi5Qj",
        "colab_type": "text"
      },
      "source": [
        "## Train the model end to end with frozen convolutional base"
      ]
    },
    {
      "cell_type": "code",
      "metadata": {
        "id": "tfAQlC2Oi41L",
        "colab_type": "code",
        "colab": {
          "base_uri": "https://localhost:8080/",
          "height": 1000
        },
        "outputId": "fff82a5a-adae-48de-8ff6-8993337b3db1"
      },
      "source": [
        "from keras.preprocessing.image import ImageDataGenerator\n",
        "from keras import optimizers\n",
        "\n",
        "# data augmentation\n",
        "\n",
        "train_datagen = ImageDataGenerator(\n",
        "    rescale=1./255, \n",
        "    rotation_range=40,\n",
        "    width_shift_range=0.2,\n",
        "    height_shift_range=0.2,\n",
        "    shear_range=0.2,\n",
        "    zoom_range=0.2,\n",
        "    horizontal_flip=True,\n",
        "    fill_mode='nearest'\n",
        ")\n",
        "\n",
        "train_generator = train_datagen.flow_from_directory(\n",
        "    train_dir,\n",
        "    target_size=(150, 150),\n",
        "    batch_size=20,\n",
        "    class_mode='binary')\n",
        "\n",
        "validation_datagen = ImageDataGenerator(rescale=1./255)\n",
        "\n",
        "validation_generator = validation_datagen.flow_from_directory(\n",
        "    validation_dir,\n",
        "    target_size=(150, 150),\n",
        "    batch_size=20,\n",
        "    class_mode='binary')\n",
        "\n",
        "# compile model\n",
        "\n",
        "# Higher learning rate than what is used later on\n",
        "model.compile(\n",
        "    loss='binary_crossentropy', \n",
        "    optimizer=optimizers.RMSprop(lr=2e-5), \n",
        "    metrics=['acc'])\n",
        "\n",
        "# train\n",
        "\n",
        "history = model.fit_generator(\n",
        "    train_generator,\n",
        "    steps_per_epoch=100,\n",
        "    epochs=30,\n",
        "    validation_data=validation_generator,\n",
        "    validation_steps=50\n",
        ")"
      ],
      "execution_count": 8,
      "outputs": [
        {
          "output_type": "stream",
          "text": [
            "Found 2000 images belonging to 2 classes.\n",
            "Found 1000 images belonging to 2 classes.\n",
            "Epoch 1/30\n",
            "100/100 [==============================] - 22s 222ms/step - loss: 0.5109 - acc: 0.7710 - val_loss: 0.0095 - val_acc: 0.9520\n",
            "Epoch 2/30\n",
            "100/100 [==============================] - 18s 177ms/step - loss: 0.3624 - acc: 0.8335 - val_loss: 0.0088 - val_acc: 0.9110\n",
            "Epoch 3/30\n",
            "100/100 [==============================] - 18s 176ms/step - loss: 0.3670 - acc: 0.8375 - val_loss: 0.0864 - val_acc: 0.9600\n",
            "Epoch 4/30\n",
            "100/100 [==============================] - 18s 176ms/step - loss: 0.3271 - acc: 0.8585 - val_loss: 0.3081 - val_acc: 0.9710\n",
            "Epoch 5/30\n",
            "100/100 [==============================] - 18s 176ms/step - loss: 0.3095 - acc: 0.8690 - val_loss: 0.0516 - val_acc: 0.9660\n",
            "Epoch 6/30\n",
            "100/100 [==============================] - 17s 175ms/step - loss: 0.3295 - acc: 0.8555 - val_loss: 0.0793 - val_acc: 0.9700\n",
            "Epoch 7/30\n",
            "100/100 [==============================] - 17s 175ms/step - loss: 0.2995 - acc: 0.8680 - val_loss: 0.0257 - val_acc: 0.9660\n",
            "Epoch 8/30\n",
            "100/100 [==============================] - 18s 179ms/step - loss: 0.2968 - acc: 0.8705 - val_loss: 2.3560e-05 - val_acc: 0.9710\n",
            "Epoch 9/30\n",
            "100/100 [==============================] - 18s 177ms/step - loss: 0.3109 - acc: 0.8620 - val_loss: 1.4473 - val_acc: 0.9380\n",
            "Epoch 10/30\n",
            "100/100 [==============================] - 18s 177ms/step - loss: 0.2980 - acc: 0.8735 - val_loss: 0.2554 - val_acc: 0.9400\n",
            "Epoch 11/30\n",
            "100/100 [==============================] - 18s 175ms/step - loss: 0.2824 - acc: 0.8800 - val_loss: 1.5700 - val_acc: 0.9640\n",
            "Epoch 12/30\n",
            "100/100 [==============================] - 18s 176ms/step - loss: 0.3018 - acc: 0.8710 - val_loss: 2.2157e-07 - val_acc: 0.9600\n",
            "Epoch 13/30\n",
            "100/100 [==============================] - 17s 175ms/step - loss: 0.2816 - acc: 0.8795 - val_loss: 1.1025 - val_acc: 0.9720\n",
            "Epoch 14/30\n",
            "100/100 [==============================] - 18s 179ms/step - loss: 0.2815 - acc: 0.8780 - val_loss: 0.0463 - val_acc: 0.9710\n",
            "Epoch 15/30\n",
            "100/100 [==============================] - 18s 176ms/step - loss: 0.3080 - acc: 0.8755 - val_loss: 0.4097 - val_acc: 0.9680\n",
            "Epoch 16/30\n",
            "100/100 [==============================] - 17s 175ms/step - loss: 0.2751 - acc: 0.8840 - val_loss: 2.1815e-08 - val_acc: 0.9630\n",
            "Epoch 17/30\n",
            "100/100 [==============================] - 17s 175ms/step - loss: 0.2845 - acc: 0.8855 - val_loss: 0.0025 - val_acc: 0.9690\n",
            "Epoch 18/30\n",
            "100/100 [==============================] - 17s 175ms/step - loss: 0.2685 - acc: 0.8855 - val_loss: 3.8269e-08 - val_acc: 0.9740\n",
            "Epoch 19/30\n",
            "100/100 [==============================] - 18s 176ms/step - loss: 0.2608 - acc: 0.8905 - val_loss: 0.0337 - val_acc: 0.9570\n",
            "Epoch 20/30\n",
            "100/100 [==============================] - 18s 175ms/step - loss: 0.2779 - acc: 0.8825 - val_loss: 1.9483 - val_acc: 0.9730\n",
            "Epoch 21/30\n",
            "100/100 [==============================] - 17s 174ms/step - loss: 0.2637 - acc: 0.8935 - val_loss: 2.9697e-10 - val_acc: 0.9680\n",
            "Epoch 22/30\n",
            "100/100 [==============================] - 17s 174ms/step - loss: 0.2675 - acc: 0.8890 - val_loss: 0.1866 - val_acc: 0.9730\n",
            "Epoch 23/30\n",
            "100/100 [==============================] - 17s 174ms/step - loss: 0.2731 - acc: 0.8815 - val_loss: 0.2534 - val_acc: 0.9720\n",
            "Epoch 24/30\n",
            "100/100 [==============================] - 18s 175ms/step - loss: 0.2529 - acc: 0.8855 - val_loss: 0.0014 - val_acc: 0.9740\n",
            "Epoch 25/30\n",
            "100/100 [==============================] - 17s 174ms/step - loss: 0.2775 - acc: 0.8890 - val_loss: 0.5997 - val_acc: 0.9730\n",
            "Epoch 26/30\n",
            "100/100 [==============================] - 18s 177ms/step - loss: 0.2321 - acc: 0.9015 - val_loss: 1.4333e-09 - val_acc: 0.9720\n",
            "Epoch 27/30\n",
            "100/100 [==============================] - 18s 176ms/step - loss: 0.2746 - acc: 0.8935 - val_loss: 0.0101 - val_acc: 0.9700\n",
            "Epoch 28/30\n",
            "100/100 [==============================] - 17s 175ms/step - loss: 0.2677 - acc: 0.8925 - val_loss: 0.2042 - val_acc: 0.9740\n",
            "Epoch 29/30\n",
            "100/100 [==============================] - 17s 174ms/step - loss: 0.2684 - acc: 0.8915 - val_loss: 0.1309 - val_acc: 0.9520\n",
            "Epoch 30/30\n",
            "100/100 [==============================] - 17s 174ms/step - loss: 0.2636 - acc: 0.8920 - val_loss: 0.0029 - val_acc: 0.9710\n"
          ],
          "name": "stdout"
        }
      ]
    },
    {
      "cell_type": "markdown",
      "metadata": {
        "id": "xqRc_vHKc92U",
        "colab_type": "text"
      },
      "source": [
        "## Display curves of loss and accuracy during training"
      ]
    },
    {
      "cell_type": "code",
      "metadata": {
        "id": "ybWwdzz9bwuQ",
        "colab_type": "code",
        "colab": {
          "base_uri": "https://localhost:8080/",
          "height": 545
        },
        "outputId": "b1d277c1-30d8-4cad-be70-dad42a8ed686"
      },
      "source": [
        "%matplotlib inline\n",
        "\n",
        "import matplotlib.pyplot as plt\n",
        "\n",
        "acc = history.history['acc']\n",
        "val_acc = history.history['val_acc']\n",
        "\n",
        "loss = history.history['loss']\n",
        "val_loss = history.history['val_loss']\n",
        "\n",
        "epochs = range(1, len(acc) + 1)\n",
        "\n",
        "# training and validation accuracy\n",
        "\n",
        "plt.plot(epochs, acc, 'bo', label='training acc')\n",
        "plt.plot(epochs, val_acc, 'b', label='validation acc')\n",
        "plt.title('training and validation accuracy')\n",
        "plt.legend()\n",
        "\n",
        "plt.figure()\n",
        "\n",
        "# training and validation loss\n",
        "\n",
        "plt.plot(epochs, loss, 'bo', label='training loss')\n",
        "plt.plot(epochs, val_loss, 'b', label='validation loss')\n",
        "plt.title('training and validation loss')\n",
        "plt.legend()\n",
        "\n",
        "plt.show()"
      ],
      "execution_count": 9,
      "outputs": [
        {
          "output_type": "display_data",
          "data": {
            "image/png": "[encoded data removed]",
            "text/plain": [
              "<Figure size 432x288 with 1 Axes>"
            ]
          },
          "metadata": {
            "tags": [],
            "needs_background": "light"
          }
        },
        {
          "output_type": "display_data",
          "data": {
            "image/png": "[encoded data removed]",
            "text/plain": [
              "<Figure size 432x288 with 1 Axes>"
            ]
          },
          "metadata": {
            "tags": [],
            "needs_background": "light"
          }
        }
      ]
    },
    {
      "cell_type": "markdown",
      "metadata": {
        "id": "lOWsxpey8lN0",
        "colab_type": "text"
      },
      "source": [
        "## Fine-tuning"
      ]
    },
    {
      "cell_type": "markdown",
      "metadata": {
        "id": "8SFUw6COkGz7",
        "colab_type": "text"
      },
      "source": [
        "Fine tuning results are usually done if the data set being used isn't very different than the data from the pre-trained model. One problem with fine tuning results is that using a small dataset can lead to overfitting."
      ]
    },
    {
      "cell_type": "code",
      "metadata": {
        "id": "PwkVMx8N8qMw",
        "colab_type": "code",
        "colab": {}
      },
      "source": [
        "conv_base.trainable = True\n",
        "\n",
        "set_trainable = False\n",
        "for layer in conv_base.layers:\n",
        "  if layer.name == 'block13_sepconv2':\n",
        "    set_trainable = True\n",
        "  if set_trainable:\n",
        "    layer.trainable = True\n",
        "  else:\n",
        "    layer.trainable = False"
      ],
      "execution_count": 0,
      "outputs": []
    },
    {
      "cell_type": "code",
      "metadata": {
        "id": "DyN-J7rs9cvo",
        "colab_type": "code",
        "outputId": "3f50bbb1-2df5-4bd7-f489-db6172f772f9",
        "colab": {
          "base_uri": "https://localhost:8080/",
          "height": 1000
        }
      },
      "source": [
        "# compile model\n",
        "\n",
        "model.compile(\n",
        "    loss='binary_crossentropy',\n",
        "    #\n",
        "    # choose a smaller learning rate\n",
        "    #\n",
        "    optimizer=optimizers.RMSprop(lr=1e-5), \n",
        "    metrics=['acc'])\n",
        "\n",
        "# train\n",
        "\n",
        "history = model.fit_generator(\n",
        "    train_generator,\n",
        "    steps_per_epoch=100,\n",
        "    epochs=100,\n",
        "    validation_data=validation_generator,\n",
        "    validation_steps=50)"
      ],
      "execution_count": 11,
      "outputs": [
        {
          "output_type": "stream",
          "text": [
            "Epoch 1/100\n",
            "100/100 [==============================] - 22s 223ms/step - loss: 0.2424 - acc: 0.9010 - val_loss: 8.5933e-05 - val_acc: 0.9430\n",
            "Epoch 2/100\n",
            "100/100 [==============================] - 18s 181ms/step - loss: 0.2378 - acc: 0.9035 - val_loss: 0.0019 - val_acc: 0.9460\n",
            "Epoch 3/100\n",
            "100/100 [==============================] - 18s 178ms/step - loss: 0.1976 - acc: 0.9210 - val_loss: 0.3172 - val_acc: 0.9410\n",
            "Epoch 4/100\n",
            "100/100 [==============================] - 18s 180ms/step - loss: 0.2288 - acc: 0.9075 - val_loss: 0.5045 - val_acc: 0.9410\n",
            "Epoch 5/100\n",
            "100/100 [==============================] - 18s 179ms/step - loss: 0.2363 - acc: 0.9035 - val_loss: 0.0772 - val_acc: 0.9370\n",
            "Epoch 6/100\n",
            "100/100 [==============================] - 18s 181ms/step - loss: 0.2011 - acc: 0.9210 - val_loss: 0.2103 - val_acc: 0.9240\n",
            "Epoch 7/100\n",
            "100/100 [==============================] - 18s 181ms/step - loss: 0.2043 - acc: 0.9180 - val_loss: 0.1106 - val_acc: 0.9280\n",
            "Epoch 8/100\n",
            "100/100 [==============================] - 18s 179ms/step - loss: 0.1973 - acc: 0.9190 - val_loss: 0.1491 - val_acc: 0.9400\n",
            "Epoch 9/100\n",
            "100/100 [==============================] - 18s 180ms/step - loss: 0.1771 - acc: 0.9280 - val_loss: 0.5456 - val_acc: 0.9390\n",
            "Epoch 10/100\n",
            "100/100 [==============================] - 18s 180ms/step - loss: 0.1931 - acc: 0.9210 - val_loss: 0.2236 - val_acc: 0.9400\n",
            "Epoch 11/100\n",
            "100/100 [==============================] - 18s 182ms/step - loss: 0.1803 - acc: 0.9310 - val_loss: 0.0519 - val_acc: 0.9230\n",
            "Epoch 12/100\n",
            "100/100 [==============================] - 18s 180ms/step - loss: 0.1789 - acc: 0.9235 - val_loss: 0.0938 - val_acc: 0.9410\n",
            "Epoch 13/100\n",
            "100/100 [==============================] - 18s 183ms/step - loss: 0.1799 - acc: 0.9290 - val_loss: 0.9559 - val_acc: 0.9310\n",
            "Epoch 14/100\n",
            "100/100 [==============================] - 18s 180ms/step - loss: 0.1878 - acc: 0.9185 - val_loss: 0.5836 - val_acc: 0.9370\n",
            "Epoch 15/100\n",
            "100/100 [==============================] - 18s 181ms/step - loss: 0.1987 - acc: 0.9295 - val_loss: 0.2832 - val_acc: 0.9320\n",
            "Epoch 16/100\n",
            "100/100 [==============================] - 18s 180ms/step - loss: 0.1796 - acc: 0.9245 - val_loss: 0.4859 - val_acc: 0.9380\n",
            "Epoch 17/100\n",
            "100/100 [==============================] - 18s 178ms/step - loss: 0.1684 - acc: 0.9420 - val_loss: 0.1632 - val_acc: 0.8930\n",
            "Epoch 18/100\n",
            "100/100 [==============================] - 18s 182ms/step - loss: 0.1645 - acc: 0.9415 - val_loss: 0.0515 - val_acc: 0.9360\n",
            "Epoch 19/100\n",
            "100/100 [==============================] - 18s 180ms/step - loss: 0.1855 - acc: 0.9330 - val_loss: 0.3832 - val_acc: 0.9350\n",
            "Epoch 20/100\n",
            "100/100 [==============================] - 18s 181ms/step - loss: 0.1699 - acc: 0.9335 - val_loss: 0.2055 - val_acc: 0.9370\n",
            "Epoch 21/100\n",
            "100/100 [==============================] - 18s 180ms/step - loss: 0.1749 - acc: 0.9315 - val_loss: 0.0575 - val_acc: 0.9190\n",
            "Epoch 22/100\n",
            "100/100 [==============================] - 18s 180ms/step - loss: 0.1603 - acc: 0.9385 - val_loss: 0.1278 - val_acc: 0.9380\n",
            "Epoch 23/100\n",
            "100/100 [==============================] - 18s 180ms/step - loss: 0.1742 - acc: 0.9360 - val_loss: 0.0411 - val_acc: 0.9450\n",
            "Epoch 24/100\n",
            "100/100 [==============================] - 18s 183ms/step - loss: 0.1452 - acc: 0.9420 - val_loss: 0.5606 - val_acc: 0.9430\n",
            "Epoch 25/100\n",
            "100/100 [==============================] - 18s 180ms/step - loss: 0.1407 - acc: 0.9440 - val_loss: 0.4320 - val_acc: 0.9470\n",
            "Epoch 26/100\n",
            "100/100 [==============================] - 18s 179ms/step - loss: 0.1555 - acc: 0.9370 - val_loss: 0.2548 - val_acc: 0.9400\n",
            "Epoch 27/100\n",
            "100/100 [==============================] - 18s 180ms/step - loss: 0.1793 - acc: 0.9360 - val_loss: 0.0917 - val_acc: 0.9300\n",
            "Epoch 28/100\n",
            "100/100 [==============================] - 18s 181ms/step - loss: 0.1344 - acc: 0.9460 - val_loss: 0.0383 - val_acc: 0.9480\n",
            "Epoch 29/100\n",
            "100/100 [==============================] - 18s 179ms/step - loss: 0.1550 - acc: 0.9445 - val_loss: 0.1601 - val_acc: 0.9260\n",
            "Epoch 30/100\n",
            "100/100 [==============================] - 18s 184ms/step - loss: 0.1418 - acc: 0.9425 - val_loss: 0.1369 - val_acc: 0.9310\n",
            "Epoch 31/100\n",
            "100/100 [==============================] - 18s 179ms/step - loss: 0.1641 - acc: 0.9345 - val_loss: 0.0251 - val_acc: 0.9250\n",
            "Epoch 32/100\n",
            "100/100 [==============================] - 18s 179ms/step - loss: 0.1502 - acc: 0.9445 - val_loss: 0.9156 - val_acc: 0.9480\n",
            "Epoch 33/100\n",
            "100/100 [==============================] - 18s 180ms/step - loss: 0.1409 - acc: 0.9470 - val_loss: 0.1834 - val_acc: 0.9330\n",
            "Epoch 34/100\n",
            "100/100 [==============================] - 18s 180ms/step - loss: 0.1526 - acc: 0.9425 - val_loss: 0.3813 - val_acc: 0.9470\n",
            "Epoch 35/100\n",
            "100/100 [==============================] - 18s 179ms/step - loss: 0.1300 - acc: 0.9500 - val_loss: 0.2203 - val_acc: 0.9430\n",
            "Epoch 36/100\n",
            "100/100 [==============================] - 18s 181ms/step - loss: 0.1398 - acc: 0.9440 - val_loss: 0.6141 - val_acc: 0.9410\n",
            "Epoch 37/100\n",
            "100/100 [==============================] - 18s 181ms/step - loss: 0.1536 - acc: 0.9465 - val_loss: 1.7213 - val_acc: 0.9470\n",
            "Epoch 38/100\n",
            "100/100 [==============================] - 18s 180ms/step - loss: 0.1359 - acc: 0.9525 - val_loss: 0.0111 - val_acc: 0.9460\n",
            "Epoch 39/100\n",
            "100/100 [==============================] - 18s 179ms/step - loss: 0.1091 - acc: 0.9605 - val_loss: 0.0044 - val_acc: 0.9450\n",
            "Epoch 40/100\n",
            "100/100 [==============================] - 18s 179ms/step - loss: 0.1445 - acc: 0.9475 - val_loss: 0.0929 - val_acc: 0.9430\n",
            "Epoch 41/100\n",
            "100/100 [==============================] - 18s 181ms/step - loss: 0.1246 - acc: 0.9560 - val_loss: 0.0249 - val_acc: 0.9370\n",
            "Epoch 42/100\n",
            "100/100 [==============================] - 18s 183ms/step - loss: 0.1347 - acc: 0.9480 - val_loss: 0.1673 - val_acc: 0.9250\n",
            "Epoch 43/100\n",
            "100/100 [==============================] - 18s 179ms/step - loss: 0.1214 - acc: 0.9530 - val_loss: 0.0746 - val_acc: 0.9330\n",
            "Epoch 44/100\n",
            "100/100 [==============================] - 18s 180ms/step - loss: 0.1454 - acc: 0.9490 - val_loss: 0.0292 - val_acc: 0.9310\n",
            "Epoch 45/100\n",
            "100/100 [==============================] - 18s 180ms/step - loss: 0.1099 - acc: 0.9585 - val_loss: 0.0302 - val_acc: 0.9460\n",
            "Epoch 46/100\n",
            "100/100 [==============================] - 18s 181ms/step - loss: 0.1233 - acc: 0.9530 - val_loss: 0.0136 - val_acc: 0.9440\n",
            "Epoch 47/100\n",
            "100/100 [==============================] - 18s 182ms/step - loss: 0.1303 - acc: 0.9565 - val_loss: 0.1379 - val_acc: 0.9490\n",
            "Epoch 48/100\n",
            "100/100 [==============================] - 18s 181ms/step - loss: 0.1109 - acc: 0.9575 - val_loss: 0.2673 - val_acc: 0.9440\n",
            "Epoch 49/100\n",
            "100/100 [==============================] - 18s 180ms/step - loss: 0.1354 - acc: 0.9470 - val_loss: 3.9669e-04 - val_acc: 0.9460\n",
            "Epoch 50/100\n",
            "100/100 [==============================] - 18s 180ms/step - loss: 0.1103 - acc: 0.9555 - val_loss: 0.5722 - val_acc: 0.9490\n",
            "Epoch 51/100\n",
            "100/100 [==============================] - 18s 180ms/step - loss: 0.1268 - acc: 0.9565 - val_loss: 0.0984 - val_acc: 0.9470\n",
            "Epoch 52/100\n",
            "100/100 [==============================] - 18s 179ms/step - loss: 0.1159 - acc: 0.9575 - val_loss: 0.0510 - val_acc: 0.9460\n",
            "Epoch 53/100\n",
            "100/100 [==============================] - 18s 180ms/step - loss: 0.1109 - acc: 0.9570 - val_loss: 0.3812 - val_acc: 0.9370\n",
            "Epoch 54/100\n",
            "100/100 [==============================] - 18s 182ms/step - loss: 0.1219 - acc: 0.9565 - val_loss: 0.0028 - val_acc: 0.9470\n",
            "Epoch 55/100\n",
            "100/100 [==============================] - 18s 180ms/step - loss: 0.1255 - acc: 0.9515 - val_loss: 0.0071 - val_acc: 0.9400\n",
            "Epoch 56/100\n",
            "100/100 [==============================] - 18s 180ms/step - loss: 0.1015 - acc: 0.9580 - val_loss: 0.4666 - val_acc: 0.9330\n",
            "Epoch 57/100\n",
            "100/100 [==============================] - 18s 181ms/step - loss: 0.1097 - acc: 0.9605 - val_loss: 0.3607 - val_acc: 0.9410\n",
            "Epoch 58/100\n",
            "100/100 [==============================] - 18s 180ms/step - loss: 0.1163 - acc: 0.9630 - val_loss: 0.4825 - val_acc: 0.9420\n",
            "Epoch 59/100\n",
            "100/100 [==============================] - 18s 180ms/step - loss: 0.1214 - acc: 0.9530 - val_loss: 0.3258 - val_acc: 0.9350\n",
            "Epoch 60/100\n",
            "100/100 [==============================] - 18s 183ms/step - loss: 0.0957 - acc: 0.9660 - val_loss: 0.1753 - val_acc: 0.9390\n",
            "Epoch 61/100\n",
            "100/100 [==============================] - 18s 180ms/step - loss: 0.1214 - acc: 0.9515 - val_loss: 1.7421 - val_acc: 0.9370\n",
            "Epoch 62/100\n",
            "100/100 [==============================] - 18s 180ms/step - loss: 0.0979 - acc: 0.9685 - val_loss: 7.5835e-04 - val_acc: 0.9490\n",
            "Epoch 63/100\n",
            "100/100 [==============================] - 18s 179ms/step - loss: 0.0931 - acc: 0.9680 - val_loss: 0.0367 - val_acc: 0.9330\n",
            "Epoch 64/100\n",
            "100/100 [==============================] - 18s 183ms/step - loss: 0.1111 - acc: 0.9580 - val_loss: 0.1999 - val_acc: 0.9360\n",
            "Epoch 65/100\n",
            "100/100 [==============================] - 18s 182ms/step - loss: 0.0889 - acc: 0.9660 - val_loss: 0.2182 - val_acc: 0.9350\n",
            "Epoch 66/100\n",
            "100/100 [==============================] - 18s 180ms/step - loss: 0.1045 - acc: 0.9645 - val_loss: 0.0722 - val_acc: 0.9370\n",
            "Epoch 67/100\n",
            "100/100 [==============================] - 18s 180ms/step - loss: 0.1187 - acc: 0.9580 - val_loss: 0.2977 - val_acc: 0.9430\n",
            "Epoch 68/100\n",
            "100/100 [==============================] - 18s 179ms/step - loss: 0.0972 - acc: 0.9620 - val_loss: 0.0938 - val_acc: 0.9300\n",
            "Epoch 69/100\n",
            "100/100 [==============================] - 18s 181ms/step - loss: 0.0894 - acc: 0.9660 - val_loss: 0.1596 - val_acc: 0.9520\n",
            "Epoch 70/100\n",
            "100/100 [==============================] - 18s 179ms/step - loss: 0.1144 - acc: 0.9570 - val_loss: 0.3507 - val_acc: 0.9280\n",
            "Epoch 71/100\n",
            "100/100 [==============================] - 18s 181ms/step - loss: 0.0968 - acc: 0.9630 - val_loss: 0.3174 - val_acc: 0.9460\n",
            "Epoch 72/100\n",
            "100/100 [==============================] - 18s 180ms/step - loss: 0.0906 - acc: 0.9680 - val_loss: 0.1915 - val_acc: 0.9320\n",
            "Epoch 73/100\n",
            "100/100 [==============================] - 18s 181ms/step - loss: 0.1030 - acc: 0.9625 - val_loss: 1.7923e-04 - val_acc: 0.9530\n",
            "Epoch 74/100\n",
            "100/100 [==============================] - 18s 180ms/step - loss: 0.1043 - acc: 0.9630 - val_loss: 0.7363 - val_acc: 0.9430\n",
            "Epoch 75/100\n",
            "100/100 [==============================] - 18s 180ms/step - loss: 0.1039 - acc: 0.9640 - val_loss: 0.0169 - val_acc: 0.9470\n",
            "Epoch 76/100\n",
            "100/100 [==============================] - 18s 179ms/step - loss: 0.1022 - acc: 0.9625 - val_loss: 0.2352 - val_acc: 0.9400\n",
            "Epoch 77/100\n",
            "100/100 [==============================] - 18s 183ms/step - loss: 0.1010 - acc: 0.9665 - val_loss: 0.1319 - val_acc: 0.9350\n",
            "Epoch 78/100\n",
            "100/100 [==============================] - 18s 181ms/step - loss: 0.0943 - acc: 0.9655 - val_loss: 0.0989 - val_acc: 0.9300\n",
            "Epoch 79/100\n",
            "100/100 [==============================] - 18s 181ms/step - loss: 0.1012 - acc: 0.9665 - val_loss: 0.0020 - val_acc: 0.9490\n",
            "Epoch 80/100\n",
            "100/100 [==============================] - 18s 180ms/step - loss: 0.1008 - acc: 0.9650 - val_loss: 0.0558 - val_acc: 0.9310\n",
            "Epoch 81/100\n",
            "100/100 [==============================] - 18s 180ms/step - loss: 0.0769 - acc: 0.9735 - val_loss: 0.4938 - val_acc: 0.9340\n",
            "Epoch 82/100\n",
            "100/100 [==============================] - 18s 183ms/step - loss: 0.1139 - acc: 0.9620 - val_loss: 0.1090 - val_acc: 0.9390\n",
            "Epoch 83/100\n",
            "100/100 [==============================] - 18s 181ms/step - loss: 0.0970 - acc: 0.9615 - val_loss: 0.4930 - val_acc: 0.9400\n",
            "Epoch 84/100\n",
            "100/100 [==============================] - 18s 180ms/step - loss: 0.0983 - acc: 0.9610 - val_loss: 0.2043 - val_acc: 0.9410\n",
            "Epoch 85/100\n",
            "100/100 [==============================] - 18s 180ms/step - loss: 0.0888 - acc: 0.9705 - val_loss: 0.0707 - val_acc: 0.9340\n",
            "Epoch 86/100\n",
            "100/100 [==============================] - 18s 180ms/step - loss: 0.1161 - acc: 0.9660 - val_loss: 0.2558 - val_acc: 0.9460\n",
            "Epoch 87/100\n",
            "100/100 [==============================] - 18s 181ms/step - loss: 0.0906 - acc: 0.9650 - val_loss: 0.2228 - val_acc: 0.9480\n",
            "Epoch 88/100\n",
            "100/100 [==============================] - 18s 180ms/step - loss: 0.0885 - acc: 0.9700 - val_loss: 0.1781 - val_acc: 0.9390\n",
            "Epoch 89/100\n",
            "100/100 [==============================] - 18s 181ms/step - loss: 0.0917 - acc: 0.9660 - val_loss: 0.2142 - val_acc: 0.9480\n",
            "Epoch 90/100\n",
            "100/100 [==============================] - 18s 181ms/step - loss: 0.0732 - acc: 0.9715 - val_loss: 0.3803 - val_acc: 0.9430\n",
            "Epoch 91/100\n",
            "100/100 [==============================] - 18s 181ms/step - loss: 0.0935 - acc: 0.9690 - val_loss: 0.4340 - val_acc: 0.9490\n",
            "Epoch 92/100\n",
            "100/100 [==============================] - 18s 181ms/step - loss: 0.0794 - acc: 0.9750 - val_loss: 0.2660 - val_acc: 0.9460\n",
            "Epoch 93/100\n",
            "100/100 [==============================] - 18s 180ms/step - loss: 0.0905 - acc: 0.9665 - val_loss: 0.2517 - val_acc: 0.9500\n",
            "Epoch 94/100\n",
            "100/100 [==============================] - 18s 180ms/step - loss: 0.0942 - acc: 0.9700 - val_loss: 0.3178 - val_acc: 0.9310\n",
            "Epoch 95/100\n",
            "100/100 [==============================] - 18s 183ms/step - loss: 0.0927 - acc: 0.9665 - val_loss: 0.0693 - val_acc: 0.9320\n",
            "Epoch 96/100\n",
            "100/100 [==============================] - 18s 182ms/step - loss: 0.0921 - acc: 0.9690 - val_loss: 0.0048 - val_acc: 0.9470\n",
            "Epoch 97/100\n",
            "100/100 [==============================] - 18s 181ms/step - loss: 0.0936 - acc: 0.9635 - val_loss: 0.1125 - val_acc: 0.9360\n",
            "Epoch 98/100\n",
            "100/100 [==============================] - 18s 181ms/step - loss: 0.1017 - acc: 0.9625 - val_loss: 0.4735 - val_acc: 0.9480\n",
            "Epoch 99/100\n",
            "100/100 [==============================] - 18s 182ms/step - loss: 0.0670 - acc: 0.9710 - val_loss: 0.3747 - val_acc: 0.9440\n",
            "Epoch 100/100\n",
            "100/100 [==============================] - 18s 182ms/step - loss: 0.0820 - acc: 0.9725 - val_loss: 0.2748 - val_acc: 0.9470\n"
          ],
          "name": "stdout"
        }
      ]
    },
    {
      "cell_type": "markdown",
      "metadata": {
        "id": "eVBQgh5M-Rtz",
        "colab_type": "text"
      },
      "source": [
        "## Display learning curves during fine-tuning"
      ]
    },
    {
      "cell_type": "code",
      "metadata": {
        "id": "mbkIw7Ie-NP4",
        "colab_type": "code",
        "colab": {
          "base_uri": "https://localhost:8080/",
          "height": 545
        },
        "outputId": "6773b7de-8a5f-41b5-e507-17ebd9f8ba03"
      },
      "source": [
        "%matplotlib inline\n",
        "\n",
        "import matplotlib.pyplot as plt\n",
        "\n",
        "acc = history.history['acc']\n",
        "val_acc = history.history['val_acc']\n",
        "\n",
        "loss = history.history['loss']\n",
        "val_loss = history.history['val_loss']\n",
        "\n",
        "epochs = range(1, len(acc) + 1)\n",
        "\n",
        "# training and validation accuracy\n",
        "\n",
        "plt.plot(epochs, acc, 'bo', label='training acc')\n",
        "plt.plot(epochs, val_acc, 'b', label='validation acc')\n",
        "plt.title('training and validation accuracy')\n",
        "plt.legend()\n",
        "\n",
        "plt.figure()\n",
        "\n",
        "# training and validation loss\n",
        "\n",
        "plt.plot(epochs, loss, 'bo', label='training loss')\n",
        "plt.plot(epochs, val_loss, 'b', label='validation loss')\n",
        "plt.title('training and validation loss')\n",
        "plt.legend()\n",
        "\n",
        "plt.show()"
      ],
      "execution_count": 12,
      "outputs": [
        {
          "output_type": "display_data",
          "data": {
            "image/png": "[encoded data removed]",
            "text/plain": [
              "<Figure size 432x288 with 1 Axes>"
            ]
          },
          "metadata": {
            "tags": [],
            "needs_background": "light"
          }
        },
        {
          "output_type": "display_data",
          "data": {
            "image/png": "[encoded data removed]",
            "text/plain": [
              "<Figure size 432x288 with 1 Axes>"
            ]
          },
          "metadata": {
            "tags": [],
            "needs_background": "light"
          }
        }
      ]
    },
    {
      "cell_type": "markdown",
      "metadata": {
        "id": "PL60g3RDrtzd",
        "colab_type": "text"
      },
      "source": [
        "#Print out validation loss and accuracy"
      ]
    },
    {
      "cell_type": "code",
      "metadata": {
        "id": "RG7byb3_roKc",
        "colab_type": "code",
        "colab": {
          "base_uri": "https://localhost:8080/",
          "height": 51
        },
        "outputId": "5ca8dd28-3dc6-4450-8968-ef8e398cc472"
      },
      "source": [
        "val_loss, val_acc = model.evaluate_generator(validation_generator, steps=50)\n",
        "print(\"Validation loss:\", val_loss)\n",
        "print(\"Validation accuracy:\", val_acc)"
      ],
      "execution_count": 13,
      "outputs": [
        {
          "output_type": "stream",
          "text": [
            "Validation loss: 0.2748466730117798\n",
            "Validation accuracy: 0.9470000267028809\n"
          ],
          "name": "stdout"
        }
      ]
    },
    {
      "cell_type": "markdown",
      "metadata": {
        "id": "anlnG-12r-Qa",
        "colab_type": "text"
      },
      "source": [
        "# Save the model"
      ]
    },
    {
      "cell_type": "code",
      "metadata": {
        "id": "ZVI6GC_Rr9fv",
        "colab_type": "code",
        "colab": {}
      },
      "source": [
        "model_fname = 'cats_and_dogs_small_4.h5' \n",
        "model.save(model_fname)"
      ],
      "execution_count": 0,
      "outputs": []
    },
    {
      "cell_type": "markdown",
      "metadata": {
        "id": "VmeKtuNs9Qm1",
        "colab_type": "text"
      },
      "source": [
        "To download the model, uncomment the code below"
      ]
    },
    {
      "cell_type": "code",
      "metadata": {
        "id": "iKYzmt07xZZr",
        "colab_type": "code",
        "colab": {}
      },
      "source": [
        "# from google.colab import files\n",
        "\n",
        "# with open(model_fname, 'r') as f:\n",
        "#   files.download(model_fname)"
      ],
      "execution_count": 0,
      "outputs": []
    }
  ]
}